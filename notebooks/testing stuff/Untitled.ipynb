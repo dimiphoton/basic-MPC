{
 "cells": [
  {
   "cell_type": "code",
   "execution_count": 22,
   "metadata": {},
   "outputs": [],
   "source": [
    "import networkx as nx\n",
    "import matplotlib.pyplot as plt"
   ]
  },
  {
   "cell_type": "code",
   "execution_count": null,
   "metadata": {},
   "outputs": [],
   "source": [
    "class building:\n",
    "    def __init__(self, zones,interfaces):\n",
    "        self.zones=zones"
   ]
  },
  {
   "cell_type": "code",
   "execution_count": 25,
   "metadata": {},
   "outputs": [
    {
     "data": {
      "text/plain": [
       "EdgeDataView([('bedroom', 'kitchen', {'weight': 13, 'relation': 'friend', 'weight2': 1, 'relation2': 'lol'}), ('kitchen', 'garage', {'weight': 9, 'relation': 'family'})])"
      ]
     },
     "execution_count": 25,
     "metadata": {},
     "output_type": "execute_result"
    }
   ],
   "source": [
    "def initialiserG(G,)\n",
    "zones=[chambre1,chambre2,salon,cuisine,exterieur]\n",
    "\n",
    "\n",
    "G = nx.Graph()\n",
    "\n",
    "\n",
    "G.add_edge('bedroom','kitchen',weight=13,relation='friend',weight2=1,relation2='lol')\n",
    "G.add_edge('kitchen','garage',weight=9,relation='family')\n",
    "G.edges(data=True)\n",
    "\n"
   ]
  },
  {
   "cell_type": "code",
   "execution_count": 29,
   "metadata": {},
   "outputs": [
    {
     "data": {
      "text/plain": [
       "{('bedroom',\n",
       "  'kitchen'): Text(0.49999999999999967, 0.33596080067838874, \"{'weight': 13, 'relation': 'friend', 'weight2': 1, 'relation2': 'lol'}\"),\n",
       " ('kitchen',\n",
       "  'garage'): Text(-0.4813100323278215, -0.3234025842146061, \"{'weight': 9, 'relation': 'family'}\")}"
      ]
     },
     "execution_count": 29,
     "metadata": {},
     "output_type": "execute_result"
    },
    {
     "data": {
      "image/png": "[encoded data removed]",
      "text/plain": [
       "<Figure size 432x288 with 1 Axes>"
      ]
     },
     "metadata": {},
     "output_type": "display_data"
    }
   ],
   "source": [
    "nx.draw(G,with_labels=True, font_weight='bold')\n",
    "\n",
    "pos = nx.spring_layout(G)\n",
    "nx.draw_networkx_edge_labels(G,pos)"
   ]
  },
  {
   "cell_type": "code",
   "execution_count": null,
   "metadata": {},
   "outputs": [],
   "source": []
  },
  {
   "cell_type": "code",
   "execution_count": null,
   "metadata": {},
   "outputs": [],
   "source": []
  },
  {
   "cell_type": "code",
   "execution_count": null,
   "metadata": {},
   "outputs": [],
   "source": []
  },
  {
   "cell_type": "code",
   "execution_count": null,
   "metadata": {},
   "outputs": [],
   "source": []
  }
 ],
 "metadata": {
  "kernelspec": {
   "display_name": "Python 3.8.5 64-bit ('env_name': conda)",
   "name": "python385jvsc74a57bd0991948a7e28f05cb78ce8bca7b7e838256e39eec0cecc4b2eb551250b384d0ad"
  },
  "language_info": {
   "name": "python",
   "version": ""
  }
 },
 "nbformat": 4,
 "nbformat_minor": 4
}