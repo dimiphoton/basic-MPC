{
 "cells": [
  {
   "cell_type": "code",
   "execution_count": 55,
   "metadata": {},
   "outputs": [],
   "source": [
    "import os\n",
    "import pandas as pd\n",
    "import glob\n",
    "from pathlib import Path\n",
    "import matplotlib.pyplot as plt\n",
    "import seaborn as sns \n",
    "import numpy as np\n",
    "from datetime import datetime\n",
    "import scipy.signal as signal\n",
    "from scipy.integrate import odeint\n",
    "from scipy.optimize import minimize, rosen, rosen_der"
   ]
  },
  {
   "cell_type": "code",
   "execution_count": 34,
   "metadata": {},
   "outputs": [],
   "source": [
    "path = os.getcwd()\n",
    "csv_files = glob.glob(os.path.join(path, \"*.csv\"))\n"
   ]
  },
  {
   "cell_type": "code",
   "execution_count": null,
   "metadata": {},
   "outputs": [],
   "source": []
  },
  {
   "cell_type": "code",
   "execution_count": null,
   "metadata": {},
   "outputs": [],
   "source": []
  },
  {
   "cell_type": "code",
   "execution_count": 35,
   "metadata": {},
   "outputs": [],
   "source": [
    "data={}\n",
    "for file in csv_files:\n",
    "    \n",
    "    p=Path(file)\n",
    "    filename=p.with_suffix('').stem\n",
    "    finalfilename=filename.replace(\"temperature_\", \"\")\n",
    "    data[finalfilename]=pd.read_csv(p)\n",
    "    bad_data=data[finalfilename]\n",
    "\n"
   ]
  },
  {
   "cell_type": "code",
   "execution_count": null,
   "metadata": {},
   "outputs": [],
   "source": []
  },
  {
   "cell_type": "code",
   "execution_count": 340,
   "metadata": {},
   "outputs": [
    {
     "data": {
      "text/html": [
       "<div>\n",
       "<style scoped>\n",
       "    .dataframe tbody tr th:only-of-type {\n",
       "        vertical-align: middle;\n",
       "    }\n",
       "\n",
       "    .dataframe tbody tr th {\n",
       "        vertical-align: top;\n",
       "    }\n",
       "\n",
       "    .dataframe thead th {\n",
       "        text-align: right;\n",
       "    }\n",
       "</style>\n",
       "<table border=\"1\" class=\"dataframe\">\n",
       "  <thead>\n",
       "    <tr style=\"text-align: right;\">\n",
       "      <th></th>\n",
       "      <th>time</th>\n",
       "      <th>water_pressure</th>\n",
       "      <th>water_temperature</th>\n",
       "    </tr>\n",
       "  </thead>\n",
       "  <tbody>\n",
       "    <tr>\n",
       "      <th>102681</th>\n",
       "      <td>2021-05-24T16:55:03Z</td>\n",
       "      <td>1.2</td>\n",
       "      <td>26</td>\n",
       "    </tr>\n",
       "    <tr>\n",
       "      <th>102682</th>\n",
       "      <td>2021-05-24T17:00:04Z</td>\n",
       "      <td>1.5</td>\n",
       "      <td>30</td>\n",
       "    </tr>\n",
       "    <tr>\n",
       "      <th>102683</th>\n",
       "      <td>2021-05-24T17:05:03Z</td>\n",
       "      <td>1.2</td>\n",
       "      <td>29</td>\n",
       "    </tr>\n",
       "    <tr>\n",
       "      <th>102684</th>\n",
       "      <td>2021-05-24T17:10:03Z</td>\n",
       "      <td>1.2</td>\n",
       "      <td>29</td>\n",
       "    </tr>\n",
       "    <tr>\n",
       "      <th>102685</th>\n",
       "      <td>2021-05-24T17:15:04Z</td>\n",
       "      <td>1.5</td>\n",
       "      <td>29</td>\n",
       "    </tr>\n",
       "  </tbody>\n",
       "</table>\n",
       "</div>"
      ],
      "text/plain": [
       "                        time  water_pressure  water_temperature\n",
       "102681  2021-05-24T16:55:03Z             1.2                 26\n",
       "102682  2021-05-24T17:00:04Z             1.5                 30\n",
       "102683  2021-05-24T17:05:03Z             1.2                 29\n",
       "102684  2021-05-24T17:10:03Z             1.2                 29\n",
       "102685  2021-05-24T17:15:04Z             1.5                 29"
      ]
     },
     "execution_count": 340,
     "metadata": {},
     "output_type": "execute_result"
    }
   ],
   "source": [
    "data['heating_system'].tail(5)"
   ]
  },
  {
   "cell_type": "code",
   "execution_count": 37,
   "metadata": {},
   "outputs": [
    {
     "data": {
      "text/plain": [
       "dict_keys(['pv_production_load', 'bathroom', 'bedroom_1', 'bedroom_2', 'bedroom_3', 'diningroom', 'heating_system', 'kitchen', 'livingroom', 'outside'])"
      ]
     },
     "execution_count": 37,
     "metadata": {},
     "output_type": "execute_result"
    }
   ],
   "source": [
    "data.keys()\n"
   ]
  },
  {
   "cell_type": "code",
   "execution_count": 338,
   "metadata": {},
   "outputs": [
    {
     "data": {
      "text/html": [
       "<div>\n",
       "<style scoped>\n",
       "    .dataframe tbody tr th:only-of-type {\n",
       "        vertical-align: middle;\n",
       "    }\n",
       "\n",
       "    .dataframe tbody tr th {\n",
       "        vertical-align: top;\n",
       "    }\n",
       "\n",
       "    .dataframe thead th {\n",
       "        text-align: right;\n",
       "    }\n",
       "</style>\n",
       "<table border=\"1\" class=\"dataframe\">\n",
       "  <thead>\n",
       "    <tr style=\"text-align: right;\">\n",
       "      <th></th>\n",
       "      <th>time</th>\n",
       "      <th>current_value</th>\n",
       "      <th>setpoint</th>\n",
       "    </tr>\n",
       "  </thead>\n",
       "  <tbody>\n",
       "    <tr>\n",
       "      <th>0</th>\n",
       "      <td>2020-05-24T17:15:03Z</td>\n",
       "      <td>21.8</td>\n",
       "      <td>21.0</td>\n",
       "    </tr>\n",
       "    <tr>\n",
       "      <th>1</th>\n",
       "      <td>2020-05-24T17:20:03Z</td>\n",
       "      <td>21.8</td>\n",
       "      <td>21.0</td>\n",
       "    </tr>\n",
       "    <tr>\n",
       "      <th>2</th>\n",
       "      <td>2020-05-24T17:25:03Z</td>\n",
       "      <td>21.8</td>\n",
       "      <td>21.0</td>\n",
       "    </tr>\n",
       "    <tr>\n",
       "      <th>3</th>\n",
       "      <td>2020-05-24T17:30:04Z</td>\n",
       "      <td>21.8</td>\n",
       "      <td>21.0</td>\n",
       "    </tr>\n",
       "    <tr>\n",
       "      <th>4</th>\n",
       "      <td>2020-05-24T17:35:04Z</td>\n",
       "      <td>22.1</td>\n",
       "      <td>21.0</td>\n",
       "    </tr>\n",
       "  </tbody>\n",
       "</table>\n",
       "</div>"
      ],
      "text/plain": [
       "                   time  current_value  setpoint\n",
       "0  2020-05-24T17:15:03Z           21.8      21.0\n",
       "1  2020-05-24T17:20:03Z           21.8      21.0\n",
       "2  2020-05-24T17:25:03Z           21.8      21.0\n",
       "3  2020-05-24T17:30:04Z           21.8      21.0\n",
       "4  2020-05-24T17:35:04Z           22.1      21.0"
      ]
     },
     "execution_count": 338,
     "metadata": {},
     "output_type": "execute_result"
    }
   ],
   "source": [
    "data['livingroom'].tail()"
   ]
  },
  {
   "cell_type": "code",
   "execution_count": 39,
   "metadata": {},
   "outputs": [],
   "source": [
    "npdata={}\n",
    "for key in data.keys():\n",
    "    npdata[key]=data[key].to_numpy()"
   ]
  },
  {
   "cell_type": "code",
   "execution_count": 347,
   "metadata": {},
   "outputs": [
    {
     "data": {
      "text/plain": [
       "array([[None, None, None],\n",
       "       [None, None, None],\n",
       "       [None, None, None],\n",
       "       ...,\n",
       "       [None, None, None],\n",
       "       [None, None, None],\n",
       "       [None, None, None]], dtype=object)"
      ]
     },
     "execution_count": 347,
     "metadata": {},
     "output_type": "execute_result"
    }
   ],
   "source": [
    "npdata['average'] = np.empty_like(npdata['kitchen'])\n"
   ]
  },
  {
   "cell_type": "code",
   "execution_count": 41,
   "metadata": {},
   "outputs": [
    {
     "data": {
      "text/plain": [
       "dict_keys(['pv_production_load', 'bathroom', 'bedroom_1', 'bedroom_2', 'bedroom_3', 'diningroom', 'heating_system', 'kitchen', 'livingroom', 'outside', 'average'])"
      ]
     },
     "execution_count": 41,
     "metadata": {},
     "output_type": "execute_result"
    }
   ],
   "source": [
    "npdata.keys()"
   ]
  },
  {
   "cell_type": "code",
   "execution_count": 42,
   "metadata": {},
   "outputs": [],
   "source": [
    "area={}\n",
    "area['bathroom']=54*(514-232)\n",
    "area['annex_bathroom']=(1388-1283)*(514-230)\n",
    "area['kitchen']=(911-640)*(511-234)\n",
    "area['bedroom_1']=(1277-1013)*(512-235)\n",
    "area['bedroom_2']=(1165-1014)*(717-618)+(1229-1003)*(816-716)+(1329-1012)*(893-819)\n",
    "area['bedroom_3']=(1551-1341)*(896-612)\n",
    "area['bathroom_2']=(1326-1238)*(805-716)\n",
    "area['annex_bathroom_2']=(1330-1175)*(708-614)\n",
    "area['diningroom']=(634-374)*(512-234)\n",
    "area['stairs']=(914-371)*(605-519)+(1385-1010)*(606-519)\n",
    "area['storage']=(1549-1396)+(606-520)\n",
    "area['diningroom']=(676-371)*(895-616)\n",
    "area['annex_livingroom']=(914-685)*(893-614)"
   ]
  },
  {
   "cell_type": "code",
   "execution_count": 375,
   "metadata": {},
   "outputs": [],
   "source": [
    "\n",
    "\n",
    "for i in range(0,npdata['average'].shape[0]):\n",
    "    stamp = npdata['kitchen'][i][0]\n",
    "    temperature = np.average([npdata['bathroom'][i][1],\n",
    "                             npdata['bedroom_1'][i][1],\n",
    "                             npdata['bedroom_2'][i][1],\n",
    "                             npdata['bedroom_3'][i][1],\n",
    "                             npdata['diningroom'][i][1],\n",
    "                             npdata['kitchen'][i][1],\n",
    "                             npdata['livingroom'][i][1]])\n",
    "    setpoint =  np.average([npdata['bathroom'][i][2],\n",
    "                             npdata['bedroom_1'][i][2],\n",
    "                             npdata['bedroom_2'][i][2],\n",
    "                             npdata['bedroom_3'][i][2],\n",
    "                             npdata['diningroom'][i][2],\n",
    "                             npdata['kitchen'][i][2],\n",
    "                             npdata['livingroom'][i][2]])\n",
    "    npdata['average'][i] = np.array([0,temperature,setpoint])"
   ]
  },
  {
   "cell_type": "code",
   "execution_count": 376,
   "metadata": {},
   "outputs": [
    {
     "data": {
      "text/plain": [
       "array([0.0, 21.97142857142857, 17.714285714285715], dtype=object)"
      ]
     },
     "execution_count": 376,
     "metadata": {},
     "output_type": "execute_result"
    }
   ],
   "source": [
    "npdata['average'][0]"
   ]
  },
  {
   "cell_type": "code",
   "execution_count": 208,
   "metadata": {},
   "outputs": [
    {
     "data": {
      "text/plain": [
       "array([0.0, 0.0, 0.0, ..., 0.0, 0.0, 0.0], dtype=object)"
      ]
     },
     "execution_count": 208,
     "metadata": {},
     "output_type": "execute_result"
    }
   ],
   "source": [
    "def moving_average(x, w):\n",
    "    return np.convolve(x, np.ones(w), 'valid') / w\n",
    "solardata = moving_average(npdata['pv_production_load'][:,1],12)\n",
    "test"
   ]
  },
  {
   "cell_type": "code",
   "execution_count": null,
   "metadata": {},
   "outputs": [],
   "source": []
  },
  {
   "cell_type": "code",
   "execution_count": null,
   "metadata": {},
   "outputs": [],
   "source": []
  },
  {
   "cell_type": "code",
   "execution_count": 246,
   "metadata": {},
   "outputs": [],
   "source": [
    "def controlfunction(Trad, setT, Fmin, Fmax):\n",
    "    if Trad < (setT -2):\n",
    "        return Fmax\n",
    "    elif Trad > (setT+2):\n",
    "        return Fmin\n",
    "    else:\n",
    "        return Fmax - (Fmax-Fmin)*(Trad-setT)/4"
   ]
  },
  {
   "cell_type": "code",
   "execution_count": 247,
   "metadata": {},
   "outputs": [
    {
     "data": {
      "text/plain": [
       "array([1.3, 1.6, 1.3, ..., 1.2, 1.2, 1.5], dtype=object)"
      ]
     },
     "execution_count": 247,
     "metadata": {},
     "output_type": "execute_result"
    }
   ],
   "source": [
    "npdata['heating_system'][:,1]"
   ]
  },
  {
   "cell_type": "code",
   "execution_count": 386,
   "metadata": {},
   "outputs": [],
   "source": [
    "#params0=[C_eau,C_zone,R_rad2zone, R_zone2ext,solarparameter,controlfunction_parameter1,controlfunction_parameter2]\n",
    "#externe=[T_ext,setT,controlfunction,solardata,T_boiler]\n",
    "\n",
    "# function that returns dstate/dt\n",
    "\n",
    "#probleme à résoudre : le modèle dépend de la température extérieure qui change\n",
    "\n",
    "externe = [npdata['outside'][:,1],npdata['average'][:,2],\n",
    "           controlfunction,solardata, npdata['heating_system'][:,2]]\n",
    "solardata = npdata['pv_production_load'][:,1]\n",
    "\n",
    "def model0(X,t,params0):\n",
    "    \n",
    "    \n",
    "    \n",
    "    T_rad, T_zone = X\n",
    "    \n",
    "    dT_zone = ((externe[0][round(t)]-T_zone)/params0[3]\n",
    "               + (T_rad-externe[0][round(t)])/params0[2]\n",
    "               + params0[4]*externe[3][round(t)])/params0[1]\n",
    "    \n",
    "    dT_rad = externe[2](T_rad,float(externe[1][round(t)]),params0[5],params0[6]) * (externe[4][round(t)]-T_rad)/params0[0]\n",
    "    \n",
    "    \n",
    "    \n",
    "    return [dT_rad, dT_zone]\n",
    "    \n",
    "\n",
    "    "
   ]
  },
  {
   "cell_type": "code",
   "execution_count": 387,
   "metadata": {},
   "outputs": [
    {
     "data": {
      "text/plain": [
       "17.714285714285715"
      ]
     },
     "execution_count": 387,
     "metadata": {},
     "output_type": "execute_result"
    }
   ],
   "source": [
    "externe[1][round(0.5)]"
   ]
  },
  {
   "cell_type": "code",
   "execution_count": 388,
   "metadata": {},
   "outputs": [
    {
     "data": {
      "text/plain": [
       "15"
      ]
     },
     "execution_count": 388,
     "metadata": {},
     "output_type": "execute_result"
    }
   ],
   "source": [
    "controlfunction(10,float(externe[1][round(0.5)]),9,15)"
   ]
  },
  {
   "cell_type": "code",
   "execution_count": null,
   "metadata": {},
   "outputs": [],
   "source": []
  },
  {
   "cell_type": "code",
   "execution_count": 389,
   "metadata": {},
   "outputs": [
    {
     "data": {
      "text/plain": [
       "102686"
      ]
     },
     "execution_count": 389,
     "metadata": {},
     "output_type": "execute_result"
    }
   ],
   "source": [
    "params0=[500,100,100,100,100,1,1]\n",
    "y0=[npdata['heating_system'][0][1],npdata['heating_system'][0][1]]\n",
    "\n",
    "nbligne=len(npdata['bathroom'])\n",
    "\n",
    "ret=odeint(model0, y0, t = np.linspace(-0.5, 10 -0.5, 10), args=(params0,))\n",
    "\n",
    "nbligne"
   ]
  },
  {
   "cell_type": "code",
   "execution_count": 390,
   "metadata": {},
   "outputs": [
    {
     "data": {
      "text/plain": [
       "0.7592847208946516"
      ]
     },
     "execution_count": 390,
     "metadata": {},
     "output_type": "execute_result"
    }
   ],
   "source": [
    "np.sum((ret[:,0]-ret[:,1])**2)"
   ]
  },
  {
   "cell_type": "code",
   "execution_count": 406,
   "metadata": {},
   "outputs": [],
   "source": [
    "def residual(ps):\n",
    "    #cette fonction doit donner une valeur en fonction des paramètres\n",
    "    \n",
    "    sim =  odeint(model0, y0, t = np.linspace(10-0.5, nbligne-0.5-10, nbligne-20), args=(ps,))\n",
    "    return np.sum((sim[:,1]-npdata['average'][10:-10,1])**2)"
   ]
  },
  {
   "cell_type": "code",
   "execution_count": 407,
   "metadata": {},
   "outputs": [
    {
     "data": {
      "text/plain": [
       "22.085714285714285"
      ]
     },
     "execution_count": 407,
     "metadata": {},
     "output_type": "execute_result"
    }
   ],
   "source": [
    "npdata['average'][10:-10,1][0]"
   ]
  },
  {
   "cell_type": "code",
   "execution_count": 408,
   "metadata": {},
   "outputs": [
    {
     "data": {
      "text/plain": [
       "array([[1.3       , 1.3       ],\n",
       "       [1.35038845, 1.3000028 ],\n",
       "       [1.40110939, 1.3000112 ],\n",
       "       [1.45349315, 1.30002534],\n",
       "       [1.50576062, 1.3000453 ],\n",
       "       [1.55791208, 1.30007105],\n",
       "       [1.60994777, 1.30010259],\n",
       "       [1.66186795, 1.3001399 ],\n",
       "       [1.71367288, 1.30018297],\n",
       "       [1.76536282, 1.30023178]])"
      ]
     },
     "execution_count": 408,
     "metadata": {},
     "output_type": "execute_result"
    }
   ],
   "source": [
    "odeint(model0, y0, t = np.linspace(-0.5, 10 -0.5, 10), args=(params0,))"
   ]
  },
  {
   "cell_type": "code",
   "execution_count": 409,
   "metadata": {},
   "outputs": [
    {
     "data": {
      "text/plain": [
       "7.710842038850871e+17"
      ]
     },
     "execution_count": 409,
     "metadata": {},
     "output_type": "execute_result"
    }
   ],
   "source": [
    "residual(params0)"
   ]
  },
  {
   "cell_type": "code",
   "execution_count": null,
   "metadata": {},
   "outputs": [],
   "source": [
    "result = minimize(residual,params0)"
   ]
  },
  {
   "cell_type": "code",
   "execution_count": null,
   "metadata": {},
   "outputs": [],
   "source": []
  }
 ],
 "metadata": {
  "kernelspec": {
   "display_name": "Python 3.8.5 64-bit ('env_name': conda)",
   "name": "python385jvsc74a57bd0991948a7e28f05cb78ce8bca7b7e838256e39eec0cecc4b2eb551250b384d0ad"
  },
  "language_info": {
   "name": "python",
   "version": ""
  }
 },
 "nbformat": 4,
 "nbformat_minor": 5
}