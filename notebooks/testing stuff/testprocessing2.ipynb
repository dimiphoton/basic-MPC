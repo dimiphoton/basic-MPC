{
 "cells": [
  {
   "cell_type": "code",
   "execution_count": 1,
   "metadata": {},
   "outputs": [],
   "source": [
    "import os\r\n",
    "import pandas as pd\r\n",
    "import numpy as np\r\n",
    "from datetime import datetime, timedelta\r\n",
    "import glob\r\n",
    "from pathlib import Path\r\n",
    "import matplotlib.pyplot as plt\r\n",
    "import random\r\n",
    "from scipy.fft import fft, ifft"
   ]
  },
  {
   "cell_type": "code",
   "execution_count": 2,
   "metadata": {},
   "outputs": [],
   "source": [
    "path='c:\\\\Users\\\\DimiP\\\\Documents\\\\GitHub\\\\ULG\\\\COURS\\\\basic-MPC\\\\data\\\\raw'\r\n",
    "csv_files = glob.glob(os.path.join(path, \"*.csv\"))\r\n",
    "data={}\r\n",
    "for file in csv_files:\r\n",
    "    \r\n",
    "    p=Path(file)\r\n",
    "    filename=p.with_suffix('').stem\r\n",
    "    finalfilename=filename.replace(\"temperature_\", \"\")\r\n",
    "    temp=pd.read_csv(p)\r\n",
    "    data[finalfilename]="
   ]
  }
 ],
 "metadata": {
  "kernelspec": {
   "display_name": "Python 3.9.7 64-bit ('bigdataproject': conda)",
   "name": "python397jvsc74a57bd0cbfc53ad4f2fa7e0d14288d3fb4f5137b2b627ba0faf177bd227d8c7033cb555"
  },
  "language_info": {
   "codemirror_mode": {
    "name": "ipython",
    "version": 3
   },
   "file_extension": ".py",
   "mimetype": "text/x-python",
   "name": "python",
   "nbconvert_exporter": "python",
   "pygments_lexer": "ipython3",
   "version": "3.9.7"
  },
  "orig_nbformat": 2
 },
 "nbformat": 4,
 "nbformat_minor": 2
}