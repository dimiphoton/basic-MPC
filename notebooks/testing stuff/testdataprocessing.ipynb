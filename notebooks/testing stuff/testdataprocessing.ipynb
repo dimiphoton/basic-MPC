{
 "cells": [
  {
   "cell_type": "code",
   "execution_count": 1,
   "metadata": {},
   "outputs": [],
   "source": [
    "import os\n",
    "import pandas as pd\n",
    "import numpy as np\n",
    "from datetime import datetime, timedelta\n",
    "import glob\n",
    "from pathlib import Path\n",
    "import matplotlib.pyplot as plt\n",
    "import random\n",
    "from scipy.fft import fft, ifft"
   ]
  },
  {
   "cell_type": "code",
   "execution_count": 2,
   "metadata": {},
   "outputs": [],
   "source": [
    "import sys\n",
    "sys.path.append('C:/Users/DimiP/Documents/GitHub/ULG/COURS/basic-MPC/src')\n",
    "from features import process_utils\n",
    "%reload_ext autoreload"
   ]
  },
  {
   "cell_type": "code",
   "execution_count": 3,
   "metadata": {},
   "outputs": [
    {
     "data": {
      "text/plain": [
       "<module 'features.process_utils' from 'C:/Users/DimiP/Documents/GitHub/ULG/COURS/basic-MPC/src\\\\features\\\\process_utils.py'>"
      ]
     },
     "execution_count": 3,
     "metadata": {},
     "output_type": "execute_result"
    }
   ],
   "source": [
    "import importlib\n",
    "importlib.reload(process_utils)"
   ]
  },
  {
   "cell_type": "code",
   "execution_count": 4,
   "metadata": {},
   "outputs": [],
   "source": [
    "#création des dicts de dataframe\n",
    "path='c:\\\\Users\\\\DimiP\\\\Documents\\\\GitHub\\\\ULG\\\\COURS\\\\basic-MPC\\\\data\\\\raw'\n",
    "csv_files = glob.glob(os.path.join(path, \"*.csv\"))\n",
    "data={}\n",
    "for file in csv_files:\n",
    "    \n",
    "    p=Path(file)\n",
    "    filename=p.with_suffix('').stem\n",
    "    finalfilename=filename.replace(\"temperature_\", \"\")\n",
    "    data[finalfilename]=pd.read_csv(p)\n",
    "    data[finalfilename].index=data[finalfilename]['time'].apply(lambda x: process_utils.convertdate(x))\n",
    "\n",
    "\n",
    "    "
   ]
  },
  {
   "cell_type": "code",
   "execution_count": 6,
   "metadata": {},
   "outputs": [
    {
     "data": {
      "text/plain": [
       "dict_keys(['big_df', 'pv_production_load', 'bathroom', 'bedroom_1', 'bedroom_2', 'bedroom_3', 'diningroom', 'heating_system', 'kitchen', 'livingroom', 'outside'])"
      ]
     },
     "execution_count": 6,
     "metadata": {},
     "output_type": "execute_result"
    }
   ],
   "source": [
    "data.keys()"
   ]
  },
  {
   "cell_type": "code",
   "execution_count": 7,
   "metadata": {},
   "outputs": [
    {
     "data": {
      "text/html": [
       "<div>\n",
       "<style scoped>\n",
       "    .dataframe tbody tr th:only-of-type {\n",
       "        vertical-align: middle;\n",
       "    }\n",
       "\n",
       "    .dataframe tbody tr th {\n",
       "        vertical-align: top;\n",
       "    }\n",
       "\n",
       "    .dataframe thead th {\n",
       "        text-align: right;\n",
       "    }\n",
       "</style>\n",
       "<table border=\"1\" class=\"dataframe\">\n",
       "  <thead>\n",
       "    <tr style=\"text-align: right;\">\n",
       "      <th></th>\n",
       "      <th>time</th>\n",
       "      <th>water_pressure</th>\n",
       "      <th>water_temperature</th>\n",
       "    </tr>\n",
       "    <tr>\n",
       "      <th>time</th>\n",
       "      <th></th>\n",
       "      <th></th>\n",
       "      <th></th>\n",
       "    </tr>\n",
       "  </thead>\n",
       "  <tbody>\n",
       "    <tr>\n",
       "      <th>2020-05-24 17:20:03</th>\n",
       "      <td>2020-05-24T17:20:03Z</td>\n",
       "      <td>1.3</td>\n",
       "      <td>24</td>\n",
       "    </tr>\n",
       "    <tr>\n",
       "      <th>2020-05-24 17:25:03</th>\n",
       "      <td>2020-05-24T17:25:03Z</td>\n",
       "      <td>1.6</td>\n",
       "      <td>24</td>\n",
       "    </tr>\n",
       "  </tbody>\n",
       "</table>\n",
       "</div>"
      ],
      "text/plain": [
       "                                     time  water_pressure  water_temperature\n",
       "time                                                                        \n",
       "2020-05-24 17:20:03  2020-05-24T17:20:03Z             1.3                 24\n",
       "2020-05-24 17:25:03  2020-05-24T17:25:03Z             1.6                 24"
      ]
     },
     "execution_count": 7,
     "metadata": {},
     "output_type": "execute_result"
    }
   ],
   "source": [
    "data['heating_system'].head(2)"
   ]
  },
  {
   "cell_type": "code",
   "execution_count": 8,
   "metadata": {},
   "outputs": [],
   "source": [
    "data['pv_production_load'].columns = ['time', 'L1_PV', 'L2_PV', 'L3_PV', 'L1_Load', 'L2_Load','L3_Load']"
   ]
  },
  {
   "cell_type": "code",
   "execution_count": 9,
   "metadata": {},
   "outputs": [],
   "source": [
    "pv=data['pv_production_load'].to_numpy()\n",
    "heating=data['heating_system'].to_numpy()"
   ]
  },
  {
   "cell_type": "code",
   "execution_count": 10,
   "metadata": {},
   "outputs": [],
   "source": [
    "#dataframe avec index seul\n",
    "\n",
    "big_df = pd.DataFrame(index=data['kitchen'].index)\n",
    "#big_df['total sun'] = np.abs(pv[:,1])+np.abs(pv[:,2])+np.abs(pv[:,3])\n",
    "#big_df['pv load'] = np.abs(pv[:,4])+np.abs(pv[:,5])+np.abs(pv[:,6])"
   ]
  },
  {
   "cell_type": "code",
   "execution_count": 203,
   "metadata": {},
   "outputs": [],
   "source": [
    "#data['pv_production_load']['datetime_obj']=data['pv_production_load'].apply(lambda x: process_utils.infodate(x['time'])[0],axis=1)\n"
   ]
  },
  {
   "cell_type": "code",
   "execution_count": 11,
   "metadata": {},
   "outputs": [],
   "source": [
    "date_array = [process_utils.datetimeobj(x) for x in big_df.index]\n"
   ]
  },
  {
   "cell_type": "code",
   "execution_count": 12,
   "metadata": {},
   "outputs": [],
   "source": [
    "df_add = pd.DataFrame(data=date_array,columns=['perc_D','week_D','number_D','year'],index=big_df.index)"
   ]
  },
  {
   "cell_type": "code",
   "execution_count": 13,
   "metadata": {},
   "outputs": [],
   "source": [
    "big_df = pd.concat([big_df,df_add], axis=1)"
   ]
  },
  {
   "cell_type": "code",
   "execution_count": 14,
   "metadata": {},
   "outputs": [],
   "source": [
    "mesT_df=pd.concat([data[key]['current_value'].dropna() for key in ['bathroom', 'bedroom_1', 'bedroom_2', 'bedroom_3',\n",
    " 'diningroom', 'kitchen', 'livingroom']],axis=1)\n",
    "setT_df=pd.concat([data[key]['setpoint'] for key in ['bathroom', 'bedroom_1', 'bedroom_2', 'bedroom_3',\n",
    " 'diningroom', 'kitchen', 'livingroom']],axis=1)"
   ]
  },
  {
   "cell_type": "code",
   "execution_count": 15,
   "metadata": {},
   "outputs": [],
   "source": [
    "big_df['multizone_mesT']=mesT_df.apply(list,axis=1)\n",
    "big_df['multizone_setT']=setT_df.apply(list,axis=1)\n",
    "big_df['outside_mesT']=data['outside']['current_value']\n",
    "finaldf=big_df[big_df.index>pd.to_datetime('2020-05-24 19:40:03')]\n"
   ]
  },
  {
   "cell_type": "code",
   "execution_count": 18,
   "metadata": {},
   "outputs": [],
   "source": [
    "def sum_nonneg(x):\n",
    "    return sum(max(i,0) for i in x)\n",
    "#data['pv_production_load']['PV'] = data['pv_production_load'][['L1_PV','L2_PV','L3_PV']].apply(lambda x: sum_nonneg(list(x)))\n",
    "#data['pv_production_load']['PV_load'] = data['pv_production_load'][['L1_Load','L2_Load','L3_Load']].apply(lambda x: sum_nonneg(list(x)))\n"
   ]
  },
  {
   "cell_type": "code",
   "execution_count": 19,
   "metadata": {},
   "outputs": [],
   "source": [
    "pv_df=data['pv_production_load'].reindex(index=big_df.index,method='nearest')\n",
    "heating_df=data['heating_system'].reindex(index=big_df.index,method='nearest')\n",
    "#[data['pv_production_load'].index > big_df.index.min() ]"
   ]
  },
  {
   "cell_type": "code",
   "execution_count": 20,
   "metadata": {},
   "outputs": [
    {
     "data": {
      "text/html": [
       "<div>\n",
       "<style scoped>\n",
       "    .dataframe tbody tr th:only-of-type {\n",
       "        vertical-align: middle;\n",
       "    }\n",
       "\n",
       "    .dataframe tbody tr th {\n",
       "        vertical-align: top;\n",
       "    }\n",
       "\n",
       "    .dataframe thead th {\n",
       "        text-align: right;\n",
       "    }\n",
       "</style>\n",
       "<table border=\"1\" class=\"dataframe\">\n",
       "  <thead>\n",
       "    <tr style=\"text-align: right;\">\n",
       "      <th></th>\n",
       "      <th>time</th>\n",
       "      <th>L1_PV</th>\n",
       "      <th>L2_PV</th>\n",
       "      <th>L3_PV</th>\n",
       "      <th>L1_Load</th>\n",
       "      <th>L2_Load</th>\n",
       "      <th>L3_Load</th>\n",
       "    </tr>\n",
       "    <tr>\n",
       "      <th>time</th>\n",
       "      <th></th>\n",
       "      <th></th>\n",
       "      <th></th>\n",
       "      <th></th>\n",
       "      <th></th>\n",
       "      <th></th>\n",
       "      <th></th>\n",
       "    </tr>\n",
       "  </thead>\n",
       "  <tbody>\n",
       "    <tr>\n",
       "      <th>2020-05-24 17:15:03</th>\n",
       "      <td>2020-05-22T08:24:02Z</td>\n",
       "      <td>240.0</td>\n",
       "      <td>124.0</td>\n",
       "      <td>241.0</td>\n",
       "      <td>22.0</td>\n",
       "      <td>229.0</td>\n",
       "      <td>91</td>\n",
       "    </tr>\n",
       "    <tr>\n",
       "      <th>2020-05-24 17:20:03</th>\n",
       "      <td>2020-05-22T08:24:02Z</td>\n",
       "      <td>240.0</td>\n",
       "      <td>124.0</td>\n",
       "      <td>241.0</td>\n",
       "      <td>22.0</td>\n",
       "      <td>229.0</td>\n",
       "      <td>91</td>\n",
       "    </tr>\n",
       "  </tbody>\n",
       "</table>\n",
       "</div>"
      ],
      "text/plain": [
       "                                     time  L1_PV  L2_PV  L3_PV  L1_Load  \\\n",
       "time                                                                      \n",
       "2020-05-24 17:15:03  2020-05-22T08:24:02Z  240.0  124.0  241.0     22.0   \n",
       "2020-05-24 17:20:03  2020-05-22T08:24:02Z  240.0  124.0  241.0     22.0   \n",
       "\n",
       "                     L2_Load  L3_Load  \n",
       "time                                   \n",
       "2020-05-24 17:15:03    229.0       91  \n",
       "2020-05-24 17:20:03    229.0       91  "
      ]
     },
     "execution_count": 20,
     "metadata": {},
     "output_type": "execute_result"
    }
   ],
   "source": [
    "pv_df.head(2)"
   ]
  },
  {
   "cell_type": "code",
   "execution_count": 21,
   "metadata": {},
   "outputs": [
    {
     "data": {
      "text/html": [
       "<div>\n",
       "<style scoped>\n",
       "    .dataframe tbody tr th:only-of-type {\n",
       "        vertical-align: middle;\n",
       "    }\n",
       "\n",
       "    .dataframe tbody tr th {\n",
       "        vertical-align: top;\n",
       "    }\n",
       "\n",
       "    .dataframe thead th {\n",
       "        text-align: right;\n",
       "    }\n",
       "</style>\n",
       "<table border=\"1\" class=\"dataframe\">\n",
       "  <thead>\n",
       "    <tr style=\"text-align: right;\">\n",
       "      <th></th>\n",
       "      <th>time</th>\n",
       "      <th>water_pressure</th>\n",
       "      <th>water_temperature</th>\n",
       "    </tr>\n",
       "    <tr>\n",
       "      <th>time</th>\n",
       "      <th></th>\n",
       "      <th></th>\n",
       "      <th></th>\n",
       "    </tr>\n",
       "  </thead>\n",
       "  <tbody>\n",
       "    <tr>\n",
       "      <th>2020-05-24 17:15:03</th>\n",
       "      <td>2020-05-24T17:20:03Z</td>\n",
       "      <td>1.3</td>\n",
       "      <td>24</td>\n",
       "    </tr>\n",
       "    <tr>\n",
       "      <th>2020-05-24 17:20:03</th>\n",
       "      <td>2020-05-24T17:20:03Z</td>\n",
       "      <td>1.3</td>\n",
       "      <td>24</td>\n",
       "    </tr>\n",
       "  </tbody>\n",
       "</table>\n",
       "</div>"
      ],
      "text/plain": [
       "                                     time  water_pressure  water_temperature\n",
       "time                                                                        \n",
       "2020-05-24 17:15:03  2020-05-24T17:20:03Z             1.3                 24\n",
       "2020-05-24 17:20:03  2020-05-24T17:20:03Z             1.3                 24"
      ]
     },
     "execution_count": 21,
     "metadata": {},
     "output_type": "execute_result"
    }
   ],
   "source": [
    "heating_df.head(2)"
   ]
  },
  {
   "cell_type": "code",
   "execution_count": 23,
   "metadata": {},
   "outputs": [],
   "source": [
    "pv_df.drop_duplicates(subset='time')\n",
    "heating_df.drop_duplicates(subset='time')\n",
    "big_df['PV'] = pv_df[['L1_PV','L2_PV','L3_PV']].apply(lambda x: sum_nonneg(x),axis=1)\n",
    "big_df['PV_load'] = pv_df[['L1_Load','L2_Load','L3_Load']].apply(lambda x: sum_nonneg(x),axis=1)\n",
    "big_df['waterP']=heating_df['water_pressure']\n",
    "big_df['waterT']=heating_df['water_temperature']"
   ]
  },
  {
   "cell_type": "code",
   "execution_count": 24,
   "metadata": {},
   "outputs": [],
   "source": [
    "def averageT(Tlist):\n",
    "    return sum(Tlist) / len(Tlist)\n",
    "big_df['singlezone_mesT'] = big_df['multizone_mesT'].apply(lambda x : [averageT(x)])\n",
    "big_df['singlezone_setT'] = big_df['multizone_setT'].apply(lambda x : [averageT(x)])"
   ]
  },
  {
   "cell_type": "code",
   "execution_count": 25,
   "metadata": {},
   "outputs": [
    {
     "name": "stderr",
     "output_type": "stream",
     "text": [
      "C:\\Users\\DimiP\\.conda\\envs\\pacman\\lib\\site-packages\\ipykernel_launcher.py:2: DeprecationWarning: The default dtype for empty Series will be 'object' instead of 'float64' in a future version. Specify a dtype explicitly to silence this warning.\n",
      "  \n",
      "C:\\Users\\DimiP\\.conda\\envs\\pacman\\lib\\site-packages\\ipykernel_launcher.py:3: DeprecationWarning: The default dtype for empty Series will be 'object' instead of 'float64' in a future version. Specify a dtype explicitly to silence this warning.\n",
      "  This is separate from the ipykernel package so we can avoid doing imports until\n"
     ]
    }
   ],
   "source": [
    "lst=big_df.index\n",
    "big_df['singlezone_nextT'] = pd.Series()\n",
    "big_df['multizone_nextT'] = pd.Series()\n",
    "big_df['singlezone_nextT']=big_df['singlezone_mesT'].shift(-1)\n",
    "big_df['multizone_nextT'] = big_df['multizone_mesT'].shift(-1)\n",
    "\n",
    "\n",
    "emptydf=pd.DataFrame(index=big_df.index)\n",
    "emptydf['timestamp']=big_df.index\n",
    "big_df['timestep']=emptydf['timestamp'].diff().dt.total_seconds().shift(-1)\n"
   ]
  },
  {
   "cell_type": "code",
   "execution_count": 26,
   "metadata": {},
   "outputs": [
    {
     "data": {
      "text/html": [
       "<div>\n",
       "<style scoped>\n",
       "    .dataframe tbody tr th:only-of-type {\n",
       "        vertical-align: middle;\n",
       "    }\n",
       "\n",
       "    .dataframe tbody tr th {\n",
       "        vertical-align: top;\n",
       "    }\n",
       "\n",
       "    .dataframe thead th {\n",
       "        text-align: right;\n",
       "    }\n",
       "</style>\n",
       "<table border=\"1\" class=\"dataframe\">\n",
       "  <thead>\n",
       "    <tr style=\"text-align: right;\">\n",
       "      <th></th>\n",
       "      <th>perc_D</th>\n",
       "      <th>week_D</th>\n",
       "      <th>number_D</th>\n",
       "      <th>year</th>\n",
       "      <th>multizone_mesT</th>\n",
       "      <th>multizone_setT</th>\n",
       "      <th>outside_mesT</th>\n",
       "      <th>PV</th>\n",
       "      <th>PV_load</th>\n",
       "      <th>waterP</th>\n",
       "      <th>waterT</th>\n",
       "      <th>singlezone_mesT</th>\n",
       "      <th>singlezone_setT</th>\n",
       "      <th>singlezone_nextT</th>\n",
       "      <th>multizone_nextT</th>\n",
       "      <th>timestep</th>\n",
       "    </tr>\n",
       "    <tr>\n",
       "      <th>time</th>\n",
       "      <th></th>\n",
       "      <th></th>\n",
       "      <th></th>\n",
       "      <th></th>\n",
       "      <th></th>\n",
       "      <th></th>\n",
       "      <th></th>\n",
       "      <th></th>\n",
       "      <th></th>\n",
       "      <th></th>\n",
       "      <th></th>\n",
       "      <th></th>\n",
       "      <th></th>\n",
       "      <th></th>\n",
       "      <th></th>\n",
       "      <th></th>\n",
       "    </tr>\n",
       "  </thead>\n",
       "  <tbody>\n",
       "    <tr>\n",
       "      <th>2020-05-24 19:40:03</th>\n",
       "      <td>0.819479</td>\n",
       "      <td>sunday</td>\n",
       "      <td>145</td>\n",
       "      <td>2020</td>\n",
       "      <td>[21.8, 22.5, 22.4, 21.7, 22.0, 22.0, 22.9]</td>\n",
       "      <td>[16.0, 16.0, 16.0, 15.0, 16.0, 16.0, 16.0]</td>\n",
       "      <td>14.0</td>\n",
       "      <td>605.0</td>\n",
       "      <td>342.0</td>\n",
       "      <td>1.3</td>\n",
       "      <td>25</td>\n",
       "      <td>[22.185714285714283]</td>\n",
       "      <td>[15.857142857142858]</td>\n",
       "      <td>[22.185714285714283]</td>\n",
       "      <td>[21.8, 22.5, 22.4, 21.7, 22.0, 22.0, 22.9]</td>\n",
       "      <td>300.0</td>\n",
       "    </tr>\n",
       "    <tr>\n",
       "      <th>2020-05-24 19:45:03</th>\n",
       "      <td>0.822951</td>\n",
       "      <td>sunday</td>\n",
       "      <td>145</td>\n",
       "      <td>2020</td>\n",
       "      <td>[21.8, 22.5, 22.4, 21.7, 22.0, 22.0, 22.9]</td>\n",
       "      <td>[16.0, 16.0, 16.0, 15.0, 16.0, 16.0, 16.0]</td>\n",
       "      <td>14.0</td>\n",
       "      <td>605.0</td>\n",
       "      <td>342.0</td>\n",
       "      <td>1.3</td>\n",
       "      <td>25</td>\n",
       "      <td>[22.185714285714283]</td>\n",
       "      <td>[15.857142857142858]</td>\n",
       "      <td>[22.12857142857143]</td>\n",
       "      <td>[21.8, 22.4, 22.4, 21.7, 21.7, 22.0, 22.9]</td>\n",
       "      <td>300.0</td>\n",
       "    </tr>\n",
       "    <tr>\n",
       "      <th>2020-05-24 19:50:03</th>\n",
       "      <td>0.826424</td>\n",
       "      <td>sunday</td>\n",
       "      <td>145</td>\n",
       "      <td>2020</td>\n",
       "      <td>[21.8, 22.4, 22.4, 21.7, 21.7, 22.0, 22.9]</td>\n",
       "      <td>[16.0, 16.0, 16.0, 15.0, 16.0, 16.0, 16.0]</td>\n",
       "      <td>14.0</td>\n",
       "      <td>605.0</td>\n",
       "      <td>342.0</td>\n",
       "      <td>1.3</td>\n",
       "      <td>25</td>\n",
       "      <td>[22.12857142857143]</td>\n",
       "      <td>[15.857142857142858]</td>\n",
       "      <td>[22.12857142857143]</td>\n",
       "      <td>[21.8, 22.4, 22.4, 21.7, 21.7, 22.0, 22.9]</td>\n",
       "      <td>300.0</td>\n",
       "    </tr>\n",
       "    <tr>\n",
       "      <th>2020-05-24 19:55:03</th>\n",
       "      <td>0.829896</td>\n",
       "      <td>sunday</td>\n",
       "      <td>145</td>\n",
       "      <td>2020</td>\n",
       "      <td>[21.8, 22.4, 22.4, 21.7, 21.7, 22.0, 22.9]</td>\n",
       "      <td>[16.0, 16.0, 16.0, 15.0, 16.0, 16.0, 16.0]</td>\n",
       "      <td>14.0</td>\n",
       "      <td>605.0</td>\n",
       "      <td>342.0</td>\n",
       "      <td>1.3</td>\n",
       "      <td>25</td>\n",
       "      <td>[22.12857142857143]</td>\n",
       "      <td>[15.857142857142858]</td>\n",
       "      <td>[22.12857142857143]</td>\n",
       "      <td>[21.8, 22.4, 22.4, 21.7, 21.7, 22.0, 22.9]</td>\n",
       "      <td>301.0</td>\n",
       "    </tr>\n",
       "    <tr>\n",
       "      <th>2020-05-24 20:00:04</th>\n",
       "      <td>0.833380</td>\n",
       "      <td>sunday</td>\n",
       "      <td>145</td>\n",
       "      <td>2020</td>\n",
       "      <td>[21.8, 22.4, 22.4, 21.7, 21.7, 22.0, 22.9]</td>\n",
       "      <td>[16.0, 16.0, 16.0, 15.0, 16.0, 16.0, 16.0]</td>\n",
       "      <td>14.0</td>\n",
       "      <td>605.0</td>\n",
       "      <td>342.0</td>\n",
       "      <td>1.3</td>\n",
       "      <td>25</td>\n",
       "      <td>[22.12857142857143]</td>\n",
       "      <td>[15.857142857142858]</td>\n",
       "      <td>[22.12857142857143]</td>\n",
       "      <td>[21.8, 22.4, 22.4, 21.7, 21.7, 22.0, 22.9]</td>\n",
       "      <td>300.0</td>\n",
       "    </tr>\n",
       "  </tbody>\n",
       "</table>\n",
       "</div>"
      ],
      "text/plain": [
       "                       perc_D  week_D  number_D  year  \\\n",
       "time                                                    \n",
       "2020-05-24 19:40:03  0.819479  sunday       145  2020   \n",
       "2020-05-24 19:45:03  0.822951  sunday       145  2020   \n",
       "2020-05-24 19:50:03  0.826424  sunday       145  2020   \n",
       "2020-05-24 19:55:03  0.829896  sunday       145  2020   \n",
       "2020-05-24 20:00:04  0.833380  sunday       145  2020   \n",
       "\n",
       "                                                 multizone_mesT  \\\n",
       "time                                                              \n",
       "2020-05-24 19:40:03  [21.8, 22.5, 22.4, 21.7, 22.0, 22.0, 22.9]   \n",
       "2020-05-24 19:45:03  [21.8, 22.5, 22.4, 21.7, 22.0, 22.0, 22.9]   \n",
       "2020-05-24 19:50:03  [21.8, 22.4, 22.4, 21.7, 21.7, 22.0, 22.9]   \n",
       "2020-05-24 19:55:03  [21.8, 22.4, 22.4, 21.7, 21.7, 22.0, 22.9]   \n",
       "2020-05-24 20:00:04  [21.8, 22.4, 22.4, 21.7, 21.7, 22.0, 22.9]   \n",
       "\n",
       "                                                 multizone_setT  outside_mesT  \\\n",
       "time                                                                            \n",
       "2020-05-24 19:40:03  [16.0, 16.0, 16.0, 15.0, 16.0, 16.0, 16.0]          14.0   \n",
       "2020-05-24 19:45:03  [16.0, 16.0, 16.0, 15.0, 16.0, 16.0, 16.0]          14.0   \n",
       "2020-05-24 19:50:03  [16.0, 16.0, 16.0, 15.0, 16.0, 16.0, 16.0]          14.0   \n",
       "2020-05-24 19:55:03  [16.0, 16.0, 16.0, 15.0, 16.0, 16.0, 16.0]          14.0   \n",
       "2020-05-24 20:00:04  [16.0, 16.0, 16.0, 15.0, 16.0, 16.0, 16.0]          14.0   \n",
       "\n",
       "                        PV  PV_load  waterP  waterT       singlezone_mesT  \\\n",
       "time                                                                        \n",
       "2020-05-24 19:40:03  605.0    342.0     1.3      25  [22.185714285714283]   \n",
       "2020-05-24 19:45:03  605.0    342.0     1.3      25  [22.185714285714283]   \n",
       "2020-05-24 19:50:03  605.0    342.0     1.3      25   [22.12857142857143]   \n",
       "2020-05-24 19:55:03  605.0    342.0     1.3      25   [22.12857142857143]   \n",
       "2020-05-24 20:00:04  605.0    342.0     1.3      25   [22.12857142857143]   \n",
       "\n",
       "                          singlezone_setT      singlezone_nextT  \\\n",
       "time                                                              \n",
       "2020-05-24 19:40:03  [15.857142857142858]  [22.185714285714283]   \n",
       "2020-05-24 19:45:03  [15.857142857142858]   [22.12857142857143]   \n",
       "2020-05-24 19:50:03  [15.857142857142858]   [22.12857142857143]   \n",
       "2020-05-24 19:55:03  [15.857142857142858]   [22.12857142857143]   \n",
       "2020-05-24 20:00:04  [15.857142857142858]   [22.12857142857143]   \n",
       "\n",
       "                                                multizone_nextT  timestep  \n",
       "time                                                                       \n",
       "2020-05-24 19:40:03  [21.8, 22.5, 22.4, 21.7, 22.0, 22.0, 22.9]     300.0  \n",
       "2020-05-24 19:45:03  [21.8, 22.4, 22.4, 21.7, 21.7, 22.0, 22.9]     300.0  \n",
       "2020-05-24 19:50:03  [21.8, 22.4, 22.4, 21.7, 21.7, 22.0, 22.9]     300.0  \n",
       "2020-05-24 19:55:03  [21.8, 22.4, 22.4, 21.7, 21.7, 22.0, 22.9]     301.0  \n",
       "2020-05-24 20:00:04  [21.8, 22.4, 22.4, 21.7, 21.7, 22.0, 22.9]     300.0  "
      ]
     },
     "execution_count": 26,
     "metadata": {},
     "output_type": "execute_result"
    }
   ],
   "source": [
    "big_df=big_df.dropna()\n",
    "big_df.head(5)"
   ]
  },
  {
   "cell_type": "code",
   "execution_count": 27,
   "metadata": {},
   "outputs": [],
   "source": [
    "big_df.to_csv('C:/Users/DimiP/Documents/GitHub/ULG/COURS/basic-MPC/data/raw/big_df.csv')"
   ]
  }
 ],
 "metadata": {
  "interpreter": {
   "hash": "1bad0e764b7b78e90df435379757be34e92cde288690747ceb89569370fca115"
  },
  "kernelspec": {
   "display_name": "Python 3.9.7 64-bit ('bigdataproject': conda)",
   "language": "python",
   "name": "python3"
  },
  "language_info": {
   "codemirror_mode": {
    "name": "ipython",
    "version": 3
   },
   "file_extension": ".py",
   "mimetype": "text/x-python",
   "name": "python",
   "nbconvert_exporter": "python",
   "pygments_lexer": "ipython3",
   "version": "3.6.12"
  },
  "metadata": {
   "interpreter": {
    "hash": "778b323a9ee0dfbb6f2b5007a80d54add04c07d34dfe0a033c6f301e5d5f8eec"
   }
  },
  "orig_nbformat": 2
 },
 "nbformat": 4,
 "nbformat_minor": 2
}
