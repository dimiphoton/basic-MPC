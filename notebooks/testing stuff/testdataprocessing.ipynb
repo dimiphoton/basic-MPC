{
 "cells": [
  {
   "cell_type": "code",
   "execution_count": 432,
   "metadata": {},
   "outputs": [],
   "source": [
    "import os\r\n",
    "import pandas as pd\r\n",
    "import numpy as np\r\n",
    "from datetime import datetime, timedelta\r\n",
    "import glob\r\n",
    "from pathlib import Path\r\n",
    "import matplotlib.pyplot as plt\r\n",
    "import random\r\n",
    "from scipy.fft import fft, ifft"
   ]
  },
  {
   "cell_type": "code",
   "execution_count": 433,
   "metadata": {},
   "outputs": [],
   "source": [
    "import sys\r\n",
    "sys.path.append('C:/Users/DimiP/Documents/GitHub/ULG/COURS/basic-MPC/src')\r\n",
    "from features import process_utils\r\n",
    "%reload_ext autoreload"
   ]
  },
  {
   "cell_type": "code",
   "execution_count": 434,
   "metadata": {},
   "outputs": [
    {
     "data": {
      "text/plain": "<module 'features.process_utils' from 'C:\\\\Users/DimiP/Documents/GitHub/ULG/COURS/basic-MPC/src\\\\features\\\\process_utils.py'>"
     },
     "execution_count": 434,
     "metadata": {},
     "output_type": "execute_result"
    }
   ],
   "source": [
    "import importlib\r\n",
    "importlib.reload(process_utils)"
   ]
  },
  {
   "cell_type": "code",
   "execution_count": 435,
   "metadata": {},
   "outputs": [],
   "source": [
    "#création des dicts de dataframe\r\n",
    "path='c:\\\\Users\\\\DimiP\\\\Documents\\\\GitHub\\\\ULG\\\\COURS\\\\basic-MPC\\\\data\\\\raw'\r\n",
    "csv_files = glob.glob(os.path.join(path, \"*.csv\"))\r\n",
    "data={}\r\n",
    "for file in csv_files:\r\n",
    "    \r\n",
    "    p=Path(file)\r\n",
    "    filename=p.with_suffix('').stem\r\n",
    "    finalfilename=filename.replace(\"temperature_\", \"\")\r\n",
    "    data[finalfilename]=pd.read_csv(p)\r\n",
    "    data[finalfilename].index=data[finalfilename]['time'].apply(lambda x: process_utils.convertdate(x))\r\n",
    "\r\n",
    "\r\n",
    "    "
   ]
  },
  {
   "cell_type": "code",
   "execution_count": 436,
   "metadata": {},
   "outputs": [],
   "source": [
    "data['pv_production_load'].columns = ['time', 'L1_PV', 'L2_PV', 'L3_PV', 'L1_Load', 'L2_Load','L3_Load']"
   ]
  },
  {
   "cell_type": "code",
   "execution_count": 437,
   "metadata": {},
   "outputs": [],
   "source": [
    "pv=data['pv_production_load'].to_numpy()"
   ]
  },
  {
   "cell_type": "code",
   "execution_count": 438,
   "metadata": {},
   "outputs": [],
   "source": [
    "#dataframe avec index seul\r\n",
    "\r\n",
    "big_df = pd.DataFrame(index=data['kitchen'].index)\r\n",
    "#big_df['total sun'] = np.abs(pv[:,1])+np.abs(pv[:,2])+np.abs(pv[:,3])\r\n",
    "#big_df['pv load'] = np.abs(pv[:,4])+np.abs(pv[:,5])+np.abs(pv[:,6])"
   ]
  },
  {
   "cell_type": "code",
   "execution_count": 203,
   "metadata": {},
   "outputs": [],
   "source": [
    "#data['pv_production_load']['datetime_obj']=data['pv_production_load'].apply(lambda x: process_utils.infodate(x['time'])[0],axis=1)\r\n"
   ]
  },
  {
   "cell_type": "code",
   "execution_count": 439,
   "metadata": {},
   "outputs": [],
   "source": [
    "date_array = [process_utils.datetimeobj(x) for x in big_df.index]\r\n"
   ]
  },
  {
   "cell_type": "code",
   "execution_count": 440,
   "metadata": {},
   "outputs": [],
   "source": [
    "df_add = pd.DataFrame(data=date_array,columns=['perc_D','week_D','number_D','year'],index=big_df.index)"
   ]
  },
  {
   "cell_type": "code",
   "execution_count": 441,
   "metadata": {},
   "outputs": [],
   "source": [
    "big_df = pd.concat([big_df,df_add], axis=1)"
   ]
  },
  {
   "cell_type": "code",
   "execution_count": 442,
   "metadata": {},
   "outputs": [],
   "source": [
    "mesT_df=pd.concat([data[key]['current_value'].dropna() for key in ['bathroom', 'bedroom_1', 'bedroom_2', 'bedroom_3',\r\n",
    " 'diningroom', 'kitchen', 'livingroom']],axis=1)\r\n",
    "setT_df=pd.concat([data[key]['setpoint'] for key in ['bathroom', 'bedroom_1', 'bedroom_2', 'bedroom_3',\r\n",
    " 'diningroom', 'kitchen', 'livingroom']],axis=1)"
   ]
  },
  {
   "cell_type": "code",
   "execution_count": 443,
   "metadata": {},
   "outputs": [],
   "source": [
    "big_df['multizone_mesT']=mesT_df.apply(list,axis=1)\r\n",
    "big_df['multizone_setT']=setT_df.apply(list,axis=1)\r\n",
    "big_df['outside_mesT']=data['outside']['current_value']\r\n",
    "finaldf=big_df[big_df.index>pd.to_datetime('2020-05-24 19:40:03')]\r\n"
   ]
  },
  {
   "cell_type": "code",
   "execution_count": 444,
   "metadata": {},
   "outputs": [],
   "source": [
    "def sum_nonneg(x):\r\n",
    "    return sum(max(i,0) for i in x)\r\n",
    "#data['pv_production_load']['PV'] = data['pv_production_load'][['L1_PV','L2_PV','L3_PV']].apply(lambda x: sum_nonneg(list(x)))\r\n",
    "#data['pv_production_load']['PV_load'] = data['pv_production_load'][['L1_Load','L2_Load','L3_Load']].apply(lambda x: sum_nonneg(list(x)))\r\n"
   ]
  },
  {
   "cell_type": "code",
   "execution_count": 446,
   "metadata": {},
   "outputs": [],
   "source": [
    "pv_df=data['pv_production_load'].reindex(index=big_df.index,method='nearest')\r\n",
    "#[data['pv_production_load'].index > big_df.index.min() ]"
   ]
  },
  {
   "cell_type": "code",
   "execution_count": 447,
   "metadata": {},
   "outputs": [],
   "source": [
    "pv_df.drop_duplicates(subset='time')\r\n",
    "pv_df['PV'] = pv_df[['L1_PV','L2_PV','L3_PV']].apply(lambda x: sum_nonneg(x),axis=1)\r\n",
    "pv_df['PV_load'] = pv_df[['L1_Load','L2_Load','L3_Load']].apply(lambda x: sum_nonneg(x),axis=1)"
   ]
  },
  {
   "cell_type": "code",
   "execution_count": 449,
   "metadata": {},
   "outputs": [],
   "source": [
    "def averageT(Tlist):\r\n",
    "    return sum(Tlist) / len(Tlist)\r\n",
    "big_df['singlezone_mesT'] = big_df['multizone_mesT'].apply(lambda x : averageT(x))\r\n",
    "big_df['singlezone_setT'] = big_df['multizone_setT'].apply(lambda x : averageT(x))"
   ]
  },
  {
   "cell_type": "code",
   "execution_count": 451,
   "metadata": {},
   "outputs": [
    {
     "name": "stderr",
     "output_type": "stream",
     "text": [
      "C:\\Users\\DimiP\\AppData\\Local\\Temp/ipykernel_14344/2026541694.py:2: DeprecationWarning: The default dtype for empty Series will be 'object' instead of 'float64' in a future version. Specify a dtype explicitly to silence this warning.\n",
      "  big_df['singlezone_nextT'] = pd.Series()\n",
      "C:\\Users\\DimiP\\AppData\\Local\\Temp/ipykernel_14344/2026541694.py:3: DeprecationWarning: The default dtype for empty Series will be 'object' instead of 'float64' in a future version. Specify a dtype explicitly to silence this warning.\n",
      "  big_df['multizone_nextT'] = pd.Series()\n"
     ]
    }
   ],
   "source": [
    "lst=big_df.index\r\n",
    "big_df['singlezone_nextT'] = pd.Series()\r\n",
    "big_df['multizone_nextT'] = pd.Series()\r\n",
    "big_df['singlezone_nextT']=big_df['singlezone_mesT'].shift(-1)\r\n",
    "big_df['multizone_nextT'] = big_df['multizone_mesT'].shift(-1)\r\n",
    "\r\n",
    "\r\n",
    "emptydf=pd.DataFrame(index=big_df.index)\r\n",
    "emptydf['timestamp']=big_df.index\r\n",
    "big_df['timestep']=emptydf['timestamp'].diff().dt.total_seconds().shift(-1)\r\n"
   ]
  },
  {
   "cell_type": "code",
   "execution_count": 458,
   "metadata": {},
   "outputs": [
    {
     "data": {
      "text/html": "<div>\n<style scoped>\n    .dataframe tbody tr th:only-of-type {\n        vertical-align: middle;\n    }\n\n    .dataframe tbody tr th {\n        vertical-align: top;\n    }\n\n    .dataframe thead th {\n        text-align: right;\n    }\n</style>\n<table border=\"1\" class=\"dataframe\">\n  <thead>\n    <tr style=\"text-align: right;\">\n      <th></th>\n      <th>perc_D</th>\n      <th>week_D</th>\n      <th>number_D</th>\n      <th>year</th>\n      <th>multizone_mesT</th>\n      <th>multizone_setT</th>\n      <th>outside_mesT</th>\n      <th>singlezone_mesT</th>\n      <th>singlezone_setT</th>\n      <th>singlezone_nextT</th>\n      <th>multizone_nextT</th>\n      <th>timestep</th>\n    </tr>\n    <tr>\n      <th>time</th>\n      <th></th>\n      <th></th>\n      <th></th>\n      <th></th>\n      <th></th>\n      <th></th>\n      <th></th>\n      <th></th>\n      <th></th>\n      <th></th>\n      <th></th>\n      <th></th>\n    </tr>\n  </thead>\n  <tbody>\n    <tr>\n      <th>2020-05-24 19:40:03</th>\n      <td>0.819479</td>\n      <td>sunday</td>\n      <td>145</td>\n      <td>2020</td>\n      <td>[21.8, 22.5, 22.4, 21.7, 22.0, 22.0, 22.9]</td>\n      <td>[16.0, 16.0, 16.0, 15.0, 16.0, 16.0, 16.0]</td>\n      <td>14.0</td>\n      <td>22.185714</td>\n      <td>15.857143</td>\n      <td>22.185714</td>\n      <td>[21.8, 22.5, 22.4, 21.7, 22.0, 22.0, 22.9]</td>\n      <td>300.0</td>\n    </tr>\n    <tr>\n      <th>2020-05-24 19:45:03</th>\n      <td>0.822951</td>\n      <td>sunday</td>\n      <td>145</td>\n      <td>2020</td>\n      <td>[21.8, 22.5, 22.4, 21.7, 22.0, 22.0, 22.9]</td>\n      <td>[16.0, 16.0, 16.0, 15.0, 16.0, 16.0, 16.0]</td>\n      <td>14.0</td>\n      <td>22.185714</td>\n      <td>15.857143</td>\n      <td>22.128571</td>\n      <td>[21.8, 22.4, 22.4, 21.7, 21.7, 22.0, 22.9]</td>\n      <td>300.0</td>\n    </tr>\n    <tr>\n      <th>2020-05-24 19:50:03</th>\n      <td>0.826424</td>\n      <td>sunday</td>\n      <td>145</td>\n      <td>2020</td>\n      <td>[21.8, 22.4, 22.4, 21.7, 21.7, 22.0, 22.9]</td>\n      <td>[16.0, 16.0, 16.0, 15.0, 16.0, 16.0, 16.0]</td>\n      <td>14.0</td>\n      <td>22.128571</td>\n      <td>15.857143</td>\n      <td>22.128571</td>\n      <td>[21.8, 22.4, 22.4, 21.7, 21.7, 22.0, 22.9]</td>\n      <td>300.0</td>\n    </tr>\n    <tr>\n      <th>2020-05-24 19:55:03</th>\n      <td>0.829896</td>\n      <td>sunday</td>\n      <td>145</td>\n      <td>2020</td>\n      <td>[21.8, 22.4, 22.4, 21.7, 21.7, 22.0, 22.9]</td>\n      <td>[16.0, 16.0, 16.0, 15.0, 16.0, 16.0, 16.0]</td>\n      <td>14.0</td>\n      <td>22.128571</td>\n      <td>15.857143</td>\n      <td>22.128571</td>\n      <td>[21.8, 22.4, 22.4, 21.7, 21.7, 22.0, 22.9]</td>\n      <td>301.0</td>\n    </tr>\n    <tr>\n      <th>2020-05-24 20:00:04</th>\n      <td>0.833380</td>\n      <td>sunday</td>\n      <td>145</td>\n      <td>2020</td>\n      <td>[21.8, 22.4, 22.4, 21.7, 21.7, 22.0, 22.9]</td>\n      <td>[16.0, 16.0, 16.0, 15.0, 16.0, 16.0, 16.0]</td>\n      <td>14.0</td>\n      <td>22.128571</td>\n      <td>15.857143</td>\n      <td>22.128571</td>\n      <td>[21.8, 22.4, 22.4, 21.7, 21.7, 22.0, 22.9]</td>\n      <td>300.0</td>\n    </tr>\n  </tbody>\n</table>\n</div>",
      "text/plain": "                       perc_D  week_D  number_D  year  \\\ntime                                                    \n2020-05-24 19:40:03  0.819479  sunday       145  2020   \n2020-05-24 19:45:03  0.822951  sunday       145  2020   \n2020-05-24 19:50:03  0.826424  sunday       145  2020   \n2020-05-24 19:55:03  0.829896  sunday       145  2020   \n2020-05-24 20:00:04  0.833380  sunday       145  2020   \n\n                                                 multizone_mesT  \\\ntime                                                              \n2020-05-24 19:40:03  [21.8, 22.5, 22.4, 21.7, 22.0, 22.0, 22.9]   \n2020-05-24 19:45:03  [21.8, 22.5, 22.4, 21.7, 22.0, 22.0, 22.9]   \n2020-05-24 19:50:03  [21.8, 22.4, 22.4, 21.7, 21.7, 22.0, 22.9]   \n2020-05-24 19:55:03  [21.8, 22.4, 22.4, 21.7, 21.7, 22.0, 22.9]   \n2020-05-24 20:00:04  [21.8, 22.4, 22.4, 21.7, 21.7, 22.0, 22.9]   \n\n                                                 multizone_setT  outside_mesT  \\\ntime                                                                            \n2020-05-24 19:40:03  [16.0, 16.0, 16.0, 15.0, 16.0, 16.0, 16.0]          14.0   \n2020-05-24 19:45:03  [16.0, 16.0, 16.0, 15.0, 16.0, 16.0, 16.0]          14.0   \n2020-05-24 19:50:03  [16.0, 16.0, 16.0, 15.0, 16.0, 16.0, 16.0]          14.0   \n2020-05-24 19:55:03  [16.0, 16.0, 16.0, 15.0, 16.0, 16.0, 16.0]          14.0   \n2020-05-24 20:00:04  [16.0, 16.0, 16.0, 15.0, 16.0, 16.0, 16.0]          14.0   \n\n                     singlezone_mesT  singlezone_setT  singlezone_nextT  \\\ntime                                                                      \n2020-05-24 19:40:03        22.185714        15.857143         22.185714   \n2020-05-24 19:45:03        22.185714        15.857143         22.128571   \n2020-05-24 19:50:03        22.128571        15.857143         22.128571   \n2020-05-24 19:55:03        22.128571        15.857143         22.128571   \n2020-05-24 20:00:04        22.128571        15.857143         22.128571   \n\n                                                multizone_nextT  timestep  \ntime                                                                       \n2020-05-24 19:40:03  [21.8, 22.5, 22.4, 21.7, 22.0, 22.0, 22.9]     300.0  \n2020-05-24 19:45:03  [21.8, 22.4, 22.4, 21.7, 21.7, 22.0, 22.9]     300.0  \n2020-05-24 19:50:03  [21.8, 22.4, 22.4, 21.7, 21.7, 22.0, 22.9]     300.0  \n2020-05-24 19:55:03  [21.8, 22.4, 22.4, 21.7, 21.7, 22.0, 22.9]     301.0  \n2020-05-24 20:00:04  [21.8, 22.4, 22.4, 21.7, 21.7, 22.0, 22.9]     300.0  "
     },
     "execution_count": 458,
     "metadata": {},
     "output_type": "execute_result"
    }
   ],
   "source": [
    "big_df=big_df.dropna()\r\n",
    "big_df.head(5)"
   ]
  },
  {
   "cell_type": "code",
   "execution_count": 459,
   "metadata": {},
   "outputs": [],
   "source": [
    "big_df.to_csv('C:/Users/DimiP/Documents/GitHub/ULG/COURS/basic-MPC/data/raw/big_df.csv')"
   ]
  },
  {
   "cell_type": "code",
   "execution_count": 461,
   "metadata": {},
   "outputs": [
    {
     "data": {
      "text/plain": "time             0\ncurrent_value    0\nsetpoint         0\ndtype: int64"
     },
     "execution_count": 461,
     "metadata": {},
     "output_type": "execute_result"
    }
   ],
   "source": [
    "data['livingroom'].isna().sum()"
   ]
  }
 ],
 "metadata": {
  "kernelspec": {
   "display_name": "Python 3.9.7 64-bit ('bigdataproject': conda)",
   "name": "python397jvsc74a57bd0cbfc53ad4f2fa7e0d14288d3fb4f5137b2b627ba0faf177bd227d8c7033cb555"
  },
  "language_info": {
   "codemirror_mode": {
    "name": "ipython",
    "version": 3
   },
   "file_extension": ".py",
   "mimetype": "text/x-python",
   "name": "python",
   "nbconvert_exporter": "python",
   "pygments_lexer": "ipython3",
   "version": "3.9.7"
  },
  "metadata": {
   "interpreter": {
    "hash": "778b323a9ee0dfbb6f2b5007a80d54add04c07d34dfe0a033c6f301e5d5f8eec"
   }
  },
  "orig_nbformat": 2
 },
 "nbformat": 4,
 "nbformat_minor": 2
}