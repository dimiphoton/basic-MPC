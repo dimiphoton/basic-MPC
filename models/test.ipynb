{
 "cells": [
  {
   "cell_type": "code",
   "execution_count": 114,
   "metadata": {},
   "outputs": [],
   "source": [
    "from importlib import reload\r\n",
    "reload(myclasses)\r\n",
    "import myclasses\r\n"
   ]
  },
  {
   "cell_type": "code",
   "execution_count": 116,
   "metadata": {},
   "outputs": [],
   "source": [
    "kitchen=myclasses.Room('kitchen')"
   ]
  },
  {
   "cell_type": "code",
   "execution_count": 119,
   "metadata": {},
   "outputs": [
    {
     "data": {
      "text/plain": "{'name': 'kitchen', 'capacitance': None, 'temperature': 1}"
     },
     "execution_count": 119,
     "metadata": {},
     "output_type": "execute_result"
    }
   ],
   "source": [
    "kitchen.temperature=1\r\n",
    "vars(kitchen)"
   ]
  }
 ],
 "metadata": {
  "kernelspec": {
   "display_name": "Python 3.9.7 64-bit ('bigdataproject': conda)",
   "name": "python397jvsc74a57bd0cbfc53ad4f2fa7e0d14288d3fb4f5137b2b627ba0faf177bd227d8c7033cb555"
  },
  "language_info": {
   "name": "python",
   "version": ""
  },
  "orig_nbformat": 2
 },
 "nbformat": 4,
 "nbformat_minor": 2
}