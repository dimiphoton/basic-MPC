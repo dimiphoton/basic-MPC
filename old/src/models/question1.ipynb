{
 "cells": [
  {
   "cell_type": "code",
   "execution_count": null,
   "metadata": {},
   "outputs": [],
   "source": [
    "from model_On_Array2 import *\n",
    "import pandas as pd\n",
    "import os\n",
    "import sys\n",
    "import itertools\n",
    "import random\n",
    "from pathlib import Path\n",
    "import numpy as np\n",
    "import dataprocessing2\n",
    "import glob\n",
    "import os.path\n",
    "from datetime import datetime, timedelta\n",
    "import process_utils\n",
    "from sklearn.metrics import mean_squared_error\n",
    "from scipy.optimize import minimize\n",
    "from scipy.optimize import leastsq\n",
    "from scipy.optimize import least_squares\n",
    "from sklearn.model_selection import train_test_split\n",
    "import pickle \n",
    "import matplotlib.pyplot as plt"
   ]
  },
  {
   "cell_type": "code",
   "execution_count": null,
   "metadata": {},
   "outputs": [],
   "source": [
    "p=os.getcwd()\n",
    "p1=os.path.split(os.path.split(p)[0])[0]\n",
    "path_raw=os.path.join(p1,'data','dataset2')\n",
    "df = pd.read_csv(os.path.join(path_raw, \"rawdata2.csv\"),delimiter=';')"
   ]
  },
  {
   "cell_type": "code",
   "execution_count": 27,
   "metadata": {},
   "outputs": [
    {
     "data": {
      "text/html": [
       "<div>\n",
       "<style scoped>\n",
       "    .dataframe tbody tr th:only-of-type {\n",
       "        vertical-align: middle;\n",
       "    }\n",
       "\n",
       "    .dataframe tbody tr th {\n",
       "        vertical-align: top;\n",
       "    }\n",
       "\n",
       "    .dataframe thead th {\n",
       "        text-align: right;\n",
       "    }\n",
       "</style>\n",
       "<table border=\"1\" class=\"dataframe\">\n",
       "  <thead>\n",
       "    <tr style=\"text-align: right;\">\n",
       "      <th></th>\n",
       "      <th>Datetime</th>\n",
       "      <th>T_set_Bathroom</th>\n",
       "      <th>T_set_Room3</th>\n",
       "      <th>T_set_Room1</th>\n",
       "      <th>T_set_Room2</th>\n",
       "      <th>T_set_Kitchen</th>\n",
       "      <th>T_set_Dining</th>\n",
       "      <th>T_set_Living</th>\n",
       "      <th>T_m_ext</th>\n",
       "      <th>T_m_water</th>\n",
       "      <th>...</th>\n",
       "      <th>switch_Kitchen</th>\n",
       "      <th>switch_Dining</th>\n",
       "      <th>switch_Living</th>\n",
       "      <th>T_m_Kitchen</th>\n",
       "      <th>T_m_Dining</th>\n",
       "      <th>T_m_Living</th>\n",
       "      <th>T_m_Room1</th>\n",
       "      <th>T_m_Bathroom</th>\n",
       "      <th>T_m_Room2</th>\n",
       "      <th>T_m_Room3</th>\n",
       "    </tr>\n",
       "  </thead>\n",
       "  <tbody>\n",
       "    <tr>\n",
       "      <th>0</th>\n",
       "      <td>2021-02-15 00:00:00+00:00</td>\n",
       "      <td>17.0</td>\n",
       "      <td>17.0</td>\n",
       "      <td>17.0</td>\n",
       "      <td>17.0</td>\n",
       "      <td>16.0</td>\n",
       "      <td>16.0</td>\n",
       "      <td>16.0</td>\n",
       "      <td>1.0</td>\n",
       "      <td>34.0</td>\n",
       "      <td>...</td>\n",
       "      <td>0.0</td>\n",
       "      <td>0.0</td>\n",
       "      <td>0.0</td>\n",
       "      <td>19.600000</td>\n",
       "      <td>18.600000</td>\n",
       "      <td>17.266667</td>\n",
       "      <td>17.500000</td>\n",
       "      <td>17.533333</td>\n",
       "      <td>16.900000</td>\n",
       "      <td>19.000000</td>\n",
       "    </tr>\n",
       "    <tr>\n",
       "      <th>1</th>\n",
       "      <td>2021-02-15 00:15:00+00:00</td>\n",
       "      <td>17.0</td>\n",
       "      <td>17.0</td>\n",
       "      <td>17.0</td>\n",
       "      <td>17.0</td>\n",
       "      <td>16.0</td>\n",
       "      <td>16.0</td>\n",
       "      <td>16.0</td>\n",
       "      <td>1.0</td>\n",
       "      <td>42.0</td>\n",
       "      <td>...</td>\n",
       "      <td>0.0</td>\n",
       "      <td>0.0</td>\n",
       "      <td>0.0</td>\n",
       "      <td>19.400882</td>\n",
       "      <td>18.493745</td>\n",
       "      <td>17.161149</td>\n",
       "      <td>17.448889</td>\n",
       "      <td>18.389023</td>\n",
       "      <td>17.070247</td>\n",
       "      <td>18.675977</td>\n",
       "    </tr>\n",
       "  </tbody>\n",
       "</table>\n",
       "<p>2 rows × 27 columns</p>\n",
       "</div>"
      ],
      "text/plain": [
       "                    Datetime  T_set_Bathroom  T_set_Room3  T_set_Room1  \\\n",
       "0  2021-02-15 00:00:00+00:00            17.0         17.0         17.0   \n",
       "1  2021-02-15 00:15:00+00:00            17.0         17.0         17.0   \n",
       "\n",
       "   T_set_Room2  T_set_Kitchen  T_set_Dining  T_set_Living  T_m_ext  T_m_water  \\\n",
       "0         17.0           16.0          16.0          16.0      1.0       34.0   \n",
       "1         17.0           16.0          16.0          16.0      1.0       42.0   \n",
       "\n",
       "   ...  switch_Kitchen  switch_Dining  switch_Living  T_m_Kitchen  T_m_Dining  \\\n",
       "0  ...             0.0            0.0            0.0    19.600000   18.600000   \n",
       "1  ...             0.0            0.0            0.0    19.400882   18.493745   \n",
       "\n",
       "   T_m_Living  T_m_Room1  T_m_Bathroom  T_m_Room2  T_m_Room3  \n",
       "0   17.266667  17.500000     17.533333  16.900000  19.000000  \n",
       "1   17.161149  17.448889     18.389023  17.070247  18.675977  \n",
       "\n",
       "[2 rows x 27 columns]"
      ]
     },
     "execution_count": 27,
     "metadata": {},
     "output_type": "execute_result"
    }
   ],
   "source": [
    "df.head(2)"
   ]
  },
  {
   "cell_type": "code",
   "execution_count": 28,
   "metadata": {},
   "outputs": [],
   "source": [
    "def makesplit(row):\n",
    "    string=row['Datetime']\n",
    "    string.strftime('%y-%m-%d'), string.strftime('%H:%M:%S')"
   ]
  },
  {
   "cell_type": "code",
   "execution_count": 49,
   "metadata": {},
   "outputs": [],
   "source": [
    "def f(row):\n",
    "    string=pd.to_datetime(row['Datetime'])\n",
    "    return string.strftime('%y-%m-%d'), string.strftime('%H:%M:%S')"
   ]
  },
  {
   "cell_type": "code",
   "execution_count": 60,
   "metadata": {},
   "outputs": [],
   "source": [
    "df[[\"uniqueday_Id\",\"intraday_Id\"]]=df.apply(f,axis=1, result_type=\"expand\")"
   ]
  },
  {
   "cell_type": "code",
   "execution_count": 52,
   "metadata": {},
   "outputs": [],
   "source": [
    "df.set_index([\"uniqueday_Id\",\"intraday_Id\"],inplace=True)"
   ]
  },
  {
   "cell_type": "code",
   "execution_count": 54,
   "metadata": {},
   "outputs": [],
   "source": [
    "df['time']=pd.to_datetime(df['Datetime'])"
   ]
  },
  {
   "cell_type": "code",
   "execution_count": 56,
   "metadata": {},
   "outputs": [],
   "source": [
    "df['timestep']=df['time'].diff().dt.total_seconds().shift(-1)"
   ]
  },
  {
   "cell_type": "code",
   "execution_count": 65,
   "metadata": {},
   "outputs": [
    {
     "data": {
      "text/plain": [
       "[('T', 'bathroom'),\n",
       " ('T', 'bedroom_1'),\n",
       " ('T', 'bedroom_2'),\n",
       " ('T', 'bedroom_3'),\n",
       " ('T', 'diningroom'),\n",
       " ('T', 'kitchen'),\n",
       " ('T', 'livingroom'),\n",
       " ('Tset', 'bathroom'),\n",
       " ('Tset', 'bedroom_1'),\n",
       " ('Tset', 'bedroom_2'),\n",
       " ('Tset', 'bedroom_3'),\n",
       " ('Tset', 'diningroom'),\n",
       " ('Tset', 'kitchen'),\n",
       " ('Tset', 'livingroom')]"
      ]
     },
     "execution_count": 65,
     "metadata": {},
     "output_type": "execute_result"
    }
   ],
   "source": [
    "room_filenames = [(\"temperature_bathroom.csv\", \"bathroom\"), \n",
    "                      (\"temperature_bedroom_1.csv\", \"bedroom_1\"), \n",
    "                      (\"temperature_bedroom_2.csv\", \"bedroom_2\"), \n",
    "                      (\"temperature_bedroom_3.csv\", \"bedroom_3\"),\n",
    "                      (\"temperature_diningroom.csv\", \"diningroom\"), \n",
    "                      (\"temperature_kitchen.csv\", \"kitchen\"), \n",
    "                      (\"temperature_livingroom.csv\", \"livingroom\")]\n",
    "rooms=[tuple[1] for tuple in room_filenames]\n",
    "list(itertools.product(['T','Tset'],[tuple[1] for tuple in room_filenames]))"
   ]
  },
  {
   "cell_type": "code",
   "execution_count": 66,
   "metadata": {},
   "outputs": [
    {
     "data": {
      "text/plain": [
       "Index(['Datetime', 'T_set_Bathroom', 'T_set_Room3', 'T_set_Room1',\n",
       "       'T_set_Room2', 'T_set_Kitchen', 'T_set_Dining', 'T_set_Living',\n",
       "       'T_m_ext', 'T_m_water', 'T_m_ground_post', 'Irradiation', 'Occupancy',\n",
       "       'switch_Bathroom', 'switch_Room3', 'switch_Room1', 'switch_Room2',\n",
       "       'switch_Kitchen', 'switch_Dining', 'switch_Living', 'T_m_Kitchen',\n",
       "       'T_m_Dining', 'T_m_Living', 'T_m_Room1', 'T_m_Bathroom', 'T_m_Room2',\n",
       "       'T_m_Room3', 'time', 'timestep', 'uniqueday_Id', 'intraday_Id'],\n",
       "      dtype='object')"
      ]
     },
     "execution_count": 66,
     "metadata": {},
     "output_type": "execute_result"
    }
   ],
   "source": [
    "df.columns"
   ]
  },
  {
   "cell_type": "code",
   "execution_count": 4,
   "metadata": {},
   "outputs": [],
   "source": [
    "model=mainmodel(maison='singleroom')"
   ]
  },
  {
   "cell_type": "code",
   "execution_count": 5,
   "metadata": {},
   "outputs": [
    {
     "ename": "KeyError",
     "evalue": "\"None of ['uniqueday_Id', 'intraday_Id'] are in the columns\"",
     "output_type": "error",
     "traceback": [
      "\u001b[0;31m---------------------------------------------------------------------------\u001b[0m",
      "\u001b[0;31mKeyError\u001b[0m                                  Traceback (most recent call last)",
      "\u001b[0;32m/tmp/ipykernel_117467/4171411727.py\u001b[0m in \u001b[0;36m<module>\u001b[0;34m\u001b[0m\n\u001b[0;32m----> 1\u001b[0;31m \u001b[0mmodel\u001b[0m\u001b[0;34m.\u001b[0m\u001b[0msetupdata\u001b[0m\u001b[0;34m(\u001b[0m\u001b[0mcase\u001b[0m\u001b[0;34m=\u001b[0m\u001b[0;34m'case2'\u001b[0m\u001b[0;34m)\u001b[0m\u001b[0;34m\u001b[0m\u001b[0;34m\u001b[0m\u001b[0m\n\u001b[0m\u001b[1;32m      2\u001b[0m \u001b[0mmodel\u001b[0m\u001b[0;34m.\u001b[0m\u001b[0mupdate_theta\u001b[0m\u001b[0;34m(\u001b[0m\u001b[0;34m)\u001b[0m\u001b[0;34m\u001b[0m\u001b[0;34m\u001b[0m\u001b[0m\n\u001b[1;32m      3\u001b[0m \u001b[0mmodel\u001b[0m\u001b[0;34m.\u001b[0m\u001b[0mset_theta\u001b[0m\u001b[0;34m(\u001b[0m\u001b[0mmodel\u001b[0m\u001b[0;34m.\u001b[0m\u001b[0mtheta\u001b[0m\u001b[0;34m)\u001b[0m\u001b[0;34m\u001b[0m\u001b[0;34m\u001b[0m\u001b[0m\n",
      "\u001b[0;32m~/Documents/REPOS/PROJETS PERSO/basic-MPC/src/models/model_On_Array2.py\u001b[0m in \u001b[0;36msetupdata\u001b[0;34m(self, case, seed)\u001b[0m\n\u001b[1;32m    201\u001b[0m         \u001b[0;32mif\u001b[0m \u001b[0mcase\u001b[0m \u001b[0;34m==\u001b[0m\u001b[0;34m'case2'\u001b[0m\u001b[0;34m:\u001b[0m\u001b[0;34m\u001b[0m\u001b[0;34m\u001b[0m\u001b[0m\n\u001b[1;32m    202\u001b[0m \u001b[0;34m\u001b[0m\u001b[0m\n\u001b[0;32m--> 203\u001b[0;31m             \u001b[0mself\u001b[0m\u001b[0;34m.\u001b[0m\u001b[0mraw\u001b[0m\u001b[0;34m=\u001b[0m\u001b[0mprocess_utils\u001b[0m\u001b[0;34m.\u001b[0m\u001b[0mload_df\u001b[0m\u001b[0;34m(\u001b[0m\u001b[0;34m'rawdata2.csv'\u001b[0m\u001b[0;34m)\u001b[0m\u001b[0;34m\u001b[0m\u001b[0;34m\u001b[0m\u001b[0m\n\u001b[0m\u001b[1;32m    204\u001b[0m             self.features={'state':[('T',i) for i in self.rooms]\\\n\u001b[1;32m    205\u001b[0m                       \u001b[0;34m,\u001b[0m\u001b[0;34m'Tset'\u001b[0m\u001b[0;34m:\u001b[0m\u001b[0;34m[\u001b[0m\u001b[0;34m(\u001b[0m\u001b[0;34m'Tset'\u001b[0m\u001b[0;34m,\u001b[0m\u001b[0mi\u001b[0m\u001b[0;34m)\u001b[0m \u001b[0;32mfor\u001b[0m \u001b[0mi\u001b[0m \u001b[0;32min\u001b[0m \u001b[0mself\u001b[0m\u001b[0;34m.\u001b[0m\u001b[0mrooms\u001b[0m\u001b[0;34m]\u001b[0m\u001b[0;31m\\\u001b[0m\u001b[0;34m\u001b[0m\u001b[0;34m\u001b[0m\u001b[0m\n",
      "\u001b[0;32m~/Documents/REPOS/PROJETS PERSO/basic-MPC/src/models/process_utils.py\u001b[0m in \u001b[0;36mload_df\u001b[0;34m(filename)\u001b[0m\n\u001b[1;32m     66\u001b[0m     \u001b[0mdf\u001b[0m\u001b[0;34m.\u001b[0m\u001b[0mcolumns\u001b[0m\u001b[0;34m=\u001b[0m\u001b[0mpd\u001b[0m\u001b[0;34m.\u001b[0m\u001b[0mMultiIndex\u001b[0m\u001b[0;34m.\u001b[0m\u001b[0mfrom_tuples\u001b[0m\u001b[0;34m(\u001b[0m\u001b[0mMI2\u001b[0m\u001b[0;34m,\u001b[0m\u001b[0mnames\u001b[0m\u001b[0;34m=\u001b[0m\u001b[0;34m[\u001b[0m\u001b[0;34m'data'\u001b[0m\u001b[0;34m,\u001b[0m\u001b[0;34m'zone'\u001b[0m\u001b[0;34m]\u001b[0m\u001b[0;34m)\u001b[0m\u001b[0;34m\u001b[0m\u001b[0;34m\u001b[0m\u001b[0m\n\u001b[1;32m     67\u001b[0m \u001b[0;34m\u001b[0m\u001b[0m\n\u001b[0;32m---> 68\u001b[0;31m     \u001b[0mdf\u001b[0m\u001b[0;34m.\u001b[0m\u001b[0mset_index\u001b[0m\u001b[0;34m(\u001b[0m\u001b[0;34m[\u001b[0m\u001b[0;34m\"uniqueday_Id\"\u001b[0m\u001b[0;34m,\u001b[0m\u001b[0;34m\"intraday_Id\"\u001b[0m\u001b[0;34m]\u001b[0m\u001b[0;34m,\u001b[0m\u001b[0minplace\u001b[0m\u001b[0;34m=\u001b[0m\u001b[0;32mTrue\u001b[0m\u001b[0;34m)\u001b[0m\u001b[0;34m\u001b[0m\u001b[0;34m\u001b[0m\u001b[0m\n\u001b[0m\u001b[1;32m     69\u001b[0m \u001b[0;34m\u001b[0m\u001b[0m\n\u001b[1;32m     70\u001b[0m     \u001b[0;32mreturn\u001b[0m \u001b[0mdf\u001b[0m\u001b[0;34m\u001b[0m\u001b[0;34m\u001b[0m\u001b[0m\n",
      "\u001b[0;32m~/miniconda3/envs/MPC/lib/python3.9/site-packages/pandas/util/_decorators.py\u001b[0m in \u001b[0;36mwrapper\u001b[0;34m(*args, **kwargs)\u001b[0m\n\u001b[1;32m    309\u001b[0m                     \u001b[0mstacklevel\u001b[0m\u001b[0;34m=\u001b[0m\u001b[0mstacklevel\u001b[0m\u001b[0;34m,\u001b[0m\u001b[0;34m\u001b[0m\u001b[0;34m\u001b[0m\u001b[0m\n\u001b[1;32m    310\u001b[0m                 )\n\u001b[0;32m--> 311\u001b[0;31m             \u001b[0;32mreturn\u001b[0m \u001b[0mfunc\u001b[0m\u001b[0;34m(\u001b[0m\u001b[0;34m*\u001b[0m\u001b[0margs\u001b[0m\u001b[0;34m,\u001b[0m \u001b[0;34m**\u001b[0m\u001b[0mkwargs\u001b[0m\u001b[0;34m)\u001b[0m\u001b[0;34m\u001b[0m\u001b[0;34m\u001b[0m\u001b[0m\n\u001b[0m\u001b[1;32m    312\u001b[0m \u001b[0;34m\u001b[0m\u001b[0m\n\u001b[1;32m    313\u001b[0m         \u001b[0;32mreturn\u001b[0m \u001b[0mwrapper\u001b[0m\u001b[0;34m\u001b[0m\u001b[0;34m\u001b[0m\u001b[0m\n",
      "\u001b[0;32m~/miniconda3/envs/MPC/lib/python3.9/site-packages/pandas/core/frame.py\u001b[0m in \u001b[0;36mset_index\u001b[0;34m(self, keys, drop, append, inplace, verify_integrity)\u001b[0m\n\u001b[1;32m   5449\u001b[0m \u001b[0;34m\u001b[0m\u001b[0m\n\u001b[1;32m   5450\u001b[0m         \u001b[0;32mif\u001b[0m \u001b[0mmissing\u001b[0m\u001b[0;34m:\u001b[0m\u001b[0;34m\u001b[0m\u001b[0;34m\u001b[0m\u001b[0m\n\u001b[0;32m-> 5451\u001b[0;31m             \u001b[0;32mraise\u001b[0m \u001b[0mKeyError\u001b[0m\u001b[0;34m(\u001b[0m\u001b[0;34mf\"None of {missing} are in the columns\"\u001b[0m\u001b[0;34m)\u001b[0m\u001b[0;34m\u001b[0m\u001b[0;34m\u001b[0m\u001b[0m\n\u001b[0m\u001b[1;32m   5452\u001b[0m \u001b[0;34m\u001b[0m\u001b[0m\n\u001b[1;32m   5453\u001b[0m         \u001b[0;32mif\u001b[0m \u001b[0minplace\u001b[0m\u001b[0;34m:\u001b[0m\u001b[0;34m\u001b[0m\u001b[0;34m\u001b[0m\u001b[0m\n",
      "\u001b[0;31mKeyError\u001b[0m: \"None of ['uniqueday_Id', 'intraday_Id'] are in the columns\""
     ]
    }
   ],
   "source": [
    "model.setupdata(case='case2')\n",
    "model.update_theta()\n",
    "model.set_theta(model.theta)"
   ]
  },
  {
   "cell_type": "code",
   "execution_count": 6,
   "metadata": {},
   "outputs": [
    {
     "data": {
      "text/html": [
       "<div>\n",
       "<style scoped>\n",
       "    .dataframe tbody tr th:only-of-type {\n",
       "        vertical-align: middle;\n",
       "    }\n",
       "\n",
       "    .dataframe tbody tr th {\n",
       "        vertical-align: top;\n",
       "    }\n",
       "\n",
       "    .dataframe thead tr th {\n",
       "        text-align: left;\n",
       "    }\n",
       "\n",
       "    .dataframe thead tr:last-of-type th {\n",
       "        text-align: right;\n",
       "    }\n",
       "</style>\n",
       "<table border=\"1\" class=\"dataframe\">\n",
       "  <thead>\n",
       "    <tr>\n",
       "      <th></th>\n",
       "      <th>data</th>\n",
       "      <th colspan=\"7\" halign=\"left\">T</th>\n",
       "      <th colspan=\"3\" halign=\"left\">Tset</th>\n",
       "      <th>...</th>\n",
       "      <th colspan=\"3\" halign=\"left\">Tnext</th>\n",
       "      <th>T</th>\n",
       "      <th>Tnext</th>\n",
       "      <th>Tset</th>\n",
       "      <th>solar</th>\n",
       "      <th>timestep</th>\n",
       "      <th>switch</th>\n",
       "      <th>occupancy</th>\n",
       "    </tr>\n",
       "    <tr>\n",
       "      <th></th>\n",
       "      <th>zone</th>\n",
       "      <th>bathroom</th>\n",
       "      <th>bedroom_1</th>\n",
       "      <th>bedroom_2</th>\n",
       "      <th>bedroom_3</th>\n",
       "      <th>diningroom</th>\n",
       "      <th>kitchen</th>\n",
       "      <th>livingroom</th>\n",
       "      <th>bathroom</th>\n",
       "      <th>bedroom_1</th>\n",
       "      <th>bedroom_2</th>\n",
       "      <th>...</th>\n",
       "      <th>kitchen</th>\n",
       "      <th>livingroom</th>\n",
       "      <th>outside</th>\n",
       "      <th>singleroom</th>\n",
       "      <th>singleroom</th>\n",
       "      <th>singleroom</th>\n",
       "      <th></th>\n",
       "      <th></th>\n",
       "      <th>singleroom</th>\n",
       "      <th></th>\n",
       "    </tr>\n",
       "    <tr>\n",
       "      <th>uniqueday_Id</th>\n",
       "      <th>intraday_Id</th>\n",
       "      <th></th>\n",
       "      <th></th>\n",
       "      <th></th>\n",
       "      <th></th>\n",
       "      <th></th>\n",
       "      <th></th>\n",
       "      <th></th>\n",
       "      <th></th>\n",
       "      <th></th>\n",
       "      <th></th>\n",
       "      <th></th>\n",
       "      <th></th>\n",
       "      <th></th>\n",
       "      <th></th>\n",
       "      <th></th>\n",
       "      <th></th>\n",
       "      <th></th>\n",
       "      <th></th>\n",
       "      <th></th>\n",
       "      <th></th>\n",
       "      <th></th>\n",
       "    </tr>\n",
       "  </thead>\n",
       "  <tbody>\n",
       "    <tr>\n",
       "      <th rowspan=\"5\" valign=\"top\">2020-05-24</th>\n",
       "      <th>19:40:03</th>\n",
       "      <td>21.8</td>\n",
       "      <td>22.5</td>\n",
       "      <td>22.4</td>\n",
       "      <td>21.7</td>\n",
       "      <td>22.0</td>\n",
       "      <td>22.0</td>\n",
       "      <td>22.9</td>\n",
       "      <td>16.0</td>\n",
       "      <td>16.0</td>\n",
       "      <td>16.0</td>\n",
       "      <td>...</td>\n",
       "      <td>22.0</td>\n",
       "      <td>22.9</td>\n",
       "      <td>14.0</td>\n",
       "      <td>21.1625</td>\n",
       "      <td>21.1625</td>\n",
       "      <td>15.857143</td>\n",
       "      <td>605.0</td>\n",
       "      <td>300.0</td>\n",
       "      <td>False</td>\n",
       "      <td>True</td>\n",
       "    </tr>\n",
       "    <tr>\n",
       "      <th>19:45:03</th>\n",
       "      <td>21.8</td>\n",
       "      <td>22.5</td>\n",
       "      <td>22.4</td>\n",
       "      <td>21.7</td>\n",
       "      <td>22.0</td>\n",
       "      <td>22.0</td>\n",
       "      <td>22.9</td>\n",
       "      <td>16.0</td>\n",
       "      <td>16.0</td>\n",
       "      <td>16.0</td>\n",
       "      <td>...</td>\n",
       "      <td>22.0</td>\n",
       "      <td>22.9</td>\n",
       "      <td>14.0</td>\n",
       "      <td>21.1625</td>\n",
       "      <td>21.1125</td>\n",
       "      <td>15.857143</td>\n",
       "      <td>605.0</td>\n",
       "      <td>300.0</td>\n",
       "      <td>False</td>\n",
       "      <td>True</td>\n",
       "    </tr>\n",
       "    <tr>\n",
       "      <th>19:50:03</th>\n",
       "      <td>21.8</td>\n",
       "      <td>22.4</td>\n",
       "      <td>22.4</td>\n",
       "      <td>21.7</td>\n",
       "      <td>21.7</td>\n",
       "      <td>22.0</td>\n",
       "      <td>22.9</td>\n",
       "      <td>16.0</td>\n",
       "      <td>16.0</td>\n",
       "      <td>16.0</td>\n",
       "      <td>...</td>\n",
       "      <td>22.0</td>\n",
       "      <td>22.9</td>\n",
       "      <td>14.0</td>\n",
       "      <td>21.1125</td>\n",
       "      <td>21.1125</td>\n",
       "      <td>15.857143</td>\n",
       "      <td>605.0</td>\n",
       "      <td>300.0</td>\n",
       "      <td>False</td>\n",
       "      <td>True</td>\n",
       "    </tr>\n",
       "    <tr>\n",
       "      <th>19:55:03</th>\n",
       "      <td>21.8</td>\n",
       "      <td>22.4</td>\n",
       "      <td>22.4</td>\n",
       "      <td>21.7</td>\n",
       "      <td>21.7</td>\n",
       "      <td>22.0</td>\n",
       "      <td>22.9</td>\n",
       "      <td>16.0</td>\n",
       "      <td>16.0</td>\n",
       "      <td>16.0</td>\n",
       "      <td>...</td>\n",
       "      <td>22.0</td>\n",
       "      <td>22.9</td>\n",
       "      <td>14.0</td>\n",
       "      <td>21.1125</td>\n",
       "      <td>21.1125</td>\n",
       "      <td>15.857143</td>\n",
       "      <td>605.0</td>\n",
       "      <td>301.0</td>\n",
       "      <td>False</td>\n",
       "      <td>True</td>\n",
       "    </tr>\n",
       "    <tr>\n",
       "      <th>20:00:04</th>\n",
       "      <td>21.8</td>\n",
       "      <td>22.4</td>\n",
       "      <td>22.4</td>\n",
       "      <td>21.7</td>\n",
       "      <td>21.7</td>\n",
       "      <td>22.0</td>\n",
       "      <td>22.9</td>\n",
       "      <td>16.0</td>\n",
       "      <td>16.0</td>\n",
       "      <td>16.0</td>\n",
       "      <td>...</td>\n",
       "      <td>22.0</td>\n",
       "      <td>22.9</td>\n",
       "      <td>14.0</td>\n",
       "      <td>21.1125</td>\n",
       "      <td>21.1125</td>\n",
       "      <td>15.857143</td>\n",
       "      <td>605.0</td>\n",
       "      <td>300.0</td>\n",
       "      <td>False</td>\n",
       "      <td>True</td>\n",
       "    </tr>\n",
       "    <tr>\n",
       "      <th>...</th>\n",
       "      <th>...</th>\n",
       "      <td>...</td>\n",
       "      <td>...</td>\n",
       "      <td>...</td>\n",
       "      <td>...</td>\n",
       "      <td>...</td>\n",
       "      <td>...</td>\n",
       "      <td>...</td>\n",
       "      <td>...</td>\n",
       "      <td>...</td>\n",
       "      <td>...</td>\n",
       "      <td>...</td>\n",
       "      <td>...</td>\n",
       "      <td>...</td>\n",
       "      <td>...</td>\n",
       "      <td>...</td>\n",
       "      <td>...</td>\n",
       "      <td>...</td>\n",
       "      <td>...</td>\n",
       "      <td>...</td>\n",
       "      <td>...</td>\n",
       "      <td>...</td>\n",
       "    </tr>\n",
       "    <tr>\n",
       "      <th rowspan=\"5\" valign=\"top\">2021-05-24</th>\n",
       "      <th>16:45:04</th>\n",
       "      <td>19.5</td>\n",
       "      <td>19.0</td>\n",
       "      <td>19.3</td>\n",
       "      <td>20.3</td>\n",
       "      <td>20.1</td>\n",
       "      <td>20.5</td>\n",
       "      <td>18.7</td>\n",
       "      <td>16.0</td>\n",
       "      <td>15.0</td>\n",
       "      <td>15.0</td>\n",
       "      <td>...</td>\n",
       "      <td>20.5</td>\n",
       "      <td>18.7</td>\n",
       "      <td>13.0</td>\n",
       "      <td>18.9250</td>\n",
       "      <td>18.8000</td>\n",
       "      <td>16.714286</td>\n",
       "      <td>253.0</td>\n",
       "      <td>299.0</td>\n",
       "      <td>False</td>\n",
       "      <td>True</td>\n",
       "    </tr>\n",
       "    <tr>\n",
       "      <th>16:50:03</th>\n",
       "      <td>19.5</td>\n",
       "      <td>19.0</td>\n",
       "      <td>19.3</td>\n",
       "      <td>20.3</td>\n",
       "      <td>20.1</td>\n",
       "      <td>20.5</td>\n",
       "      <td>18.7</td>\n",
       "      <td>16.0</td>\n",
       "      <td>15.0</td>\n",
       "      <td>15.0</td>\n",
       "      <td>...</td>\n",
       "      <td>20.5</td>\n",
       "      <td>18.7</td>\n",
       "      <td>13.0</td>\n",
       "      <td>18.8000</td>\n",
       "      <td>18.7875</td>\n",
       "      <td>16.714286</td>\n",
       "      <td>211.0</td>\n",
       "      <td>300.0</td>\n",
       "      <td>False</td>\n",
       "      <td>True</td>\n",
       "    </tr>\n",
       "    <tr>\n",
       "      <th>16:55:03</th>\n",
       "      <td>19.4</td>\n",
       "      <td>19.0</td>\n",
       "      <td>19.3</td>\n",
       "      <td>20.3</td>\n",
       "      <td>20.1</td>\n",
       "      <td>20.5</td>\n",
       "      <td>18.7</td>\n",
       "      <td>16.0</td>\n",
       "      <td>15.0</td>\n",
       "      <td>15.0</td>\n",
       "      <td>...</td>\n",
       "      <td>20.8</td>\n",
       "      <td>18.7</td>\n",
       "      <td>13.0</td>\n",
       "      <td>18.7875</td>\n",
       "      <td>18.8250</td>\n",
       "      <td>16.714286</td>\n",
       "      <td>126.0</td>\n",
       "      <td>301.0</td>\n",
       "      <td>False</td>\n",
       "      <td>True</td>\n",
       "    </tr>\n",
       "    <tr>\n",
       "      <th>17:00:04</th>\n",
       "      <td>19.4</td>\n",
       "      <td>19.0</td>\n",
       "      <td>19.3</td>\n",
       "      <td>20.3</td>\n",
       "      <td>20.1</td>\n",
       "      <td>20.8</td>\n",
       "      <td>18.7</td>\n",
       "      <td>16.0</td>\n",
       "      <td>15.0</td>\n",
       "      <td>15.0</td>\n",
       "      <td>...</td>\n",
       "      <td>20.8</td>\n",
       "      <td>18.7</td>\n",
       "      <td>13.0</td>\n",
       "      <td>18.8250</td>\n",
       "      <td>18.8500</td>\n",
       "      <td>16.714286</td>\n",
       "      <td>NaN</td>\n",
       "      <td>299.0</td>\n",
       "      <td>False</td>\n",
       "      <td>True</td>\n",
       "    </tr>\n",
       "    <tr>\n",
       "      <th>17:05:03</th>\n",
       "      <td>19.4</td>\n",
       "      <td>19.0</td>\n",
       "      <td>19.3</td>\n",
       "      <td>20.3</td>\n",
       "      <td>20.3</td>\n",
       "      <td>20.8</td>\n",
       "      <td>18.7</td>\n",
       "      <td>16.0</td>\n",
       "      <td>15.0</td>\n",
       "      <td>15.0</td>\n",
       "      <td>...</td>\n",
       "      <td>20.8</td>\n",
       "      <td>18.7</td>\n",
       "      <td>13.0</td>\n",
       "      <td>18.8500</td>\n",
       "      <td>18.8500</td>\n",
       "      <td>16.714286</td>\n",
       "      <td>NaN</td>\n",
       "      <td>NaN</td>\n",
       "      <td>False</td>\n",
       "      <td>True</td>\n",
       "    </tr>\n",
       "  </tbody>\n",
       "</table>\n",
       "<p>102218 rows × 33 columns</p>\n",
       "</div>"
      ],
      "text/plain": [
       "data                            T                                           \\\n",
       "zone                     bathroom bedroom_1 bedroom_2 bedroom_3 diningroom   \n",
       "uniqueday_Id intraday_Id                                                     \n",
       "2020-05-24   19:40:03        21.8      22.5      22.4      21.7       22.0   \n",
       "             19:45:03        21.8      22.5      22.4      21.7       22.0   \n",
       "             19:50:03        21.8      22.4      22.4      21.7       21.7   \n",
       "             19:55:03        21.8      22.4      22.4      21.7       21.7   \n",
       "             20:00:04        21.8      22.4      22.4      21.7       21.7   \n",
       "...                           ...       ...       ...       ...        ...   \n",
       "2021-05-24   16:45:04        19.5      19.0      19.3      20.3       20.1   \n",
       "             16:50:03        19.5      19.0      19.3      20.3       20.1   \n",
       "             16:55:03        19.4      19.0      19.3      20.3       20.1   \n",
       "             17:00:04        19.4      19.0      19.3      20.3       20.1   \n",
       "             17:05:03        19.4      19.0      19.3      20.3       20.3   \n",
       "\n",
       "data                                            Tset                      ...  \\\n",
       "zone                     kitchen livingroom bathroom bedroom_1 bedroom_2  ...   \n",
       "uniqueday_Id intraday_Id                                                  ...   \n",
       "2020-05-24   19:40:03       22.0       22.9     16.0      16.0      16.0  ...   \n",
       "             19:45:03       22.0       22.9     16.0      16.0      16.0  ...   \n",
       "             19:50:03       22.0       22.9     16.0      16.0      16.0  ...   \n",
       "             19:55:03       22.0       22.9     16.0      16.0      16.0  ...   \n",
       "             20:00:04       22.0       22.9     16.0      16.0      16.0  ...   \n",
       "...                          ...        ...      ...       ...       ...  ...   \n",
       "2021-05-24   16:45:04       20.5       18.7     16.0      15.0      15.0  ...   \n",
       "             16:50:03       20.5       18.7     16.0      15.0      15.0  ...   \n",
       "             16:55:03       20.5       18.7     16.0      15.0      15.0  ...   \n",
       "             17:00:04       20.8       18.7     16.0      15.0      15.0  ...   \n",
       "             17:05:03       20.8       18.7     16.0      15.0      15.0  ...   \n",
       "\n",
       "data                       Tnext                             T      Tnext  \\\n",
       "zone                     kitchen livingroom outside singleroom singleroom   \n",
       "uniqueday_Id intraday_Id                                                    \n",
       "2020-05-24   19:40:03       22.0       22.9    14.0    21.1625    21.1625   \n",
       "             19:45:03       22.0       22.9    14.0    21.1625    21.1125   \n",
       "             19:50:03       22.0       22.9    14.0    21.1125    21.1125   \n",
       "             19:55:03       22.0       22.9    14.0    21.1125    21.1125   \n",
       "             20:00:04       22.0       22.9    14.0    21.1125    21.1125   \n",
       "...                          ...        ...     ...        ...        ...   \n",
       "2021-05-24   16:45:04       20.5       18.7    13.0    18.9250    18.8000   \n",
       "             16:50:03       20.5       18.7    13.0    18.8000    18.7875   \n",
       "             16:55:03       20.8       18.7    13.0    18.7875    18.8250   \n",
       "             17:00:04       20.8       18.7    13.0    18.8250    18.8500   \n",
       "             17:05:03       20.8       18.7    13.0    18.8500    18.8500   \n",
       "\n",
       "data                           Tset  solar timestep     switch occupancy  \n",
       "zone                     singleroom                 singleroom            \n",
       "uniqueday_Id intraday_Id                                                  \n",
       "2020-05-24   19:40:03     15.857143  605.0    300.0      False      True  \n",
       "             19:45:03     15.857143  605.0    300.0      False      True  \n",
       "             19:50:03     15.857143  605.0    300.0      False      True  \n",
       "             19:55:03     15.857143  605.0    301.0      False      True  \n",
       "             20:00:04     15.857143  605.0    300.0      False      True  \n",
       "...                             ...    ...      ...        ...       ...  \n",
       "2021-05-24   16:45:04     16.714286  253.0    299.0      False      True  \n",
       "             16:50:03     16.714286  211.0    300.0      False      True  \n",
       "             16:55:03     16.714286  126.0    301.0      False      True  \n",
       "             17:00:04     16.714286    NaN    299.0      False      True  \n",
       "             17:05:03     16.714286    NaN      NaN      False      True  \n",
       "\n",
       "[102218 rows x 33 columns]"
      ]
     },
     "execution_count": 6,
     "metadata": {},
     "output_type": "execute_result"
    }
   ],
   "source": [
    "model.raw"
   ]
  },
  {
   "cell_type": "code",
   "execution_count": 4,
   "metadata": {},
   "outputs": [],
   "source": [
    "train=model.make_trajectory_dict(model.df_summertrain)"
   ]
  },
  {
   "cell_type": "code",
   "execution_count": 5,
   "metadata": {},
   "outputs": [],
   "source": [
    "model.simulate(train)"
   ]
  },
  {
   "cell_type": "code",
   "execution_count": 6,
   "metadata": {},
   "outputs": [
    {
     "data": {
      "text/plain": [
       "['Lambda', 'C']"
      ]
     },
     "execution_count": 6,
     "metadata": {},
     "output_type": "execute_result"
    }
   ],
   "source": [
    "model.param2optimize"
   ]
  },
  {
   "cell_type": "code",
   "execution_count": 7,
   "metadata": {},
   "outputs": [
    {
     "data": {
      "text/plain": [
       "{'temperature_noise': array([0.]),\n",
       " 'obs_noise': array([0.1]),\n",
       " 'log_f': array([1.]),\n",
       " 'valverange': 1,\n",
       " 'Crad': array([1.]),\n",
       " 'Lambda': array([1.]),\n",
       " 'C': array([1.]),\n",
       " 'Prad': array([1.]),\n",
       " 'Tadd': array([1.]),\n",
       " 'Pocc': array([1.])}"
      ]
     },
     "execution_count": 7,
     "metadata": {},
     "output_type": "execute_result"
    }
   ],
   "source": [
    "model.param"
   ]
  },
  {
   "cell_type": "code",
   "execution_count": 8,
   "metadata": {},
   "outputs": [
    {
     "data": {
      "text/plain": [
       "array([1., 1.])"
      ]
     },
     "execution_count": 8,
     "metadata": {},
     "output_type": "execute_result"
    }
   ],
   "source": [
    "model.theta"
   ]
  },
  {
   "cell_type": "code",
   "execution_count": 9,
   "metadata": {},
   "outputs": [],
   "source": [
    "model.update_theta()"
   ]
  },
  {
   "cell_type": "code",
   "execution_count": 24,
   "metadata": {},
   "outputs": [
    {
     "data": {
      "text/plain": [
       "array([1.872e-05, 1.872e-05, 1.872e-05, 1.872e-05, 1.872e-05])"
      ]
     },
     "execution_count": 24,
     "metadata": {},
     "output_type": "execute_result"
    }
   ],
   "source": [
    "model.theta"
   ]
  },
  {
   "cell_type": "code",
   "execution_count": 11,
   "metadata": {},
   "outputs": [
    {
     "data": {
      "text/plain": [
       "2.8966859293194567"
      ]
     },
     "execution_count": 11,
     "metadata": {},
     "output_type": "execute_result"
    }
   ],
   "source": [
    "model.metric1(2*model.theta,train)"
   ]
  },
  {
   "cell_type": "code",
   "execution_count": 13,
   "metadata": {},
   "outputs": [],
   "source": [
    "sol=minimize(model.metric1,model.theta,args=(train),)"
   ]
  },
  {
   "cell_type": "code",
   "execution_count": 14,
   "metadata": {},
   "outputs": [
    {
     "data": {
      "text/plain": [
       "array([1.99989205, 1.50954269])"
      ]
     },
     "execution_count": 14,
     "metadata": {},
     "output_type": "execute_result"
    }
   ],
   "source": [
    "sol.x"
   ]
  },
  {
   "cell_type": "code",
   "execution_count": 15,
   "metadata": {},
   "outputs": [
    {
     "data": {
      "text/plain": [
       "[<matplotlib.lines.Line2D at 0x7f6751a52250>]"
      ]
     },
     "execution_count": 15,
     "metadata": {},
     "output_type": "execute_result"
    },
    {
     "data": {
      "image/png": "[encoded data removed]",
      "text/plain": [
       "<Figure size 432x288 with 1 Axes>"
      ]
     },
     "metadata": {
      "needs_background": "light"
     },
     "output_type": "display_data"
    }
   ],
   "source": [
    "plt.plot(train['prediction_obs'])\n",
    "plt.plot(train['state'])"
   ]
  },
  {
   "cell_type": "code",
   "execution_count": 7,
   "metadata": {},
   "outputs": [
    {
     "ename": "AttributeError",
     "evalue": "'mainmodel' object has no attribute 'trainarray'",
     "output_type": "error",
     "traceback": [
      "\u001b[0;31m---------------------------------------------------------------------------\u001b[0m",
      "\u001b[0;31mAttributeError\u001b[0m                            Traceback (most recent call last)",
      "\u001b[0;32m/tmp/ipykernel_75478/662163247.py\u001b[0m in \u001b[0;36m<module>\u001b[0;34m\u001b[0m\n\u001b[0;32m----> 1\u001b[0;31m \u001b[0msol\u001b[0m\u001b[0;34m=\u001b[0m\u001b[0mminimize\u001b[0m\u001b[0;34m(\u001b[0m\u001b[0mmodel\u001b[0m\u001b[0;34m.\u001b[0m\u001b[0mmetric1\u001b[0m\u001b[0;34m,\u001b[0m\u001b[0mmodel\u001b[0m\u001b[0;34m.\u001b[0m\u001b[0mtheta\u001b[0m\u001b[0;34m,\u001b[0m\u001b[0margs\u001b[0m\u001b[0;34m=\u001b[0m\u001b[0;34m(\u001b[0m\u001b[0mmodel\u001b[0m\u001b[0;34m.\u001b[0m\u001b[0mtrainarray\u001b[0m\u001b[0;34m)\u001b[0m\u001b[0;34m,\u001b[0m\u001b[0moptions\u001b[0m\u001b[0;34m=\u001b[0m\u001b[0;34m{\u001b[0m\u001b[0;34m'maxiter'\u001b[0m\u001b[0;34m:\u001b[0m\u001b[0;36m200\u001b[0m\u001b[0;34m,\u001b[0m\u001b[0;34m'disp'\u001b[0m\u001b[0;34m:\u001b[0m\u001b[0;32mTrue\u001b[0m\u001b[0;34m}\u001b[0m\u001b[0;34m)\u001b[0m\u001b[0;34m\u001b[0m\u001b[0;34m\u001b[0m\u001b[0m\n\u001b[0m",
      "\u001b[0;31mAttributeError\u001b[0m: 'mainmodel' object has no attribute 'trainarray'"
     ]
    }
   ],
   "source": [
    "sol=minimize(model.metric1,model.theta,args=(model.trainarray),options={'maxiter':200,'disp':True})"
   ]
  },
  {
   "cell_type": "code",
   "execution_count": 10,
   "metadata": {},
   "outputs": [
    {
     "data": {
      "text/plain": [
       "array([1.00015711, 0.94095864, 1.05888278])"
      ]
     },
     "execution_count": 10,
     "metadata": {},
     "output_type": "execute_result"
    }
   ],
   "source": [
    "sol.x"
   ]
  },
  {
   "cell_type": "code",
   "execution_count": 7,
   "metadata": {},
   "outputs": [],
   "source": [
    "model.set_theta(sol.x)\n",
    "model.update_theta()\n",
    "model.dic_simulate(model.testdic)\n",
    "dic=model.testdic[model.testdays[6]]"
   ]
  },
  {
   "cell_type": "code",
   "execution_count": 8,
   "metadata": {},
   "outputs": [
    {
     "data": {
      "text/plain": [
       "[<matplotlib.lines.Line2D at 0x7fb0cea17dc0>]"
      ]
     },
     "execution_count": 8,
     "metadata": {},
     "output_type": "execute_result"
    },
    {
     "data": {
      "image/png": "[encoded data removed]",
      "text/plain": [
       "<Figure size 432x288 with 1 Axes>"
      ]
     },
     "metadata": {
      "needs_background": "light"
     },
     "output_type": "display_data"
    }
   ],
   "source": [
    "plt.plot(dic['state'])"
   ]
  },
  {
   "cell_type": "code",
   "execution_count": 9,
   "metadata": {},
   "outputs": [
    {
     "data": {
      "text/plain": [
       "[<matplotlib.lines.Line2D at 0x7fb0ce448df0>]"
      ]
     },
     "execution_count": 9,
     "metadata": {},
     "output_type": "execute_result"
    },
    {
     "data": {
      "image/png": "[encoded data removed]",
      "text/plain": [
       "<Figure size 432x288 with 1 Axes>"
      ]
     },
     "metadata": {
      "needs_background": "light"
     },
     "output_type": "display_data"
    }
   ],
   "source": [
    "plt.plot(dic['predicted'])"
   ]
  }
 ],
 "metadata": {
  "interpreter": {
   "hash": "5a7bf3cfd2ed08f1933314b2d159a2ae145dd71feaf7ab861b0b1c02b10e7830"
  },
  "kernelspec": {
   "display_name": "Python 3.9.7 ('MPC')",
   "language": "python",
   "name": "python3"
  },
  "language_info": {
   "codemirror_mode": {
    "name": "ipython",
    "version": 3
   },
   "file_extension": ".py",
   "mimetype": "text/x-python",
   "name": "python",
   "nbconvert_exporter": "python",
   "pygments_lexer": "ipython3",
   "version": "3.9.7"
  },
  "orig_nbformat": 4
 },
 "nbformat": 4,
 "nbformat_minor": 2
}
