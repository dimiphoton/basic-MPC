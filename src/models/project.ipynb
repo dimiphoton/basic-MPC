{
 "cells": [
  {
   "cell_type": "code",
   "execution_count": 1,
   "metadata": {},
   "outputs": [],
   "source": [
    "from model_On_Array2 import *\n",
    "import pandas as pd\n",
    "import os\n",
    "import sys\n",
    "import itertools\n",
    "import random\n",
    "from pathlib import Path\n",
    "import numpy as np\n",
    "import dataprocessing2\n",
    "import glob\n",
    "import os.path\n",
    "from datetime import datetime, timedelta\n",
    "import process_utils\n",
    "from sklearn.metrics import mean_squared_error\n",
    "from scipy.optimize import minimize\n",
    "from scipy.optimize import leastsq\n",
    "from scipy.optimize import least_squares\n",
    "from sklearn.model_selection import train_test_split\n",
    "import pickle "
   ]
  },
  {
   "cell_type": "code",
   "execution_count": 2,
   "metadata": {},
   "outputs": [],
   "source": [
    "model=mainmodel(maison='singleroom')\n",
    "model.update_theta()\n",
    "model.set_theta(model.theta)"
   ]
  },
  {
   "cell_type": "code",
   "execution_count": 3,
   "metadata": {},
   "outputs": [],
   "source": [
    "model.setupdata()"
   ]
  },
  {
   "cell_type": "code",
   "execution_count": 5,
   "metadata": {},
   "outputs": [],
   "source": [
    "line=0\n",
    "dic=model.trainarray\n",
    "state=dic.get('state')\n",
    "Tset=dic['Tset']\n",
    "external=dic['external']\n",
    "Twater=dic['Twater']\n",
    "switch=dic['switch']\n",
    "occupancy=dic['occupancy']\n",
    "timestep=dic['timestep']\n"
   ]
  },
  {
   "cell_type": "code",
   "execution_count": 6,
   "metadata": {},
   "outputs": [
    {
     "name": "stdout",
     "output_type": "stream",
     "text": [
      "state [23.1375]\n",
      "state [23.13779306]\n",
      "state [23.13808612]\n",
      "state [23.13837918]\n",
      "state [23.13867223]\n",
      "state [23.13896529]\n",
      "state [23.13925835]\n",
      "state [23.13955141]\n",
      "state [23.13984447]\n",
      "state [23.14013753]\n"
     ]
    },
    {
     "data": {
      "text/plain": [
       "[array([23.14043058]),\n",
       " array([23.14043058]),\n",
       " array([23.14043058]),\n",
       " array([23.14043058]),\n",
       " array([23.14043058]),\n",
       " array([23.14043058]),\n",
       " array([23.14043058]),\n",
       " array([23.14043058]),\n",
       " array([23.14043058]),\n",
       " array([23.14043058])]"
      ]
     },
     "execution_count": 6,
     "metadata": {},
     "output_type": "execute_result"
    }
   ],
   "source": [
    "[model.thermalmodel(state[0]\\\n",
    "                  ,Tset[0]\\\n",
    "                  ,external[0]\\\n",
    "                  ,Twater[0]\\\n",
    "                  ,switch[0]\\\n",
    "                  ,occupancy[0]\\\n",
    "                  ,timestep[0]\\\n",
    "                  ,noisymeasure=False) for i in range(10)]"
   ]
  },
  {
   "cell_type": "code",
   "execution_count": 7,
   "metadata": {},
   "outputs": [
    {
     "name": "stdout",
     "output_type": "stream",
     "text": [
      "state [23.14043058]\n",
      "state [23.17042364]\n",
      "state [23.20041669]\n",
      "state [23.23040973]\n",
      "state [23.26040276]\n"
     ]
    },
    {
     "data": {
      "text/plain": [
       "[0.0002916020225394362,\n",
       " 0.0001668408879816532,\n",
       " 0.001841244942612702,\n",
       " 0.005314812567184106,\n",
       " 0.010587542142448727]"
      ]
     },
     "execution_count": 7,
     "metadata": {},
     "output_type": "execute_result"
    }
   ],
   "source": [
    "[model.metric1(np.array([1,1,0.9]),dic=model.trainarray,noisymeasure=False) for i in range(5)]"
   ]
  }
 ],
 "metadata": {
  "interpreter": {
   "hash": "d5fb6cc1ad084f0ae76883e6065a602e165a40ead7f38794240756e40761b0fe"
  },
  "kernelspec": {
   "display_name": "Python 3.8.2 64-bit ('deep_learning': conda)",
   "language": "python",
   "name": "python3"
  },
  "language_info": {
   "codemirror_mode": {
    "name": "ipython",
    "version": 3
   },
   "file_extension": ".py",
   "mimetype": "text/x-python",
   "name": "python",
   "nbconvert_exporter": "python",
   "pygments_lexer": "ipython3",
   "version": "3.9.7"
  },
  "orig_nbformat": 4
 },
 "nbformat": 4,
 "nbformat_minor": 2
}
