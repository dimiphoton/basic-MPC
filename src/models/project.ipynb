{
 "cells": [
  {
   "cell_type": "code",
   "execution_count": 1,
   "metadata": {},
   "outputs": [],
   "source": [
    "from model_On_Array2 import *\n",
    "import pandas as pd\n",
    "import os\n",
    "import sys\n",
    "import itertools\n",
    "import random\n",
    "from pathlib import Path\n",
    "import numpy as np\n",
    "import dataprocessing2\n",
    "import glob\n",
    "import os.path\n",
    "from datetime import datetime, timedelta\n",
    "import process_utils\n",
    "from sklearn.metrics import mean_squared_error\n",
    "from scipy.optimize import minimize\n",
    "from scipy.optimize import leastsq\n",
    "from scipy.optimize import least_squares\n",
    "from sklearn.model_selection import train_test_split\n",
    "import pickle "
   ]
  },
  {
   "cell_type": "code",
   "execution_count": 2,
   "metadata": {},
   "outputs": [],
   "source": [
    "model=mainmodel(maison='singleroom')"
   ]
  },
  {
   "cell_type": "code",
   "execution_count": 3,
   "metadata": {},
   "outputs": [],
   "source": [
    "model.setupdata()"
   ]
  },
  {
   "cell_type": "code",
   "execution_count": 4,
   "metadata": {},
   "outputs": [
    {
     "data": {
      "text/plain": [
       "[0.0035656827371950807,\n",
       " 0.0035656827371950807,\n",
       " 0.0035656827371950807,\n",
       " 0.0035656827371950807,\n",
       " 0.0035656827371950807]"
      ]
     },
     "execution_count": 4,
     "metadata": {},
     "output_type": "execute_result"
    }
   ],
   "source": [
    "[model.metric1(np.array([2,2,1]),dic=model.trainarray,noisymeasure=False) for i in range(5)]"
   ]
  },
  {
   "cell_type": "code",
   "execution_count": 7,
   "metadata": {},
   "outputs": [
    {
     "data": {
      "text/plain": [
       "[0.03362044699329365,\n",
       " 0.03920222787498267,\n",
       " 0.04525914820959538,\n",
       " 0.051791207536108184,\n",
       " 0.05879840539349788]"
      ]
     },
     "execution_count": 7,
     "metadata": {},
     "output_type": "execute_result"
    }
   ],
   "source": [
    "[model.metric1(np.array([2,1.9999,1]),dic=model.trainarray,noisymeasure=False) for i in range(5)]"
   ]
  },
  {
   "cell_type": "code",
   "execution_count": 21,
   "metadata": {},
   "outputs": [
    {
     "name": "stdout",
     "output_type": "stream",
     "text": [
      "liste à concaténer [array([1]), array([1]), array([5])]\n",
      "concatenration [1 1 5]\n",
      "theta avant [1 1 5]\n",
      "theta après [1 1 5]\n",
      "[1 1 5]\n",
      "{'temperature_noise': array([0]), 'obs_noise': array([0.1]), 'Qfamily': array([0.5]), 'log_f': array([1]), 'Lambda': array([1]), 'C': array([1]), 'Prad': array([5]), 'ThetaRad1': array([5.]), 'ThetaRad2': array([1.]), 'Pocc': array([1.])}\n",
      "rms 0.06428586718623445\n"
     ]
    },
    {
     "data": {
      "text/plain": [
       "0.06428586718623445"
      ]
     },
     "execution_count": 21,
     "metadata": {},
     "output_type": "execute_result"
    }
   ],
   "source": [
    "model.metric1(np.array([1,1,5]),dic=model.trainarray,noisymeasure=False)"
   ]
  },
  {
   "cell_type": "code",
   "execution_count": 53,
   "metadata": {},
   "outputs": [],
   "source": [
    "res_2 = least_squares(fun=model.res1, x0=np.array([10,10,10])\\\n",
    "                     ,args=(model.trainarray,False),jac='3-point'\\\n",
    "                     ,bounds=(np.array([0.01,0.01,0.01]),np.array([1000,1000,1000])))"
   ]
  },
  {
   "cell_type": "code",
   "execution_count": 54,
   "metadata": {},
   "outputs": [
    {
     "data": {
      "text/plain": [
       " active_mask: array([0, 0, 0])\n",
       "        cost: 169531.75467479485\n",
       "         fun: array([3.2919246 , 3.25442521, 3.25442521, ..., 3.1976999 , 3.18870337,\n",
       "       3.22445093])\n",
       "        grad: array([2579726.46610443, 2579709.21014316, 2579723.16267978])\n",
       "         jac: array([[24.71174133, 24.71157722, 24.71171204],\n",
       "       [24.71183422, 24.71167011, 24.71180493],\n",
       "       [24.71183422, 24.71167011, 24.71180493],\n",
       "       ...,\n",
       "       [24.79888377, 24.79871901, 24.79885425],\n",
       "       [24.63406768, 24.6339041 , 24.63403854],\n",
       "       [24.71636729, 24.71620312, 24.71633796]])\n",
       "     message: '`xtol` termination condition is satisfied.'\n",
       "        nfev: 12\n",
       "        njev: 1\n",
       "  optimality: 25771467.39638326\n",
       "      status: 3\n",
       "     success: True\n",
       "           x: array([10., 10., 10.])"
      ]
     },
     "execution_count": 54,
     "metadata": {},
     "output_type": "execute_result"
    }
   ],
   "source": [
    "res_2"
   ]
  },
  {
   "cell_type": "code",
   "execution_count": 22,
   "metadata": {},
   "outputs": [],
   "source": [
    "soln = minimize(model.metric1, model.theta, args=(model.trainarray)\\\n",
    "               ,options={'maxiter':200}\\\n",
    "               )"
   ]
  },
  {
   "cell_type": "code",
   "execution_count": 23,
   "metadata": {},
   "outputs": [
    {
     "data": {
      "text/plain": [
       "array([1., 1., 1.])"
      ]
     },
     "execution_count": 23,
     "metadata": {},
     "output_type": "execute_result"
    }
   ],
   "source": [
    "soln.x"
   ]
  },
  {
   "cell_type": "code",
   "execution_count": null,
   "metadata": {},
   "outputs": [],
   "source": []
  },
  {
   "cell_type": "code",
   "execution_count": null,
   "metadata": {},
   "outputs": [],
   "source": [
    "object = Object() \n",
    "filehandler = open(filename, 'w') \n",
    "pickle.dump(object, filehandler)"
   ]
  },
  {
   "cell_type": "code",
   "execution_count": 16,
   "metadata": {},
   "outputs": [],
   "source": [
    "model.set_theta(soln.x)"
   ]
  },
  {
   "cell_type": "code",
   "execution_count": 17,
   "metadata": {},
   "outputs": [
    {
     "data": {
      "text/plain": [
       "0.03827622505589799"
      ]
     },
     "execution_count": 17,
     "metadata": {},
     "output_type": "execute_result"
    }
   ],
   "source": [
    "model.metric1(theta=model.theta,dic=model.trainarray)"
   ]
  }
 ],
 "metadata": {
  "interpreter": {
   "hash": "d5fb6cc1ad084f0ae76883e6065a602e165a40ead7f38794240756e40761b0fe"
  },
  "kernelspec": {
   "display_name": "Python 3.8.2 64-bit ('deep_learning': conda)",
   "language": "python",
   "name": "python3"
  },
  "language_info": {
   "codemirror_mode": {
    "name": "ipython",
    "version": 3
   },
   "file_extension": ".py",
   "mimetype": "text/x-python",
   "name": "python",
   "nbconvert_exporter": "python",
   "pygments_lexer": "ipython3",
   "version": "3.9.7"
  },
  "orig_nbformat": 4
 },
 "nbformat": 4,
 "nbformat_minor": 2
}
