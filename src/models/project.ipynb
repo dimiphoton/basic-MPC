{
 "cells": [
  {
   "cell_type": "code",
   "execution_count": 4,
   "metadata": {},
   "outputs": [
    {
     "ename": "SyntaxError",
     "evalue": "invalid syntax (model_On_Array.py, line 108)",
     "output_type": "error",
     "traceback": [
      "Traceback \u001b[1;36m(most recent call last)\u001b[0m:\n",
      "  File \u001b[0;32m\"C:\\Users\\DimiP\\.conda\\envs\\deep_learning\\lib\\site-packages\\IPython\\core\\interactiveshell.py\"\u001b[0m, line \u001b[0;32m3331\u001b[0m, in \u001b[0;35mrun_code\u001b[0m\n    exec(code_obj, self.user_global_ns, self.user_ns)\n",
      "\u001b[1;36m  File \u001b[1;32m\"<ipython-input-4-f4791b1e3470>\"\u001b[1;36m, line \u001b[1;32m1\u001b[1;36m, in \u001b[1;35m<module>\u001b[1;36m\u001b[0m\n\u001b[1;33m    from model_On_Array import *\u001b[0m\n",
      "\u001b[1;36m  File \u001b[1;32m\"c:\\Users\\DimiP\\Documents\\GitHub\\ULG\\COURS\\basic-MPC\\src\\models\\model_On_Array.py\"\u001b[1;36m, line \u001b[1;32m108\u001b[0m\n\u001b[1;33m    def simulate(self,theta  **params):\u001b[0m\n\u001b[1;37m                             ^\u001b[0m\n\u001b[1;31mSyntaxError\u001b[0m\u001b[1;31m:\u001b[0m invalid syntax\n"
     ]
    }
   ],
   "source": [
    "from model_On_Array import *\n",
    "import pandas as pd\n",
    "import os\n",
    "import sys\n",
    "import itertools\n",
    "import random\n",
    "from pathlib import Path\n",
    "import numpy as np"
   ]
  },
  {
   "cell_type": "code",
   "execution_count": 2,
   "metadata": {},
   "outputs": [],
   "source": [
    "model=mainmodel(maison='multizone')\n",
    "model.computeLambda()"
   ]
  },
  {
   "cell_type": "code",
   "execution_count": 10,
   "metadata": {},
   "outputs": [
    {
     "data": {
      "text/plain": [
       "{'valvetrigger': 1,\n",
       " 'temperature_noise': 0.0,\n",
       " 'Prad': 1000,\n",
       " 'log_f': 1,\n",
       " 'T_25': 1,\n",
       " 'T_50': 4,\n",
       " 'T_100': 7,\n",
       " 'zones': ['bath',\n",
       "  'bed1',\n",
       "  'bed2',\n",
       "  'bed3',\n",
       "  'dining',\n",
       "  'kitchen',\n",
       "  'living',\n",
       "  'hall',\n",
       "  'exterior'],\n",
       " 'C': array([100., 100., 100., 100., 100., 100., 100., 100.]),\n",
       " 'edges': [(0, 7),\n",
       "  (1, 7),\n",
       "  (2, 7),\n",
       "  (3, 7),\n",
       "  (4, 7),\n",
       "  (5, 7),\n",
       "  (0, 8),\n",
       "  (1, 8),\n",
       "  (2, 8),\n",
       "  (3, 8),\n",
       "  (4, 8),\n",
       "  (5, 8),\n",
       "  (6, 8),\n",
       "  (6, 7),\n",
       "  (7, 8),\n",
       "  (4, 5),\n",
       "  (2, 3)],\n",
       " 'Lambda': array([0.01, 0.01, 0.01, 0.01, 0.01, 0.01, 0.01, 0.01, 0.01, 0.01, 0.01,\n",
       "        0.01, 0.01, 0.01, 0.01, 0.01, 0.01]),\n",
       " 'matrix': array([[0.  , 0.  , 0.  , 0.  , 0.  , 0.  , 0.  , 0.01, 0.01],\n",
       "        [0.  , 0.  , 0.  , 0.  , 0.  , 0.  , 0.  , 0.01, 0.01],\n",
       "        [0.  , 0.  , 0.  , 0.01, 0.  , 0.  , 0.  , 0.01, 0.01],\n",
       "        [0.  , 0.  , 0.01, 0.  , 0.  , 0.  , 0.  , 0.01, 0.01],\n",
       "        [0.  , 0.  , 0.  , 0.  , 0.  , 0.01, 0.  , 0.01, 0.01],\n",
       "        [0.  , 0.  , 0.  , 0.  , 0.01, 0.  , 0.  , 0.01, 0.01],\n",
       "        [0.  , 0.  , 0.  , 0.  , 0.  , 0.  , 0.  , 0.01, 0.01],\n",
       "        [0.01, 0.01, 0.01, 0.01, 0.01, 0.01, 0.01, 0.  , 0.01],\n",
       "        [0.01, 0.01, 0.01, 0.01, 0.01, 0.01, 0.01, 0.01, 0.  ]])}"
      ]
     },
     "execution_count": 10,
     "metadata": {},
     "output_type": "execute_result"
    }
   ],
   "source": [
    "model.simulate()"
   ]
  },
  {
   "cell_type": "code",
   "execution_count": 7,
   "metadata": {},
   "outputs": [],
   "source": [
    "a,b=model.toy()\n",
    "a=[20,10,10,10,10,10,20]\n",
    "b=[20]"
   ]
  },
  {
   "cell_type": "code",
   "execution_count": 9,
   "metadata": {},
   "outputs": [
    {
     "data": {
      "text/plain": [
       "array([1000., 1000., 1000.,    0., 1000., 1000., 1000.])"
      ]
     },
     "execution_count": 9,
     "metadata": {},
     "output_type": "execute_result"
    }
   ],
   "source": [
    "model.heating(a,[50,50,50,10,50,50,50])"
   ]
  },
  {
   "cell_type": "code",
   "execution_count": 20,
   "metadata": {},
   "outputs": [
    {
     "data": {
      "text/plain": [
       "array([21.2, 11.8, 11.8, 11.8, 11.8, 11.8, 21.2, 48.9])"
      ]
     },
     "execution_count": 20,
     "metadata": {},
     "output_type": "execute_result"
    }
   ],
   "source": [
    "model.thermalmodel(a,b,300,heating=[50,50,50,50,50,50,50])"
   ]
  },
  {
   "cell_type": "code",
   "execution_count": 12,
   "metadata": {},
   "outputs": [
    {
     "data": {
      "text/plain": [
       "[[3, 4, 5], [9, 10, 11]]"
      ]
     },
     "execution_count": 12,
     "metadata": {},
     "output_type": "execute_result"
    }
   ],
   "source": [
    "[[1,2,3],[3,4,5],[9,10,11]][1:]"
   ]
  }
 ],
 "metadata": {
  "interpreter": {
   "hash": "d5fb6cc1ad084f0ae76883e6065a602e165a40ead7f38794240756e40761b0fe"
  },
  "kernelspec": {
   "display_name": "Python 3.8.2 64-bit ('deep_learning': conda)",
   "language": "python",
   "name": "python3"
  },
  "language_info": {
   "codemirror_mode": {
    "name": "ipython",
    "version": 3
   },
   "file_extension": ".py",
   "mimetype": "text/x-python",
   "name": "python",
   "nbconvert_exporter": "python",
   "pygments_lexer": "ipython3",
   "version": "3.8.2"
  },
  "orig_nbformat": 4
 },
 "nbformat": 4,
 "nbformat_minor": 2
}
