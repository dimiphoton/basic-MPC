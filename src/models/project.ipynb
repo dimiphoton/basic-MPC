{
 "cells": [
  {
   "cell_type": "code",
   "execution_count": 1,
   "metadata": {},
   "outputs": [],
   "source": [
    "from model_On_Array2 import *\n",
    "import pandas as pd\n",
    "import os\n",
    "import sys\n",
    "import itertools\n",
    "import random\n",
    "from pathlib import Path\n",
    "import numpy as np\n",
    "import dataprocessing2\n",
    "import glob\n",
    "import os.path\n",
    "from datetime import datetime, timedelta\n",
    "import process_utils\n",
    "from sklearn.metrics import mean_squared_error\n",
    "from scipy.optimize import minimize\n",
    "from scipy.optimize import leastsq\n",
    "from scipy.optimize import least_squares\n",
    "from sklearn.model_selection import train_test_split\n",
    "import pickle "
   ]
  },
  {
   "cell_type": "code",
   "execution_count": 2,
   "metadata": {},
   "outputs": [],
   "source": [
    "model=mainmodel(maison='singleroom')\n",
    "model.update_theta()\n",
    "model.set_theta(model.theta)"
   ]
  },
  {
   "cell_type": "code",
   "execution_count": 3,
   "metadata": {},
   "outputs": [],
   "source": [
    "model.setupdata()"
   ]
  },
  {
   "cell_type": "code",
   "execution_count": 4,
   "metadata": {},
   "outputs": [
    {
     "data": {
      "text/plain": [
       "array([21.3125])"
      ]
     },
     "execution_count": 4,
     "metadata": {},
     "output_type": "execute_result"
    }
   ],
   "source": [
    "model.trainarray.get('state')[0]"
   ]
  },
  {
   "cell_type": "code",
   "execution_count": 22,
   "metadata": {},
   "outputs": [],
   "source": [
    "line=0\n",
    "dic=model.trainarray\n",
    "state=dic.get('state')\n",
    "Tset=dic['Tset']\n",
    "external=dic['external']\n",
    "Twater=dic['Twater']\n",
    "switch=dic['switch']\n",
    "occupancy=dic['occupancy']\n",
    "timestep=dic['timestep']\n"
   ]
  },
  {
   "cell_type": "code",
   "execution_count": 29,
   "metadata": {},
   "outputs": [
    {
     "name": "stdout",
     "output_type": "stream",
     "text": [
      "state [21.41153372]\n",
      "state [21.4118273]\n",
      "state [21.41212087]\n",
      "state [21.41241445]\n",
      "state [21.41270803]\n",
      "state [21.4130016]\n",
      "state [21.41329518]\n",
      "state [21.41358876]\n",
      "state [21.41388233]\n",
      "state [21.41417591]\n"
     ]
    },
    {
     "data": {
      "text/plain": [
       "[array([21.41446948]),\n",
       " array([21.41446948]),\n",
       " array([21.41446948]),\n",
       " array([21.41446948]),\n",
       " array([21.41446948]),\n",
       " array([21.41446948]),\n",
       " array([21.41446948]),\n",
       " array([21.41446948]),\n",
       " array([21.41446948]),\n",
       " array([21.41446948])]"
      ]
     },
     "execution_count": 29,
     "metadata": {},
     "output_type": "execute_result"
    }
   ],
   "source": [
    "[model.thermalmodel(state[0]\\\n",
    "                  ,Tset[0]\\\n",
    "                  ,external[0]\\\n",
    "                  ,Twater[0]\\\n",
    "                  ,switch[0]\\\n",
    "                  ,occupancy[0]\\\n",
    "                  ,timestep[0]\\\n",
    "                  ,noisymeasure=False) for i in range(10)]"
   ]
  },
  {
   "cell_type": "code",
   "execution_count": 9,
   "metadata": {},
   "outputs": [
    {
     "name": "stdout",
     "output_type": "stream",
     "text": [
      "state [21.31338082]\n",
      "state [23.1375]\n"
     ]
    },
    {
     "data": {
      "text/plain": [
       "array([[21.34337442],\n",
       "       [23.16749306]])"
      ]
     },
     "execution_count": 9,
     "metadata": {},
     "output_type": "execute_result"
    }
   ],
   "source": [
    "model.predict1(model.trainarray)\n",
    "model.trainarray['predicted']"
   ]
  },
  {
   "cell_type": "code",
   "execution_count": 10,
   "metadata": {},
   "outputs": [
    {
     "name": "stdout",
     "output_type": "stream",
     "text": [
      "state [21.34337442]\n",
      "state [23.16749306]\n"
     ]
    },
    {
     "ename": "KeyError",
     "evalue": "'next_state'",
     "output_type": "error",
     "traceback": [
      "\u001b[0;31m---------------------------------------------------------------------------\u001b[0m",
      "\u001b[0;31mKeyError\u001b[0m                                  Traceback (most recent call last)",
      "\u001b[0;32m/tmp/ipykernel_16781/1372500563.py\u001b[0m in \u001b[0;36m<module>\u001b[0;34m\u001b[0m\n\u001b[0;32m----> 1\u001b[0;31m \u001b[0;34m[\u001b[0m\u001b[0mmodel\u001b[0m\u001b[0;34m.\u001b[0m\u001b[0mmetric1\u001b[0m\u001b[0;34m(\u001b[0m\u001b[0mnp\u001b[0m\u001b[0;34m.\u001b[0m\u001b[0marray\u001b[0m\u001b[0;34m(\u001b[0m\u001b[0;34m[\u001b[0m\u001b[0;36m1\u001b[0m\u001b[0;34m,\u001b[0m\u001b[0;36m1\u001b[0m\u001b[0;34m,\u001b[0m\u001b[0;36m1\u001b[0m\u001b[0;34m]\u001b[0m\u001b[0;34m)\u001b[0m\u001b[0;34m,\u001b[0m\u001b[0mdic\u001b[0m\u001b[0;34m=\u001b[0m\u001b[0mmodel\u001b[0m\u001b[0;34m.\u001b[0m\u001b[0mtrainarray\u001b[0m\u001b[0;34m,\u001b[0m\u001b[0mnoisymeasure\u001b[0m\u001b[0;34m=\u001b[0m\u001b[0;32mFalse\u001b[0m\u001b[0;34m)\u001b[0m \u001b[0;32mfor\u001b[0m \u001b[0mi\u001b[0m \u001b[0;32min\u001b[0m \u001b[0mrange\u001b[0m\u001b[0;34m(\u001b[0m\u001b[0;36m5\u001b[0m\u001b[0;34m)\u001b[0m\u001b[0;34m]\u001b[0m\u001b[0;34m\u001b[0m\u001b[0;34m\u001b[0m\u001b[0m\n\u001b[0m",
      "\u001b[0;32m/tmp/ipykernel_16781/1372500563.py\u001b[0m in \u001b[0;36m<listcomp>\u001b[0;34m(.0)\u001b[0m\n\u001b[0;32m----> 1\u001b[0;31m \u001b[0;34m[\u001b[0m\u001b[0mmodel\u001b[0m\u001b[0;34m.\u001b[0m\u001b[0mmetric1\u001b[0m\u001b[0;34m(\u001b[0m\u001b[0mnp\u001b[0m\u001b[0;34m.\u001b[0m\u001b[0marray\u001b[0m\u001b[0;34m(\u001b[0m\u001b[0;34m[\u001b[0m\u001b[0;36m1\u001b[0m\u001b[0;34m,\u001b[0m\u001b[0;36m1\u001b[0m\u001b[0;34m,\u001b[0m\u001b[0;36m1\u001b[0m\u001b[0;34m]\u001b[0m\u001b[0;34m)\u001b[0m\u001b[0;34m,\u001b[0m\u001b[0mdic\u001b[0m\u001b[0;34m=\u001b[0m\u001b[0mmodel\u001b[0m\u001b[0;34m.\u001b[0m\u001b[0mtrainarray\u001b[0m\u001b[0;34m,\u001b[0m\u001b[0mnoisymeasure\u001b[0m\u001b[0;34m=\u001b[0m\u001b[0;32mFalse\u001b[0m\u001b[0;34m)\u001b[0m \u001b[0;32mfor\u001b[0m \u001b[0mi\u001b[0m \u001b[0;32min\u001b[0m \u001b[0mrange\u001b[0m\u001b[0;34m(\u001b[0m\u001b[0;36m5\u001b[0m\u001b[0;34m)\u001b[0m\u001b[0;34m]\u001b[0m\u001b[0;34m\u001b[0m\u001b[0;34m\u001b[0m\u001b[0m\n\u001b[0m",
      "\u001b[0;32m~/Documents/REPOS/PROJETS PERSO/basic-MPC/src/models/model_On_Array2.py\u001b[0m in \u001b[0;36mmetric1\u001b[0;34m(self, theta, dic, noisymeasure)\u001b[0m\n\u001b[1;32m    336\u001b[0m \u001b[0;34m\u001b[0m\u001b[0m\n\u001b[1;32m    337\u001b[0m \u001b[0;34m\u001b[0m\u001b[0m\n\u001b[0;32m--> 338\u001b[0;31m         \u001b[0;32mreturn\u001b[0m \u001b[0mmean_squared_error\u001b[0m\u001b[0;34m(\u001b[0m\u001b[0mdic\u001b[0m\u001b[0;34m[\u001b[0m\u001b[0;34m'next_state'\u001b[0m\u001b[0;34m]\u001b[0m\u001b[0;34m,\u001b[0m\u001b[0mdic\u001b[0m\u001b[0;34m[\u001b[0m\u001b[0;34m'predicted'\u001b[0m\u001b[0;34m]\u001b[0m\u001b[0;34m)\u001b[0m\u001b[0;34m\u001b[0m\u001b[0;34m\u001b[0m\u001b[0m\n\u001b[0m\u001b[1;32m    339\u001b[0m \u001b[0;34m\u001b[0m\u001b[0m\n\u001b[1;32m    340\u001b[0m \u001b[0;34m\u001b[0m\u001b[0m\n",
      "\u001b[0;31mKeyError\u001b[0m: 'next_state'"
     ]
    }
   ],
   "source": [
    "[model.metric1(np.array([1,1,1]),dic=model.trainarray,noisymeasure=False) for i in range(5)]"
   ]
  },
  {
   "cell_type": "code",
   "execution_count": 7,
   "metadata": {},
   "outputs": [
    {
     "data": {
      "text/plain": [
       "[0.09360511521568249,\n",
       " 0.11279616616635249,\n",
       " 0.13378639866445208,\n",
       " 0.1565758110907127,\n",
       " 0.18116440182587074]"
      ]
     },
     "execution_count": 7,
     "metadata": {},
     "output_type": "execute_result"
    }
   ],
   "source": [
    "[model.metric1(np.array([1,1,0.99]),dic=model.trainarray,noisymeasure=False) for i in range(5)]"
   ]
  },
  {
   "cell_type": "code",
   "execution_count": 21,
   "metadata": {},
   "outputs": [
    {
     "name": "stdout",
     "output_type": "stream",
     "text": [
      "liste à concaténer [array([1]), array([1]), array([5])]\n",
      "concatenration [1 1 5]\n",
      "theta avant [1 1 5]\n",
      "theta après [1 1 5]\n",
      "[1 1 5]\n",
      "{'temperature_noise': array([0]), 'obs_noise': array([0.1]), 'Qfamily': array([0.5]), 'log_f': array([1]), 'Lambda': array([1]), 'C': array([1]), 'Prad': array([5]), 'ThetaRad1': array([5.]), 'ThetaRad2': array([1.]), 'Pocc': array([1.])}\n",
      "rms 0.06428586718623445\n"
     ]
    },
    {
     "data": {
      "text/plain": [
       "0.06428586718623445"
      ]
     },
     "execution_count": 21,
     "metadata": {},
     "output_type": "execute_result"
    }
   ],
   "source": [
    "model.metric1(np.array([1,1,5]),dic=model.trainarray,noisymeasure=False)"
   ]
  },
  {
   "cell_type": "code",
   "execution_count": 53,
   "metadata": {},
   "outputs": [],
   "source": [
    "res_2 = least_squares(fun=model.res1, x0=np.array([10,10,10])\\\n",
    "                     ,args=(model.trainarray,False),jac='3-point'\\\n",
    "                     ,bounds=(np.array([0.01,0.01,0.01]),np.array([1000,1000,1000])))"
   ]
  },
  {
   "cell_type": "code",
   "execution_count": 54,
   "metadata": {},
   "outputs": [
    {
     "data": {
      "text/plain": [
       " active_mask: array([0, 0, 0])\n",
       "        cost: 169531.75467479485\n",
       "         fun: array([3.2919246 , 3.25442521, 3.25442521, ..., 3.1976999 , 3.18870337,\n",
       "       3.22445093])\n",
       "        grad: array([2579726.46610443, 2579709.21014316, 2579723.16267978])\n",
       "         jac: array([[24.71174133, 24.71157722, 24.71171204],\n",
       "       [24.71183422, 24.71167011, 24.71180493],\n",
       "       [24.71183422, 24.71167011, 24.71180493],\n",
       "       ...,\n",
       "       [24.79888377, 24.79871901, 24.79885425],\n",
       "       [24.63406768, 24.6339041 , 24.63403854],\n",
       "       [24.71636729, 24.71620312, 24.71633796]])\n",
       "     message: '`xtol` termination condition is satisfied.'\n",
       "        nfev: 12\n",
       "        njev: 1\n",
       "  optimality: 25771467.39638326\n",
       "      status: 3\n",
       "     success: True\n",
       "           x: array([10., 10., 10.])"
      ]
     },
     "execution_count": 54,
     "metadata": {},
     "output_type": "execute_result"
    }
   ],
   "source": [
    "res_2"
   ]
  },
  {
   "cell_type": "code",
   "execution_count": 22,
   "metadata": {},
   "outputs": [],
   "source": [
    "soln = minimize(model.metric1, model.theta, args=(model.trainarray)\\\n",
    "               ,options={'maxiter':200}\\\n",
    "               )"
   ]
  },
  {
   "cell_type": "code",
   "execution_count": 23,
   "metadata": {},
   "outputs": [
    {
     "data": {
      "text/plain": [
       "array([1., 1., 1.])"
      ]
     },
     "execution_count": 23,
     "metadata": {},
     "output_type": "execute_result"
    }
   ],
   "source": [
    "soln.x"
   ]
  },
  {
   "cell_type": "code",
   "execution_count": null,
   "metadata": {},
   "outputs": [],
   "source": []
  },
  {
   "cell_type": "code",
   "execution_count": null,
   "metadata": {},
   "outputs": [],
   "source": [
    "object = Object() \n",
    "filehandler = open(filename, 'w') \n",
    "pickle.dump(object, filehandler)"
   ]
  },
  {
   "cell_type": "code",
   "execution_count": 16,
   "metadata": {},
   "outputs": [],
   "source": [
    "model.set_theta(soln.x)"
   ]
  },
  {
   "cell_type": "code",
   "execution_count": 17,
   "metadata": {},
   "outputs": [
    {
     "data": {
      "text/plain": [
       "0.03827622505589799"
      ]
     },
     "execution_count": 17,
     "metadata": {},
     "output_type": "execute_result"
    }
   ],
   "source": [
    "model.metric1(theta=model.theta,dic=model.trainarray)"
   ]
  }
 ],
 "metadata": {
  "interpreter": {
   "hash": "d5fb6cc1ad084f0ae76883e6065a602e165a40ead7f38794240756e40761b0fe"
  },
  "kernelspec": {
   "display_name": "Python 3.8.2 64-bit ('deep_learning': conda)",
   "language": "python",
   "name": "python3"
  },
  "language_info": {
   "codemirror_mode": {
    "name": "ipython",
    "version": 3
   },
   "file_extension": ".py",
   "mimetype": "text/x-python",
   "name": "python",
   "nbconvert_exporter": "python",
   "pygments_lexer": "ipython3",
   "version": "3.9.7"
  },
  "orig_nbformat": 4
 },
 "nbformat": 4,
 "nbformat_minor": 2
}
