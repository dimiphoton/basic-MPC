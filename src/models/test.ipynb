{
 "cells": [
  {
   "cell_type": "code",
   "execution_count": 1,
   "metadata": {},
   "outputs": [],
   "source": [
    "import modelG as mg\n",
    "from Model_On_G import *\n",
    "import networkx as nx\n",
    "import pandas as pd\n",
    "import os\n",
    "import sys\n",
    "import itertools\n",
    "import random\n",
    "from pathlib import Path\n",
    "import numpy as np"
   ]
  },
  {
   "cell_type": "code",
   "execution_count": 2,
   "metadata": {},
   "outputs": [],
   "source": [
    "G=mg.makemulti()\n",
    "model=model(G)"
   ]
  },
  {
   "cell_type": "code",
   "execution_count": 3,
   "metadata": {},
   "outputs": [],
   "source": [
    "model.setupdata(random_state=41)\n",
    "row=model.trainset.iloc[0]"
   ]
  },
  {
   "cell_type": "code",
   "execution_count": 4,
   "metadata": {},
   "outputs": [],
   "source": [
    "model.initialization(row)"
   ]
  },
  {
   "cell_type": "code",
   "execution_count": 5,
   "metadata": {},
   "outputs": [
    {
     "data": {
      "text/plain": [
       "{'category': 'room',\n",
       " 'T': {'value': 22.2, 'uncertainty': None},\n",
       " 'C': {'value': 10, 'uncertainty': None},\n",
       " 'dH': {'value': None, 'uncertainty': None},\n",
       " 'dT': {'value': None, 'uncertainty': None},\n",
       " 'Tset': {'value': 16.0}}"
      ]
     },
     "execution_count": 5,
     "metadata": {},
     "output_type": "execute_result"
    }
   ],
   "source": [
    "model.state.nodes['kitchen']"
   ]
  },
  {
   "cell_type": "code",
   "execution_count": 6,
   "metadata": {},
   "outputs": [],
   "source": [
    "daydf=model.trainset.loc['Y2020D211']\n",
    "liste=daydf.index[1:-1]\n",
    "timestamp=liste[0]\n",
    "row=daydf.loc[timestamp]\n"
   ]
  },
  {
   "cell_type": "code",
   "execution_count": 7,
   "metadata": {},
   "outputs": [],
   "source": [
    "dict=model.read_bigdf_row(row)\n",
    "model.set_data_from_dic(dict,initialize=True)"
   ]
  },
  {
   "cell_type": "code",
   "execution_count": 11,
   "metadata": {},
   "outputs": [
    {
     "data": {
      "text/plain": [
       "175.7549076788869"
      ]
     },
     "execution_count": 11,
     "metadata": {},
     "output_type": "execute_result"
    }
   ],
   "source": [
    "model.error_squarred_day(daydf[:35])\n",
    "#model.state.edges['kitchen','exterior']"
   ]
  }
 ],
 "metadata": {
  "interpreter": {
   "hash": "95fa7b3bb0407f8101b0499e6dbb6ace93515b5eedc02a99b2d9b6d004a63a45"
  },
  "kernelspec": {
   "display_name": "Python 3.9.5 64-bit ('base': conda)",
   "language": "python",
   "name": "python3"
  },
  "language_info": {
   "codemirror_mode": {
    "name": "ipython",
    "version": 3
   },
   "file_extension": ".py",
   "mimetype": "text/x-python",
   "name": "python",
   "nbconvert_exporter": "python",
   "pygments_lexer": "ipython3",
   "version": "3.9.5"
  },
  "orig_nbformat": 4
 },
 "nbformat": 4,
 "nbformat_minor": 2
}
