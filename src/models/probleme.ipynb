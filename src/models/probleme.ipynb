{
 "cells": [
  {
   "cell_type": "code",
   "execution_count": 6,
   "metadata": {},
   "outputs": [],
   "source": [
    "from model_On_Array2 import *\n",
    "import pandas as pd\n",
    "import os\n",
    "import sys\n",
    "import itertools\n",
    "import random\n",
    "from pathlib import Path\n",
    "import numpy as np\n",
    "import dataprocessing2\n",
    "import glob\n",
    "import os.path\n",
    "from datetime import datetime, timedelta\n",
    "import process_utils\n",
    "from sklearn.metrics import mean_squared_error\n",
    "from scipy.optimize import minimize"
   ]
  },
  {
   "cell_type": "code",
   "execution_count": 7,
   "metadata": {},
   "outputs": [],
   "source": [
    "model=mainmodel(maison='multiroom')\n",
    "model.setupdata()\n",
    "#model.update_theta()\n",
    "X=model.X\n",
    "y=model.y"
   ]
  },
  {
   "cell_type": "code",
   "execution_count": 13,
   "metadata": {},
   "outputs": [],
   "source": [
    "initialState, Text_array, Tset_array, timestep_array=model.level1_pred(X,y,recordingIndex=('2020-05-24', 0),debug=True)"
   ]
  },
  {
   "cell_type": "code",
   "execution_count": 15,
   "metadata": {},
   "outputs": [
    {
     "data": {
      "text/plain": [
       "array([[14],\n",
       "       [14],\n",
       "       [14],\n",
       "       [14],\n",
       "       [14],\n",
       "       [14],\n",
       "       [14],\n",
       "       [14],\n",
       "       [14],\n",
       "       [14],\n",
       "       [14],\n",
       "       [14],\n",
       "       [14],\n",
       "       [14],\n",
       "       [14],\n",
       "       [14],\n",
       "       [14],\n",
       "       [14],\n",
       "       [14],\n",
       "       [14],\n",
       "       [14],\n",
       "       [14],\n",
       "       [14],\n",
       "       [14],\n",
       "       [14],\n",
       "       [14],\n",
       "       [14],\n",
       "       [14],\n",
       "       [14],\n",
       "       [14],\n",
       "       [14],\n",
       "       [14],\n",
       "       [14],\n",
       "       [14],\n",
       "       [14],\n",
       "       [14],\n",
       "       [14],\n",
       "       [14],\n",
       "       [14],\n",
       "       [14],\n",
       "       [14],\n",
       "       [13],\n",
       "       [13],\n",
       "       [13],\n",
       "       [13],\n",
       "       [13],\n",
       "       [13],\n",
       "       [13],\n",
       "       [13],\n",
       "       [14],\n",
       "       [14],\n",
       "       [14]])"
      ]
     },
     "execution_count": 15,
     "metadata": {},
     "output_type": "execute_result"
    }
   ],
   "source": [
    "Text_array"
   ]
  },
  {
   "cell_type": "code",
   "execution_count": 3,
   "metadata": {},
   "outputs": [
    {
     "data": {
      "text/plain": [
       "array([1., 1., 1., 1., 1., 1., 1., 1., 1., 1., 1., 1., 1., 1., 1., 1., 1.,\n",
       "       1., 1., 1., 1., 1., 1., 1., 1., 1., 1., 1., 1., 1., 1., 1., 1.])"
      ]
     },
     "execution_count": 3,
     "metadata": {},
     "output_type": "execute_result"
    }
   ],
   "source": [
    "theta0=model.theta\n",
    "theta0"
   ]
  },
  {
   "cell_type": "code",
   "execution_count": 4,
   "metadata": {},
   "outputs": [
    {
     "data": {
      "text/plain": [
       "1.7001476795012558"
      ]
     },
     "execution_count": 4,
     "metadata": {},
     "output_type": "execute_result"
    }
   ],
   "source": [
    "model.mse(theta0,model.Xtrain,model.ytrain)"
   ]
  },
  {
   "cell_type": "code",
   "execution_count": 5,
   "metadata": {},
   "outputs": [
    {
     "data": {
      "text/plain": [
       "1.6822337800860743"
      ]
     },
     "execution_count": 5,
     "metadata": {},
     "output_type": "execute_result"
    }
   ],
   "source": [
    "theta1=5+np.random.rand(theta0.shape[0])\n",
    "model.mse(theta1,model.Xtrain,model.ytrain)"
   ]
  },
  {
   "cell_type": "code",
   "execution_count": 8,
   "metadata": {},
   "outputs": [
    {
     "name": "stdout",
     "output_type": "stream",
     "text": [
      "Warning: Maximum number of iterations has been exceeded.\n",
      "         Current function value: 1.596528\n",
      "         Iterations: 1\n",
      "         Function evaluations: 170\n",
      "         Gradient evaluations: 5\n"
     ]
    }
   ],
   "source": [
    "x=minimize(model.mse,theta1,args=(model.Xtrain,model.ytrain),options={'maxiter':1,'disp':True})"
   ]
  }
 ],
 "metadata": {
  "interpreter": {
   "hash": "d5fb6cc1ad084f0ae76883e6065a602e165a40ead7f38794240756e40761b0fe"
  },
  "kernelspec": {
   "display_name": "Python 3.8.2 64-bit ('deep_learning': conda)",
   "language": "python",
   "name": "python3"
  },
  "language_info": {
   "codemirror_mode": {
    "name": "ipython",
    "version": 3
   },
   "file_extension": ".py",
   "mimetype": "text/x-python",
   "name": "python",
   "nbconvert_exporter": "python",
   "pygments_lexer": "ipython3",
   "version": "3.9.7"
  },
  "orig_nbformat": 4
 },
 "nbformat": 4,
 "nbformat_minor": 2
}
