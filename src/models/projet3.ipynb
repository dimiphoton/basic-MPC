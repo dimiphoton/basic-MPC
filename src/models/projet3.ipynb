{
 "cells": [
  {
   "cell_type": "code",
   "execution_count": 2,
   "metadata": {},
   "outputs": [],
   "source": [
    "from model_On_Array3 import *\n",
    "import pandas as pd\n",
    "import os\n",
    "import sys\n",
    "import itertools\n",
    "import random\n",
    "from pathlib import Path\n",
    "import numpy as np\n",
    "import dataprocessing2\n",
    "import glob\n",
    "import os.path\n",
    "from datetime import datetime, timedelta\n",
    "import process_utils\n",
    "from sklearn.metrics import mean_squared_error\n",
    "from scipy.optimize import minimize\n",
    "from scipy.optimize import leastsq\n",
    "from scipy.optimize import least_squares\n",
    "from sklearn.model_selection import train_test_split\n",
    "import pickle "
   ]
  },
  {
   "cell_type": "code",
   "execution_count": 53,
   "metadata": {},
   "outputs": [],
   "source": [
    "class test():\n",
    "    def __init__(self) -> None:\n",
    "        self.dic={'state':np.array([[213/12.545,400.9/56.77],[10.0/0.87,1.0/0.344]])\\\n",
    "                 ,'timestep':np.array([[313/12.535],[13.0/0.37]])}\n",
    "    \n",
    "    def model(self,state=0,timestep=10):\n",
    "        state += timestep*state\n",
    "        return state\n",
    "\n",
    "    def predict1(self,dic):\n",
    "        dic['predicted']=np.empty_like(dic['state'])\n",
    "        for line,vector in enumerate(dic['state']):\n",
    "            print(line)\n",
    "            print('state',dic['state'][line])\n",
    "            print('timestep',dic['timestep'][line])\n",
    "            dic['predicted'][line]=self.model(state=dic['state'][line]\\\n",
    "                                            ,timestep=dic['timestep'][line])\n",
    "            print('predicted',dic['predicted'][line])\n",
    "\n",
    "    def res1(self,dic):\n",
    "        self.predict1(dic)\n",
    "        return (dic['predicted']-dic['state']).flatten()\n",
    "\n",
    "    def metric1(self,dic):\n",
    "        self.predict1(dic)\n",
    "        return mean_squared_error(dic['state'],dic['predicted'])"
   ]
  },
  {
   "cell_type": "code",
   "execution_count": 54,
   "metadata": {},
   "outputs": [
    {
     "name": "stdout",
     "output_type": "stream",
     "text": [
      "0\n",
      "state [16.97887605  7.06182843]\n",
      "timestep [24.97008377]\n",
      "predicted [440.94283316 183.39627588]\n",
      "1\n",
      "state [11.49425287  2.90697674]\n",
      "timestep [35.13513514]\n",
      "predicted [415.34638086 105.04399749]\n"
     ]
    },
    {
     "data": {
      "text/plain": [
       "{'state': array([[440.94283316, 183.39627588],\n",
       "        [415.34638086, 105.04399749]]),\n",
       " 'timestep': array([[24.97008377],\n",
       "        [35.13513514]]),\n",
       " 'predicted': array([[440.94283316, 183.39627588],\n",
       "        [415.34638086, 105.04399749]])}"
      ]
     },
     "execution_count": 54,
     "metadata": {},
     "output_type": "execute_result"
    }
   ],
   "source": [
    "obj=test()\n",
    "obj.metric1(obj.dic)\n",
    "obj.dic"
   ]
  },
  {
   "cell_type": "code",
   "execution_count": 3,
   "metadata": {},
   "outputs": [],
   "source": [
    "model=mainmodel(maison='multiroom1')\n",
    "model.update_theta()\n",
    "model.set_theta(model.theta)"
   ]
  },
  {
   "cell_type": "code",
   "execution_count": 4,
   "metadata": {},
   "outputs": [],
   "source": [
    "model.setupdata()"
   ]
  },
  {
   "cell_type": "code",
   "execution_count": 13,
   "metadata": {},
   "outputs": [
    {
     "data": {
      "text/plain": [
       "array([[21.8, 22.5, 22.4, ..., False, False, True],\n",
       "       [21.8, 22.5, 22.4, ..., False, False, True],\n",
       "       [21.8, 22.4, 22.4, ..., False, False, True],\n",
       "       ...,\n",
       "       [19.4, 19.0, 19.3, ..., False, False, True],\n",
       "       [19.4, 19.0, 19.3, ..., False, False, True],\n",
       "       [19.4, 19.0, 19.3, ..., False, False, True]], dtype=object)"
      ]
     },
     "execution_count": 13,
     "metadata": {},
     "output_type": "execute_result"
    }
   ],
   "source": [
    "model.raw.to_numpy()"
   ]
  },
  {
   "cell_type": "code",
   "execution_count": 20,
   "metadata": {},
   "outputs": [
    {
     "data": {
      "text/plain": [
       "[('T', 'bathroom'),\n",
       " ('T', 'bedroom_1'),\n",
       " ('T', 'bedroom_2'),\n",
       " ('T', 'bedroom_3'),\n",
       " ('T', 'diningroom'),\n",
       " ('T', 'kitchen'),\n",
       " ('T', 'livingroom')]"
      ]
     },
     "execution_count": 20,
     "metadata": {},
     "output_type": "execute_result"
    }
   ],
   "source": [
    "model.features['state']"
   ]
  },
  {
   "cell_type": "code",
   "execution_count": 22,
   "metadata": {},
   "outputs": [
    {
     "data": {
      "text/plain": [
       "array([[21.8, 22.5, 22.4, ..., 22. , 22. , 22.9],\n",
       "       [21.8, 22.5, 22.4, ..., 22. , 22. , 22.9],\n",
       "       [21.8, 22.4, 22.4, ..., 21.7, 22. , 22.9],\n",
       "       ...,\n",
       "       [19.4, 19. , 19.3, ..., 20.1, 20.5, 18.7],\n",
       "       [19.4, 19. , 19.3, ..., 20.1, 20.8, 18.7],\n",
       "       [19.4, 19. , 19.3, ..., 20.3, 20.8, 18.7]])"
      ]
     },
     "execution_count": 22,
     "metadata": {},
     "output_type": "execute_result"
    }
   ],
   "source": [
    "model.raw[model.features['state']].to_numpy()"
   ]
  }
 ],
 "metadata": {
  "interpreter": {
   "hash": "5a7bf3cfd2ed08f1933314b2d159a2ae145dd71feaf7ab861b0b1c02b10e7830"
  },
  "kernelspec": {
   "display_name": "Python 3.9.7 64-bit ('MPC': venv)",
   "language": "python",
   "name": "python3"
  },
  "language_info": {
   "codemirror_mode": {
    "name": "ipython",
    "version": 3
   },
   "file_extension": ".py",
   "mimetype": "text/x-python",
   "name": "python",
   "nbconvert_exporter": "python",
   "pygments_lexer": "ipython3",
   "version": "3.9.7"
  },
  "orig_nbformat": 4
 },
 "nbformat": 4,
 "nbformat_minor": 2
}
