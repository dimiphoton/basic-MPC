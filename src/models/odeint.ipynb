{
 "cells": [
  {
   "cell_type": "code",
   "execution_count": 1,
   "metadata": {},
   "outputs": [],
   "source": [
    "def test(param1,param2):\n",
    "    print(str(param1)+str(param2))"
   ]
  },
  {
   "cell_type": "code",
   "execution_count": 4,
   "metadata": {},
   "outputs": [
    {
     "ename": "SyntaxError",
     "evalue": "expression cannot contain assignment, perhaps you meant \"==\"? (<ipython-input-4-ff5b41417f50>, line 1)",
     "output_type": "error",
     "traceback": [
      "\u001b[1;36m  File \u001b[1;32m\"<ipython-input-4-ff5b41417f50>\"\u001b[1;36m, line \u001b[1;32m1\u001b[0m\n\u001b[1;33m    test('param2'=5,'param1'=6)\u001b[0m\n\u001b[1;37m         ^\u001b[0m\n\u001b[1;31mSyntaxError\u001b[0m\u001b[1;31m:\u001b[0m expression cannot contain assignment, perhaps you meant \"==\"?\n"
     ]
    }
   ],
   "source": [
    "test('param2'=5,'param1'=6)"
   ]
  }
 ],
 "metadata": {
  "interpreter": {
   "hash": "d5fb6cc1ad084f0ae76883e6065a602e165a40ead7f38794240756e40761b0fe"
  },
  "kernelspec": {
   "display_name": "Python 3.8.2 64-bit ('deep_learning': conda)",
   "language": "python",
   "name": "python3"
  },
  "language_info": {
   "codemirror_mode": {
    "name": "ipython",
    "version": 3
   },
   "file_extension": ".py",
   "mimetype": "text/x-python",
   "name": "python",
   "nbconvert_exporter": "python",
   "pygments_lexer": "ipython3",
   "version": "3.8.2"
  },
  "orig_nbformat": 4
 },
 "nbformat": 4,
 "nbformat_minor": 2
}
