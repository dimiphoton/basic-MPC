{
 "cells": [
  {
   "cell_type": "code",
   "execution_count": 1,
   "metadata": {},
   "outputs": [],
   "source": [
    "import pandas as pd\n",
    "import numpy as np\n",
    "import model_On_Array2\n",
    "import os\n",
    "from datetime import datetime, timedelta\n",
    "import process_utils\n",
    "import itertools\n",
    "import dataprocessing2\n",
    "from datetime import datetime, timedelta\n",
    "import itertools\n",
    "from sklearn.model_selection import train_test_split\n",
    "import scipy\n",
    "from scipy.integrate import odeint"
   ]
  },
  {
   "cell_type": "code",
   "execution_count": 2,
   "metadata": {},
   "outputs": [],
   "source": [
    "model=model_On_Array2.mainmodel(maison='multiroom1')"
   ]
  },
  {
   "cell_type": "code",
   "execution_count": 3,
   "metadata": {},
   "outputs": [],
   "source": [
    "model.update_theta()"
   ]
  },
  {
   "cell_type": "code",
   "execution_count": 4,
   "metadata": {},
   "outputs": [],
   "source": [
    "model.set_theta(model.theta)"
   ]
  },
  {
   "cell_type": "code",
   "execution_count": 5,
   "metadata": {},
   "outputs": [],
   "source": [
    "model.setupdata()"
   ]
  },
  {
   "cell_type": "code",
   "execution_count": 6,
   "metadata": {},
   "outputs": [],
   "source": [
    "test=model.raw.to_numpy()"
   ]
  },
  {
   "cell_type": "code",
   "execution_count": 7,
   "metadata": {},
   "outputs": [],
   "source": [
    "df=model.raw"
   ]
  },
  {
   "cell_type": "code",
   "execution_count": 10,
   "metadata": {},
   "outputs": [
    {
     "data": {
      "text/html": [
       "<div>\n",
       "<style scoped>\n",
       "    .dataframe tbody tr th:only-of-type {\n",
       "        vertical-align: middle;\n",
       "    }\n",
       "\n",
       "    .dataframe tbody tr th {\n",
       "        vertical-align: top;\n",
       "    }\n",
       "\n",
       "    .dataframe thead tr th {\n",
       "        text-align: left;\n",
       "    }\n",
       "\n",
       "    .dataframe thead tr:last-of-type th {\n",
       "        text-align: right;\n",
       "    }\n",
       "</style>\n",
       "<table border=\"1\" class=\"dataframe\">\n",
       "  <thead>\n",
       "    <tr>\n",
       "      <th></th>\n",
       "      <th>data</th>\n",
       "      <th colspan=\"7\" halign=\"left\">T</th>\n",
       "      <th colspan=\"3\" halign=\"left\">Tset</th>\n",
       "      <th>...</th>\n",
       "      <th>Tnext</th>\n",
       "      <th>Tset</th>\n",
       "      <th>sequence_Id</th>\n",
       "      <th colspan=\"7\" halign=\"left\">Rad</th>\n",
       "    </tr>\n",
       "    <tr>\n",
       "      <th></th>\n",
       "      <th>zone</th>\n",
       "      <th>bathroom</th>\n",
       "      <th>bedroom_1</th>\n",
       "      <th>bedroom_2</th>\n",
       "      <th>bedroom_3</th>\n",
       "      <th>diningroom</th>\n",
       "      <th>kitchen</th>\n",
       "      <th>livingroom</th>\n",
       "      <th>bathroom</th>\n",
       "      <th>bedroom_1</th>\n",
       "      <th>bedroom_2</th>\n",
       "      <th>...</th>\n",
       "      <th>singleroom</th>\n",
       "      <th>singleroom</th>\n",
       "      <th></th>\n",
       "      <th>bathroom</th>\n",
       "      <th>bedroom_1</th>\n",
       "      <th>bedroom_2</th>\n",
       "      <th>bedroom_3</th>\n",
       "      <th>diningroom</th>\n",
       "      <th>kitchen</th>\n",
       "      <th>livingroom</th>\n",
       "    </tr>\n",
       "    <tr>\n",
       "      <th>uniqueday_Id</th>\n",
       "      <th>intraday_Id</th>\n",
       "      <th></th>\n",
       "      <th></th>\n",
       "      <th></th>\n",
       "      <th></th>\n",
       "      <th></th>\n",
       "      <th></th>\n",
       "      <th></th>\n",
       "      <th></th>\n",
       "      <th></th>\n",
       "      <th></th>\n",
       "      <th></th>\n",
       "      <th></th>\n",
       "      <th></th>\n",
       "      <th></th>\n",
       "      <th></th>\n",
       "      <th></th>\n",
       "      <th></th>\n",
       "      <th></th>\n",
       "      <th></th>\n",
       "      <th></th>\n",
       "      <th></th>\n",
       "    </tr>\n",
       "  </thead>\n",
       "  <tbody>\n",
       "    <tr>\n",
       "      <th rowspan=\"5\" valign=\"top\">2020-05-24</th>\n",
       "      <th>19:40:03</th>\n",
       "      <td>21.8</td>\n",
       "      <td>22.5</td>\n",
       "      <td>22.4</td>\n",
       "      <td>21.7</td>\n",
       "      <td>22.0</td>\n",
       "      <td>22.0</td>\n",
       "      <td>22.9</td>\n",
       "      <td>16.0</td>\n",
       "      <td>16.0</td>\n",
       "      <td>16.0</td>\n",
       "      <td>...</td>\n",
       "      <td>21.1625</td>\n",
       "      <td>15.857143</td>\n",
       "      <td>0</td>\n",
       "      <td>False</td>\n",
       "      <td>False</td>\n",
       "      <td>False</td>\n",
       "      <td>False</td>\n",
       "      <td>False</td>\n",
       "      <td>False</td>\n",
       "      <td>False</td>\n",
       "    </tr>\n",
       "    <tr>\n",
       "      <th>19:45:03</th>\n",
       "      <td>21.8</td>\n",
       "      <td>22.5</td>\n",
       "      <td>22.4</td>\n",
       "      <td>21.7</td>\n",
       "      <td>22.0</td>\n",
       "      <td>22.0</td>\n",
       "      <td>22.9</td>\n",
       "      <td>16.0</td>\n",
       "      <td>16.0</td>\n",
       "      <td>16.0</td>\n",
       "      <td>...</td>\n",
       "      <td>21.1125</td>\n",
       "      <td>15.857143</td>\n",
       "      <td>0</td>\n",
       "      <td>False</td>\n",
       "      <td>False</td>\n",
       "      <td>False</td>\n",
       "      <td>False</td>\n",
       "      <td>False</td>\n",
       "      <td>False</td>\n",
       "      <td>False</td>\n",
       "    </tr>\n",
       "    <tr>\n",
       "      <th>19:50:03</th>\n",
       "      <td>21.8</td>\n",
       "      <td>22.4</td>\n",
       "      <td>22.4</td>\n",
       "      <td>21.7</td>\n",
       "      <td>21.7</td>\n",
       "      <td>22.0</td>\n",
       "      <td>22.9</td>\n",
       "      <td>16.0</td>\n",
       "      <td>16.0</td>\n",
       "      <td>16.0</td>\n",
       "      <td>...</td>\n",
       "      <td>21.1125</td>\n",
       "      <td>15.857143</td>\n",
       "      <td>0</td>\n",
       "      <td>False</td>\n",
       "      <td>False</td>\n",
       "      <td>False</td>\n",
       "      <td>False</td>\n",
       "      <td>False</td>\n",
       "      <td>False</td>\n",
       "      <td>False</td>\n",
       "    </tr>\n",
       "    <tr>\n",
       "      <th>19:55:03</th>\n",
       "      <td>21.8</td>\n",
       "      <td>22.4</td>\n",
       "      <td>22.4</td>\n",
       "      <td>21.7</td>\n",
       "      <td>21.7</td>\n",
       "      <td>22.0</td>\n",
       "      <td>22.9</td>\n",
       "      <td>16.0</td>\n",
       "      <td>16.0</td>\n",
       "      <td>16.0</td>\n",
       "      <td>...</td>\n",
       "      <td>21.1125</td>\n",
       "      <td>15.857143</td>\n",
       "      <td>0</td>\n",
       "      <td>False</td>\n",
       "      <td>False</td>\n",
       "      <td>False</td>\n",
       "      <td>False</td>\n",
       "      <td>False</td>\n",
       "      <td>False</td>\n",
       "      <td>False</td>\n",
       "    </tr>\n",
       "    <tr>\n",
       "      <th>20:00:04</th>\n",
       "      <td>21.8</td>\n",
       "      <td>22.4</td>\n",
       "      <td>22.4</td>\n",
       "      <td>21.7</td>\n",
       "      <td>21.7</td>\n",
       "      <td>22.0</td>\n",
       "      <td>22.9</td>\n",
       "      <td>16.0</td>\n",
       "      <td>16.0</td>\n",
       "      <td>16.0</td>\n",
       "      <td>...</td>\n",
       "      <td>21.1125</td>\n",
       "      <td>15.857143</td>\n",
       "      <td>0</td>\n",
       "      <td>False</td>\n",
       "      <td>False</td>\n",
       "      <td>False</td>\n",
       "      <td>False</td>\n",
       "      <td>False</td>\n",
       "      <td>False</td>\n",
       "      <td>False</td>\n",
       "    </tr>\n",
       "    <tr>\n",
       "      <th>...</th>\n",
       "      <th>...</th>\n",
       "      <td>...</td>\n",
       "      <td>...</td>\n",
       "      <td>...</td>\n",
       "      <td>...</td>\n",
       "      <td>...</td>\n",
       "      <td>...</td>\n",
       "      <td>...</td>\n",
       "      <td>...</td>\n",
       "      <td>...</td>\n",
       "      <td>...</td>\n",
       "      <td>...</td>\n",
       "      <td>...</td>\n",
       "      <td>...</td>\n",
       "      <td>...</td>\n",
       "      <td>...</td>\n",
       "      <td>...</td>\n",
       "      <td>...</td>\n",
       "      <td>...</td>\n",
       "      <td>...</td>\n",
       "      <td>...</td>\n",
       "      <td>...</td>\n",
       "    </tr>\n",
       "    <tr>\n",
       "      <th rowspan=\"5\" valign=\"top\">2021-05-24</th>\n",
       "      <th>16:45:04</th>\n",
       "      <td>19.5</td>\n",
       "      <td>19.0</td>\n",
       "      <td>19.3</td>\n",
       "      <td>20.3</td>\n",
       "      <td>20.1</td>\n",
       "      <td>20.5</td>\n",
       "      <td>18.7</td>\n",
       "      <td>16.0</td>\n",
       "      <td>15.0</td>\n",
       "      <td>15.0</td>\n",
       "      <td>...</td>\n",
       "      <td>18.8000</td>\n",
       "      <td>16.714286</td>\n",
       "      <td>0</td>\n",
       "      <td>False</td>\n",
       "      <td>False</td>\n",
       "      <td>False</td>\n",
       "      <td>False</td>\n",
       "      <td>False</td>\n",
       "      <td>False</td>\n",
       "      <td>False</td>\n",
       "    </tr>\n",
       "    <tr>\n",
       "      <th>16:50:03</th>\n",
       "      <td>19.5</td>\n",
       "      <td>19.0</td>\n",
       "      <td>19.3</td>\n",
       "      <td>20.3</td>\n",
       "      <td>20.1</td>\n",
       "      <td>20.5</td>\n",
       "      <td>18.7</td>\n",
       "      <td>16.0</td>\n",
       "      <td>15.0</td>\n",
       "      <td>15.0</td>\n",
       "      <td>...</td>\n",
       "      <td>18.7875</td>\n",
       "      <td>16.714286</td>\n",
       "      <td>0</td>\n",
       "      <td>False</td>\n",
       "      <td>False</td>\n",
       "      <td>False</td>\n",
       "      <td>False</td>\n",
       "      <td>False</td>\n",
       "      <td>False</td>\n",
       "      <td>False</td>\n",
       "    </tr>\n",
       "    <tr>\n",
       "      <th>16:55:03</th>\n",
       "      <td>19.4</td>\n",
       "      <td>19.0</td>\n",
       "      <td>19.3</td>\n",
       "      <td>20.3</td>\n",
       "      <td>20.1</td>\n",
       "      <td>20.5</td>\n",
       "      <td>18.7</td>\n",
       "      <td>16.0</td>\n",
       "      <td>15.0</td>\n",
       "      <td>15.0</td>\n",
       "      <td>...</td>\n",
       "      <td>18.8250</td>\n",
       "      <td>16.714286</td>\n",
       "      <td>0</td>\n",
       "      <td>False</td>\n",
       "      <td>False</td>\n",
       "      <td>False</td>\n",
       "      <td>False</td>\n",
       "      <td>False</td>\n",
       "      <td>False</td>\n",
       "      <td>False</td>\n",
       "    </tr>\n",
       "    <tr>\n",
       "      <th>17:00:04</th>\n",
       "      <td>19.4</td>\n",
       "      <td>19.0</td>\n",
       "      <td>19.3</td>\n",
       "      <td>20.3</td>\n",
       "      <td>20.1</td>\n",
       "      <td>20.8</td>\n",
       "      <td>18.7</td>\n",
       "      <td>16.0</td>\n",
       "      <td>15.0</td>\n",
       "      <td>15.0</td>\n",
       "      <td>...</td>\n",
       "      <td>18.8500</td>\n",
       "      <td>16.714286</td>\n",
       "      <td>0</td>\n",
       "      <td>False</td>\n",
       "      <td>False</td>\n",
       "      <td>False</td>\n",
       "      <td>False</td>\n",
       "      <td>False</td>\n",
       "      <td>False</td>\n",
       "      <td>False</td>\n",
       "    </tr>\n",
       "    <tr>\n",
       "      <th>17:05:03</th>\n",
       "      <td>19.4</td>\n",
       "      <td>19.0</td>\n",
       "      <td>19.3</td>\n",
       "      <td>20.3</td>\n",
       "      <td>20.3</td>\n",
       "      <td>20.8</td>\n",
       "      <td>18.7</td>\n",
       "      <td>16.0</td>\n",
       "      <td>15.0</td>\n",
       "      <td>15.0</td>\n",
       "      <td>...</td>\n",
       "      <td>18.8500</td>\n",
       "      <td>16.714286</td>\n",
       "      <td>0</td>\n",
       "      <td>False</td>\n",
       "      <td>False</td>\n",
       "      <td>False</td>\n",
       "      <td>False</td>\n",
       "      <td>False</td>\n",
       "      <td>False</td>\n",
       "      <td>False</td>\n",
       "    </tr>\n",
       "  </tbody>\n",
       "</table>\n",
       "<p>102192 rows × 38 columns</p>\n",
       "</div>"
      ],
      "text/plain": [
       "data                            T                                           \\\n",
       "zone                     bathroom bedroom_1 bedroom_2 bedroom_3 diningroom   \n",
       "uniqueday_Id intraday_Id                                                     \n",
       "2020-05-24   19:40:03        21.8      22.5      22.4      21.7       22.0   \n",
       "             19:45:03        21.8      22.5      22.4      21.7       22.0   \n",
       "             19:50:03        21.8      22.4      22.4      21.7       21.7   \n",
       "             19:55:03        21.8      22.4      22.4      21.7       21.7   \n",
       "             20:00:04        21.8      22.4      22.4      21.7       21.7   \n",
       "...                           ...       ...       ...       ...        ...   \n",
       "2021-05-24   16:45:04        19.5      19.0      19.3      20.3       20.1   \n",
       "             16:50:03        19.5      19.0      19.3      20.3       20.1   \n",
       "             16:55:03        19.4      19.0      19.3      20.3       20.1   \n",
       "             17:00:04        19.4      19.0      19.3      20.3       20.1   \n",
       "             17:05:03        19.4      19.0      19.3      20.3       20.3   \n",
       "\n",
       "data                                            Tset                      ...  \\\n",
       "zone                     kitchen livingroom bathroom bedroom_1 bedroom_2  ...   \n",
       "uniqueday_Id intraday_Id                                                  ...   \n",
       "2020-05-24   19:40:03       22.0       22.9     16.0      16.0      16.0  ...   \n",
       "             19:45:03       22.0       22.9     16.0      16.0      16.0  ...   \n",
       "             19:50:03       22.0       22.9     16.0      16.0      16.0  ...   \n",
       "             19:55:03       22.0       22.9     16.0      16.0      16.0  ...   \n",
       "             20:00:04       22.0       22.9     16.0      16.0      16.0  ...   \n",
       "...                          ...        ...      ...       ...       ...  ...   \n",
       "2021-05-24   16:45:04       20.5       18.7     16.0      15.0      15.0  ...   \n",
       "             16:50:03       20.5       18.7     16.0      15.0      15.0  ...   \n",
       "             16:55:03       20.5       18.7     16.0      15.0      15.0  ...   \n",
       "             17:00:04       20.8       18.7     16.0      15.0      15.0  ...   \n",
       "             17:05:03       20.8       18.7     16.0      15.0      15.0  ...   \n",
       "\n",
       "data                          Tnext       Tset sequence_Id      Rad            \\\n",
       "zone                     singleroom singleroom             bathroom bedroom_1   \n",
       "uniqueday_Id intraday_Id                                                        \n",
       "2020-05-24   19:40:03       21.1625  15.857143           0    False     False   \n",
       "             19:45:03       21.1125  15.857143           0    False     False   \n",
       "             19:50:03       21.1125  15.857143           0    False     False   \n",
       "             19:55:03       21.1125  15.857143           0    False     False   \n",
       "             20:00:04       21.1125  15.857143           0    False     False   \n",
       "...                             ...        ...         ...      ...       ...   \n",
       "2021-05-24   16:45:04       18.8000  16.714286           0    False     False   \n",
       "             16:50:03       18.7875  16.714286           0    False     False   \n",
       "             16:55:03       18.8250  16.714286           0    False     False   \n",
       "             17:00:04       18.8500  16.714286           0    False     False   \n",
       "             17:05:03       18.8500  16.714286           0    False     False   \n",
       "\n",
       "data                                                                        \n",
       "zone                     bedroom_2 bedroom_3 diningroom kitchen livingroom  \n",
       "uniqueday_Id intraday_Id                                                    \n",
       "2020-05-24   19:40:03        False     False      False   False      False  \n",
       "             19:45:03        False     False      False   False      False  \n",
       "             19:50:03        False     False      False   False      False  \n",
       "             19:55:03        False     False      False   False      False  \n",
       "             20:00:04        False     False      False   False      False  \n",
       "...                            ...       ...        ...     ...        ...  \n",
       "2021-05-24   16:45:04        False     False      False   False      False  \n",
       "             16:50:03        False     False      False   False      False  \n",
       "             16:55:03        False     False      False   False      False  \n",
       "             17:00:04        False     False      False   False      False  \n",
       "             17:05:03        False     False      False   False      False  \n",
       "\n",
       "[102192 rows x 38 columns]"
      ]
     },
     "execution_count": 10,
     "metadata": {},
     "output_type": "execute_result"
    }
   ],
   "source": [
    "df"
   ]
  },
  {
   "cell_type": "code",
   "execution_count": 295,
   "metadata": {},
   "outputs": [],
   "source": [
    "mydata={'state':np.empty((10000,288,7)),'Text':np.ones((10000,288,1)),'timestamp':0.05*np.ones((100,288))}"
   ]
  },
  {
   "cell_type": "code",
   "execution_count": 313,
   "metadata": {},
   "outputs": [],
   "source": [
    "mydata['state'][0][0]=np.ones(7)/7\n",
    "\n",
    "T=np.random.rand(8,8)@np.concatenate((mydata['state'][0][0],mydata['Text'][0][0]))"
   ]
  },
  {
   "cell_type": "code",
   "execution_count": 329,
   "metadata": {},
   "outputs": [],
   "source": [
    "def thermalT(state,Text):\n",
    "    T=np.random.rand(8,8)@np.concatenate((state,Text))\n",
    "    return T[:-1]"
   ]
  },
  {
   "cell_type": "code",
   "execution_count": 349,
   "metadata": {},
   "outputs": [
    {
     "data": {
      "text/plain": [
       "array([ 9.29721913,  8.83415811, 13.07461107, 11.63635476, 11.86720758,\n",
       "       12.71355562, 12.80349462])"
      ]
     },
     "execution_count": 349,
     "metadata": {},
     "output_type": "execute_result"
    }
   ],
   "source": [
    "thermalT([i for i in range(7)],[1])"
   ]
  },
  {
   "cell_type": "code",
   "execution_count": 333,
   "metadata": {},
   "outputs": [
    {
     "data": {
      "text/plain": [
       "array([1.22970435, 0.75602013, 1.50883808, 0.59407142, 1.15213874,\n",
       "       1.27019551, 0.69105396])"
      ]
     },
     "execution_count": 333,
     "metadata": {},
     "output_type": "execute_result"
    }
   ],
   "source": [
    "thermalT(mydata['state'][0][0],mydata['Text'][0][0])"
   ]
  },
  {
   "cell_type": "code",
   "execution_count": 406,
   "metadata": {},
   "outputs": [],
   "source": [
    "def simulate(state,Text):\n",
    "    Th = np.empty_like(state)\n",
    "    Th=np.append((Text[0]+5)*[np.ones(7)],Th,axis=0)\n",
    "    for i,out in enumerate(Text):\n",
    "        Th[i+1]=thermalT(state[i],out)\n",
    "    return Th[1:]\n",
    "    "
   ]
  },
  {
   "cell_type": "code",
   "execution_count": 1,
   "metadata": {},
   "outputs": [
    {
     "ename": "NameError",
     "evalue": "name 'mydata' is not defined",
     "output_type": "error",
     "traceback": [
      "\u001b[0;31m---------------------------------------------------------------------------\u001b[0m",
      "\u001b[0;31mNameError\u001b[0m                                 Traceback (most recent call last)",
      "\u001b[0;32m/tmp/ipykernel_121340/3995357362.py\u001b[0m in \u001b[0;36m<module>\u001b[0;34m\u001b[0m\n\u001b[0;32m----> 1\u001b[0;31m \u001b[0mmydata\u001b[0m\u001b[0;34m[\u001b[0m\u001b[0;34m'state'\u001b[0m\u001b[0;34m]\u001b[0m\u001b[0;34m[\u001b[0m\u001b[0;36m0\u001b[0m\u001b[0;34m]\u001b[0m\u001b[0;34m\u001b[0m\u001b[0;34m\u001b[0m\u001b[0m\n\u001b[0m",
      "\u001b[0;31mNameError\u001b[0m: name 'mydata' is not defined"
     ]
    }
   ],
   "source": [
    "mydata['state'][0]"
   ]
  },
  {
   "cell_type": "code",
   "execution_count": 408,
   "metadata": {},
   "outputs": [],
   "source": [
    "test=simulate(mydata['state'][0],mydata['Text'][0])"
   ]
  },
  {
   "cell_type": "code",
   "execution_count": 415,
   "metadata": {},
   "outputs": [
    {
     "data": {
      "text/plain": [
       "10000"
      ]
     },
     "execution_count": 415,
     "metadata": {},
     "output_type": "execute_result"
    }
   ],
   "source": [
    "len(mydata['state'])"
   ]
  },
  {
   "cell_type": "code",
   "execution_count": 420,
   "metadata": {},
   "outputs": [],
   "source": [
    "test=[simulate(mydata['state'][i],mydata['Text'][i]) for i in range(200)]"
   ]
  },
  {
   "cell_type": "code",
   "execution_count": 418,
   "metadata": {},
   "outputs": [
    {
     "data": {
      "text/plain": [
       "array([[1.33316925, 0.91880576, 1.33122348, ..., 1.18195188, 0.62184465,\n",
       "        1.61003864],\n",
       "       [0.63781354, 0.03950834, 0.82094348, ..., 0.39925883, 0.53857943,\n",
       "        0.79132249],\n",
       "       [0.6930081 , 0.0577304 , 0.22652246, ..., 0.99525855, 0.21640336,\n",
       "        0.31451342],\n",
       "       ...,\n",
       "       [0.78685552, 0.1382189 , 0.57728547, ..., 0.02910281, 0.1613586 ,\n",
       "        0.53728538],\n",
       "       [0.11007829, 0.33529494, 0.89013129, ..., 0.23984261, 0.0883408 ,\n",
       "        0.77436914],\n",
       "       [0.96767066, 0.67185636, 0.50775077, ..., 0.13619449, 0.89385052,\n",
       "        0.13008202]])"
      ]
     },
     "execution_count": 418,
     "metadata": {},
     "output_type": "execute_result"
    }
   ],
   "source": [
    "test[0]"
   ]
  },
  {
   "cell_type": "code",
   "execution_count": 323,
   "metadata": {},
   "outputs": [
    {
     "data": {
      "text/plain": [
       "array([1.14285714, 1.14285714, 1.14285714, 1.14285714, 1.14285714,\n",
       "       1.14285714, 1.14285714])"
      ]
     },
     "execution_count": 323,
     "metadata": {},
     "output_type": "execute_result"
    }
   ],
   "source": [
    "thermalT(mydata['state'][0][0],mydata['Text'][0][0])"
   ]
  },
  {
   "cell_type": "markdown",
   "metadata": {},
   "source": [
    "partie ODE (transformer timestamp en fonction)"
   ]
  },
  {
   "cell_type": "code",
   "execution_count": 306,
   "metadata": {},
   "outputs": [],
   "source": [
    "def func(state,t,mycoeff):\n",
    "    T=state+\n",
    "    return state+T[:-1]"
   ]
  },
  {
   "cell_type": "code",
   "execution_count": 312,
   "metadata": {},
   "outputs": [
    {
     "data": {
      "text/plain": [
       "array([0.96571257, 1.70055798, 1.02363828, 1.66491054, 1.74604356,\n",
       "       0.92551689, 1.74049707])"
      ]
     },
     "execution_count": 312,
     "metadata": {},
     "output_type": "execute_result"
    }
   ],
   "source": [
    "transition(mydata['state'][0][0],mydata['Text'][0][0])"
   ]
  },
  {
   "cell_type": "code",
   "execution_count": 278,
   "metadata": {},
   "outputs": [
    {
     "ename": "SyntaxError",
     "evalue": "invalid syntax (40535140.py, line 3)",
     "output_type": "error",
     "traceback": [
      "\u001b[0;36m  File \u001b[0;32m\"/tmp/ipykernel_33170/40535140.py\"\u001b[0;36m, line \u001b[0;32m3\u001b[0m\n\u001b[0;31m    dydt=\u001b[0m\n\u001b[0m         ^\u001b[0m\n\u001b[0;31mSyntaxError\u001b[0m\u001b[0;31m:\u001b[0m invalid syntax\n"
     ]
    }
   ],
   "source": [
    "def deriv(y,t):\n",
    "    #dsdt = np.random.rand(7,7)@state\n",
    "    dydt=\n",
    "    return dydt\n",
    "y0=[0,0,0,0,0,0,0]\n",
    "t = np.linspace(0, 10, 101)\n",
    "odeint(deriv,y0,mydata['timestamp'][0],args=())"
   ]
  }
 ],
 "metadata": {
  "interpreter": {
   "hash": "5a7bf3cfd2ed08f1933314b2d159a2ae145dd71feaf7ab861b0b1c02b10e7830"
  },
  "kernelspec": {
   "display_name": "Python 3.9.7 64-bit ('MPC': venv)",
   "language": "python",
   "name": "python3"
  },
  "language_info": {
   "codemirror_mode": {
    "name": "ipython",
    "version": 3
   },
   "file_extension": ".py",
   "mimetype": "text/x-python",
   "name": "python",
   "nbconvert_exporter": "python",
   "pygments_lexer": "ipython3",
   "version": "3.9.7"
  },
  "orig_nbformat": 4
 },
 "nbformat": 4,
 "nbformat_minor": 2
}
