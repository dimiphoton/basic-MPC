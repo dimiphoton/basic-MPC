{
 "cells": [
  {
   "cell_type": "code",
   "execution_count": 1,
   "metadata": {},
   "outputs": [],
   "source": [
    "%reload_ext autoreload\n",
    "import os\n",
    "import pandas as pd\n",
    "import numpy as np\n",
    "from datetime import datetime, timedelta\n",
    "import glob\n",
    "from pathlib import Path\n",
    "import matplotlib.pyplot as plt\n",
    "import random\n",
    "from scipy.fft import fft, ifft\n",
    "from sklearn.model_selection import train_test_split"
   ]
  },
  {
   "cell_type": "markdown",
   "metadata": {},
   "source": [
    "CE NOTEBOOK CREE UN DATAFRAME (index:day, timestamp)"
   ]
  },
  {
   "cell_type": "code",
   "execution_count": 2,
   "metadata": {},
   "outputs": [],
   "source": [
    "import sys\n",
    "sys.path.append('C:/Users/DimiP/Documents/GitHub/ULG/COURS/basic-MPC/data/raw')\n",
    "%reload_ext autoreload"
   ]
  },
  {
   "cell_type": "code",
   "execution_count": 3,
   "metadata": {},
   "outputs": [],
   "source": [
    "big_df=pd.read_csv('C:/Users/DimiP/Documents/GitHub/ULG/COURS/basic-MPC/data/raw/big_df.csv')"
   ]
  },
  {
   "cell_type": "code",
   "execution_count": 4,
   "metadata": {},
   "outputs": [],
   "source": [
    "big_df[\"Id_D\"] = str('Y')+big_df['year'].astype(str) + str('D') + big_df['number_D'].astype(str)\n",
    "listeId=big_df[\"Id_D\"].to_list()\n",
    "df=big_df[big_df['timestep']<500].set_index(['Id_D','time'])"
   ]
  },
  {
   "cell_type": "code",
   "execution_count": 11,
   "metadata": {},
   "outputs": [],
   "source": [
    "train_ix, test_ix = train_test_split(df.index.levels[0], test_size=0.3)\n",
    "train = df.loc[train_ix]\n",
    "test = df.loc[test_ix]"
   ]
  },
  {
   "cell_type": "code",
   "execution_count": 12,
   "metadata": {},
   "outputs": [],
   "source": [
    "train.to_csv (r'C:\\Users\\DimiP\\Documents\\GitHub\\ULG\\COURS\\basic-MPC\\data\\processed\\train.csv', index = True, header=True)\n",
    "test.to_csv (r'C:\\Users\\DimiP\\Documents\\GitHub\\ULG\\COURS\\basic-MPC\\data\\processed\\test.csv', index = True, header=True)\n"
   ]
  },
  {
   "cell_type": "code",
   "execution_count": 15,
   "metadata": {},
   "outputs": [],
   "source": [
    "test=pd.read_csv(r'C:\\Users\\DimiP\\Documents\\GitHub\\ULG\\COURS\\basic-MPC\\data\\processed\\bigdf.csv',index_col=[0,1])"
   ]
  }
 ],
 "metadata": {
  "interpreter": {
   "hash": "1bad0e764b7b78e90df435379757be34e92cde288690747ceb89569370fca115"
  },
  "kernelspec": {
   "display_name": "Python 3.9.7 64-bit ('bigdataproject': conda)",
   "language": "python",
   "name": "python3"
  },
  "language_info": {
   "codemirror_mode": {
    "name": "ipython",
    "version": 3
   },
   "file_extension": ".py",
   "mimetype": "text/x-python",
   "name": "python",
   "nbconvert_exporter": "python",
   "pygments_lexer": "ipython3",
   "version": "3.9.5"
  },
  "orig_nbformat": 2
 },
 "nbformat": 4,
 "nbformat_minor": 2
}
