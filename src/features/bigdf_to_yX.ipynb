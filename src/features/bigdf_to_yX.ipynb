{
 "cells": [
  {
   "cell_type": "code",
   "execution_count": 1,
   "metadata": {},
   "outputs": [],
   "source": [
    "import os\r\n",
    "import pandas as pd\r\n",
    "import numpy as np\r\n",
    "from datetime import datetime, timedelta\r\n",
    "import glob\r\n",
    "from pathlib import Path\r\n",
    "import matplotlib.pyplot as plt\r\n",
    "import random\r\n",
    "from scipy.fft import fft, ifft"
   ]
  },
  {
   "cell_type": "code",
   "execution_count": 3,
   "metadata": {},
   "outputs": [],
   "source": [
    "import sys\r\n",
    "sys.path.append('C:/Users/DimiP/Documents/GitHub/ULG/COURS/basic-MPC/data/raw')\r\n",
    "%reload_ext autoreload"
   ]
  },
  {
   "cell_type": "code",
   "execution_count": 34,
   "metadata": {},
   "outputs": [],
   "source": [
    "big_df=pd.read_csv('C:/Users/DimiP/Documents/GitHub/ULG/COURS/basic-MPC/data/raw/big_df.csv',index_col='time')"
   ]
  },
  {
   "cell_type": "code",
   "execution_count": 62,
   "metadata": {},
   "outputs": [
    {
     "name": "stderr",
     "output_type": "stream",
     "text": [
      "C:\\Users\\DimiP\\AppData\\Local\\Temp/ipykernel_27696/1532810263.py:2: SettingWithCopyWarning: \n",
      "A value is trying to be set on a copy of a slice from a DataFrame.\n",
      "Try using .loc[row_indexer,col_indexer] = value instead\n",
      "\n",
      "See the caveats in the documentation: https://pandas.pydata.org/pandas-docs/stable/user_guide/indexing.html#returning-a-view-versus-a-copy\n",
      "  df[\"Id_D\"] = str('Y')+df['year'].astype(str) + str('D') + df['number_D'].astype(str)\n"
     ]
    }
   ],
   "source": [
    "df=big_df[big_df['timestep']<500]\r\n",
    "df[\"Id_D\"] = str('Y')+df['year'].astype(str) + str('D') + df['number_D'].astype(str)"
   ]
  },
  {
   "cell_type": "code",
   "execution_count": 65,
   "metadata": {},
   "outputs": [],
   "source": [
    "singlezonedf=df.copy()\r\n",
    "singlezonedf=df.copy().drop(['multizone_mesT','multizone_setT','multizone_nextT','number_D'],axis=1)\r\n",
    "multizonedf=df.copy()\r\n",
    "multizonedf=df.copy().drop(['singlezone_mesT','singlezone_setT','singlezone_nextT','number_D'],axis=1)"
   ]
  },
  {
   "cell_type": "code",
   "execution_count": 66,
   "metadata": {},
   "outputs": [
    {
     "data": {
      "text/html": "<div>\n<style scoped>\n    .dataframe tbody tr th:only-of-type {\n        vertical-align: middle;\n    }\n\n    .dataframe tbody tr th {\n        vertical-align: top;\n    }\n\n    .dataframe thead th {\n        text-align: right;\n    }\n</style>\n<table border=\"1\" class=\"dataframe\">\n  <thead>\n    <tr style=\"text-align: right;\">\n      <th></th>\n      <th>perc_D</th>\n      <th>week_D</th>\n      <th>year</th>\n      <th>outside_mesT</th>\n      <th>singlezone_mesT</th>\n      <th>singlezone_setT</th>\n      <th>singlezone_nextT</th>\n      <th>timestep</th>\n      <th>Id_D</th>\n    </tr>\n    <tr>\n      <th>time</th>\n      <th></th>\n      <th></th>\n      <th></th>\n      <th></th>\n      <th></th>\n      <th></th>\n      <th></th>\n      <th></th>\n      <th></th>\n    </tr>\n  </thead>\n  <tbody>\n    <tr>\n      <th>2020-05-24 19:40:03</th>\n      <td>0.819479</td>\n      <td>sunday</td>\n      <td>2020</td>\n      <td>14.0</td>\n      <td>22.185714</td>\n      <td>15.857143</td>\n      <td>22.185714</td>\n      <td>300.0</td>\n      <td>Y2020D145</td>\n    </tr>\n  </tbody>\n</table>\n</div>",
      "text/plain": "                       perc_D  week_D  year  outside_mesT  singlezone_mesT  \\\ntime                                                                         \n2020-05-24 19:40:03  0.819479  sunday  2020          14.0        22.185714   \n\n                     singlezone_setT  singlezone_nextT  timestep       Id_D  \ntime                                                                         \n2020-05-24 19:40:03        15.857143         22.185714     300.0  Y2020D145  "
     },
     "execution_count": 66,
     "metadata": {},
     "output_type": "execute_result"
    }
   ],
   "source": [
    "singlezonedf.head(1)"
   ]
  },
  {
   "cell_type": "code",
   "execution_count": 78,
   "metadata": {},
   "outputs": [],
   "source": [
    "UniqueDays = singlezonedf.Id_D.unique()\r\n",
    "dict1 = {elem : pd.DataFrame for elem in UniqueDays}\r\n",
    "\r\n",
    "for key in dict1.keys():\r\n",
    "    dict1[key] = singlezonedf[:][singlezonedf.Id_D == key].drop(['Id_D'],axis=1)\r\n",
    "    dict1[key].to_csv('C:/Users/DimiP/Documents/GitHub/ULG/COURS/basic-MPC/data/processed/singlezone/'+key+'.csv')"
   ]
  },
  {
   "cell_type": "code",
   "execution_count": 79,
   "metadata": {},
   "outputs": [],
   "source": [
    "UniqueDays2 = multizonedf.Id_D.unique()\r\n",
    "dict2 = {elem : pd.DataFrame for elem in UniqueDays2}\r\n",
    "\r\n",
    "for key in dict2.keys():\r\n",
    "    dict2[key] = multizonedf[:][multizonedf.Id_D == key].drop(['Id_D'],axis=1)\r\n",
    "    dict2[key].to_csv('C:/Users/DimiP/Documents/GitHub/ULG/COURS/basic-MPC/data/processed/multizone/'+key+'.csv')"
   ]
  },
  {
   "cell_type": "code",
   "execution_count": 83,
   "metadata": {},
   "outputs": [
    {
     "data": {
      "text/plain": "perc_D                                               0.819479\nweek_D                                                 sunday\nyear                                                     2020\nmultizone_mesT     [21.8, 22.5, 22.4, 21.7, 22.0, 22.0, 22.9]\nmultizone_setT     [16.0, 16.0, 16.0, 15.0, 16.0, 16.0, 16.0]\noutside_mesT                                             14.0\nmultizone_nextT    [21.8, 22.5, 22.4, 21.7, 22.0, 22.0, 22.9]\ntimestep                                                300.0\nName: 2020-05-24 19:40:03, dtype: object"
     },
     "execution_count": 83,
     "metadata": {},
     "output_type": "execute_result"
    }
   ],
   "source": [
    "dict2['Y2020D145'].iloc[0]"
   ]
  }
 ],
 "metadata": {
  "kernelspec": {
   "display_name": "Python 3.9.7 64-bit ('bigdataproject': conda)",
   "name": "python397jvsc74a57bd0cbfc53ad4f2fa7e0d14288d3fb4f5137b2b627ba0faf177bd227d8c7033cb555"
  },
  "language_info": {
   "codemirror_mode": {
    "name": "ipython",
    "version": 3
   },
   "file_extension": ".py",
   "mimetype": "text/x-python",
   "name": "python",
   "nbconvert_exporter": "python",
   "pygments_lexer": "ipython3",
   "version": "3.9.7"
  },
  "orig_nbformat": 2
 },
 "nbformat": 4,
 "nbformat_minor": 2
}